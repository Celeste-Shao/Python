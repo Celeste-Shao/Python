{
 "cells": [
  {
   "cell_type": "markdown",
   "metadata": {},
   "source": [
    "# Simulation and Statistical Inference"
   ]
  },
  {
   "cell_type": "markdown",
   "metadata": {},
   "source": [
    "Today, we will cover simulation modeling and statistical inference in Python, using the numpy.random and scipy.stats packages.\n",
    "\n",
    "Friendly Reminders:\n",
    "\n",
    "* Project Showcase on Thursday, 5/10 (last day of class)"
   ]
  },
  {
   "cell_type": "code",
   "execution_count": 1,
   "metadata": {},
   "outputs": [
    {
     "name": "stdout",
     "output_type": "stream",
     "text": [
      "Populating the interactive namespace from numpy and matplotlib\n"
     ]
    }
   ],
   "source": [
    "%pylab inline\n",
    "import pandas as pd\n",
    "import scipy.stats as ss"
   ]
  },
  {
   "cell_type": "markdown",
   "metadata": {},
   "source": [
    "## NumPy and SciPy for Simulation"
   ]
  },
  {
   "cell_type": "markdown",
   "metadata": {},
   "source": [
    "There are two primary sub-packages that contain functionality for generating observations from probability distributions (*random variates*), which is the foundation for simulation modeling:\n",
    "\n",
    "* **numpy.random** - Contains many of the most common distributions, along with functionality for controlling the state of the internal random number generator (see https://docs.scipy.org/doc/numpy-1.14.0/reference/routines.random.html for additional details)\n",
    "\n",
    "* **scipy.stats** - Much larger package that includes a larger library of probability distributions, along with functionality for computing descriptive statistics, performing statistical tests and various other types of statistical analysis (see https://docs.scipy.org/doc/scipy/reference/stats.html for additional details)"
   ]
  },
  {
   "cell_type": "markdown",
   "metadata": {},
   "source": [
    "The functionality within numpy.random--as we have seen already--is fairly straightforward to use for the purposes of generating random variates."
   ]
  },
  {
   "cell_type": "code",
   "execution_count": 2,
   "metadata": {},
   "outputs": [
    {
     "data": {
      "image/png": "[encoded data removed]",
      "text/plain": [
       "<Figure size 432x288 with 1 Axes>"
      ]
     },
     "metadata": {
      "needs_background": "light"
     },
     "output_type": "display_data"
    }
   ],
   "source": [
    "# X ~ Exponential(1)\n",
    "x = np.random.exponential(scale=1, size=1000)\n",
    "plt.hist(x);"
   ]
  },
  {
   "cell_type": "markdown",
   "metadata": {},
   "source": [
    "In scipy.stats, each distribution is an instance of a class that contains a lot of methods for working with probability distributions, such as:\n",
    "\n",
    "* .rvs - method for generating random variates from the distribution\n",
    "* .pdf - method for calculating probability density function values ($f(x)$)\n",
    "* .cdf - method for calculating cumulative density function values ($F(x)$)\n",
    "* .ppf - method for calculating quantile values from the cumulative density function\n",
    "* .fit - method for estimating the best distributional parameters to fit a given sample of data\n",
    "\n",
    "as well as functions for computing specific statistics for the paramaterized distribution (e.g., .mean, .median, .var, .std). "
   ]
  },
  {
   "cell_type": "code",
   "execution_count": 3,
   "metadata": {},
   "outputs": [
    {
     "data": {
      "image/png": "[encoded data removed]",
      "text/plain": [
       "<Figure size 432x288 with 1 Axes>"
      ]
     },
     "metadata": {
      "needs_background": "light"
     },
     "output_type": "display_data"
    }
   ],
   "source": [
    "# X ~ Exponential(1)\n",
    "x = ss.expon.rvs(loc=0, scale=1, size=1000)\n",
    "plt.hist(x);"
   ]
  },
  {
   "cell_type": "code",
   "execution_count": 4,
   "metadata": {},
   "outputs": [
    {
     "name": "stdout",
     "output_type": "stream",
     "text": [
      "The best fit parameters for the exponential distribution are loc=0.0000 and scale=0.9820.\n"
     ]
    }
   ],
   "source": [
    "# Fit distribution\n",
    "print('The best fit parameters for the exponential distribution are loc=%.4f and scale=%.4f.' % ss.expon.fit(x))"
   ]
  },
  {
   "cell_type": "markdown",
   "metadata": {},
   "source": [
    "We will now explore an example of how these tools could be used to support decision making in a simulation scenario."
   ]
  },
  {
   "cell_type": "markdown",
   "metadata": {
    "collapsed": true
   },
   "source": [
    "## D.C. Housing"
   ]
  },
  {
   "cell_type": "markdown",
   "metadata": {
    "collapsed": true
   },
   "source": [
    "Mr. Grand Diggs wants to build and sell a house on a plot of land he owns.\n",
    "\n",
    "**Key Challenge** - Real estate market is volatile:\n",
    "\n",
    "* Uncertainty in construction costs\n",
    "* Uncertainty in time to sell\n",
    "* Uncertainty in selling price\n",
    "\n",
    "**Goal**: Use simulation to help Mr. Diggs determine what size house to build in order to maximize his expected profit."
   ]
  },
  {
   "cell_type": "code",
   "execution_count": 5,
   "metadata": {},
   "outputs": [],
   "source": [
    "# Define number of replications\n",
    "N = 1000"
   ]
  },
  {
   "cell_type": "code",
   "execution_count": 6,
   "metadata": {},
   "outputs": [],
   "source": [
    "# Specify square footage of house\n",
    "sqft = 2500"
   ]
  },
  {
   "cell_type": "code",
   "execution_count": 7,
   "metadata": {},
   "outputs": [
    {
     "data": {
      "image/png": "[encoded data removed]",
      "text/plain": [
       "<Figure size 432x288 with 1 Axes>"
      ]
     },
     "metadata": {
      "needs_background": "light"
     },
     "output_type": "display_data"
    }
   ],
   "source": [
    "# Construction costs per square foot ~ Triangular(135, 155, 185) dollars per square foot\n",
    "costs_sqft = np.random.triangular(left=135, mode=155, right=185, size=N)\n",
    "plt.hist(costs_sqft)\n",
    "plt.xlabel('Construction Costs (\\$ per sq. ft.)')\n",
    "plt.ylabel('Frequency');"
   ]
  },
  {
   "cell_type": "code",
   "execution_count": 8,
   "metadata": {},
   "outputs": [],
   "source": [
    "# Total construction costs\n",
    "costs = sqft * costs_sqft"
   ]
  },
  {
   "cell_type": "code",
   "execution_count": 9,
   "metadata": {},
   "outputs": [
    {
     "data": {
      "image/png": "[encoded data removed]",
      "text/plain": [
       "<Figure size 432x288 with 1 Axes>"
      ]
     },
     "metadata": {
      "needs_background": "light"
     },
     "output_type": "display_data"
    }
   ],
   "source": [
    "# Time to sell ~ Discrete distribution\n",
    "months = range(1, 13)\n",
    "p = [0.16, 0.22, 0.18, 0.11, 0.08, 0.06, 0.05, 0.05, 0.03, 0.03, 0.02, 0.01]\n",
    "t = np.random.choice(a=months, p=p, size=N)\n",
    "plt.hist(t, bins=months)\n",
    "plt.xlabel('Time to sell (months)')\n",
    "plt.ylabel('Frequency');"
   ]
  },
  {
   "cell_type": "code",
   "execution_count": 10,
   "metadata": {},
   "outputs": [
    {
     "data": {
      "text/plain": [
       "230.0"
      ]
     },
     "execution_count": 10,
     "metadata": {},
     "output_type": "execute_result"
    }
   ],
   "source": [
    "# Initial asking price per square foot\n",
    "initial_asking_sqft = 280 - 0.02 * sqft\n",
    "initial_asking_sqft"
   ]
  },
  {
   "cell_type": "code",
   "execution_count": 11,
   "metadata": {},
   "outputs": [
    {
     "data": {
      "text/plain": [
       "575000.0"
      ]
     },
     "execution_count": 11,
     "metadata": {},
     "output_type": "execute_result"
    }
   ],
   "source": [
    "# Initial asking price\n",
    "initial_asking = sqft * initial_asking_sqft\n",
    "initial_asking"
   ]
  },
  {
   "cell_type": "code",
   "execution_count": 12,
   "metadata": {},
   "outputs": [],
   "source": [
    "# Initial asking price at time of sale\n",
    "pct_reduction = 0.01 # per month\n",
    "initial_offer = initial_asking * (1 - t * pct_reduction)"
   ]
  },
  {
   "cell_type": "code",
   "execution_count": 13,
   "metadata": {},
   "outputs": [
    {
     "data": {
      "image/png": "[encoded data removed]",
      "text/plain": [
       "<Figure size 432x288 with 1 Axes>"
      ]
     },
     "metadata": {
      "needs_background": "light"
     },
     "output_type": "display_data"
    }
   ],
   "source": [
    "# Negotations\n",
    "pct_off_asking = np.random.triangular(left=0., mode=0.04, right=0.10, size=N)\n",
    "plt.hist(100 * pct_off_asking)\n",
    "plt.xlabel('Percent Off Asking Price')\n",
    "plt.ylabel('Frequency');"
   ]
  },
  {
   "cell_type": "code",
   "execution_count": 14,
   "metadata": {},
   "outputs": [],
   "source": [
    "# Final Sale\n",
    "sales = initial_offer * (1 - pct_off_asking)"
   ]
  },
  {
   "cell_type": "code",
   "execution_count": 15,
   "metadata": {},
   "outputs": [
    {
     "data": {
      "image/png": "[encoded data removed]",
      "text/plain": [
       "<Figure size 432x288 with 1 Axes>"
      ]
     },
     "metadata": {
      "needs_background": "light"
     },
     "output_type": "display_data"
    }
   ],
   "source": [
    "# Profit\n",
    "profit = sales - costs\n",
    "plt.hist(profit)\n",
    "plt.xlabel('Profit')\n",
    "plt.ylabel('Frequency');"
   ]
  },
  {
   "cell_type": "code",
   "execution_count": 16,
   "metadata": {},
   "outputs": [
    {
     "data": {
      "text/plain": [
       "count      1000.000000\n",
       "mean     131244.346557\n",
       "std       31399.205919\n",
       "min       38609.204432\n",
       "25%      108205.821241\n",
       "50%      132712.952450\n",
       "75%      154253.436721\n",
       "max      212899.071824\n",
       "dtype: float64"
      ]
     },
     "execution_count": 16,
     "metadata": {},
     "output_type": "execute_result"
    }
   ],
   "source": [
    "# Profit Summary Statistics\n",
    "pd.Series(profit).describe()"
   ]
  },
  {
   "cell_type": "markdown",
   "metadata": {
    "collapsed": true
   },
   "source": [
    "Let's define a function that simulates the profit Mr. Diggs will earn for a given house size and number of replications."
   ]
  },
  {
   "cell_type": "code",
   "execution_count": 17,
   "metadata": {},
   "outputs": [],
   "source": [
    "def sim_profit(sqft=2500, N=1000, sflag=False):\n",
    "    # Set random state\n",
    "    if sflag:\n",
    "        np.random.seed(12345)\n",
    "    \n",
    "    # Construction costs\n",
    "    costs_sqft = np.random.triangular(left=135, mode=155, right=185, size=N)\n",
    "    costs = sqft * costs_sqft\n",
    "    \n",
    "    # Time to sell\n",
    "    months = range(1, 13)\n",
    "    p = [0.16, 0.22, 0.18, 0.11, 0.08, 0.06, 0.05, 0.05, 0.03, 0.03, 0.02, 0.01]\n",
    "    t = np.random.choice(a=months, p=p, size=N)\n",
    "    \n",
    "    # Initial asking price\n",
    "    initial_asking_sqft = 280 - 0.02 * sqft\n",
    "    initial_asking = sqft * initial_asking_sqft\n",
    "    \n",
    "    pct_reduction = 0.01 # per month\n",
    "    initial_offer = initial_asking * (1 - t * pct_reduction)\n",
    "    \n",
    "    # Negotations\n",
    "    pct_off_asking = np.random.triangular(left=0., mode=0.04, right=0.10, size=N)\n",
    "    sales = initial_offer * (1 - pct_off_asking)\n",
    "    \n",
    "    # Profit\n",
    "    profit = sales - costs\n",
    "    \n",
    "    return profit"
   ]
  },
  {
   "cell_type": "code",
   "execution_count": 18,
   "metadata": {},
   "outputs": [
    {
     "data": {
      "image/png": "[encoded data removed]",
      "text/plain": [
       "<Figure size 432x288 with 1 Axes>"
      ]
     },
     "metadata": {
      "needs_background": "light"
     },
     "output_type": "display_data"
    }
   ],
   "source": [
    "# Test function\n",
    "profit = sim_profit()\n",
    "plt.hist(profit)\n",
    "plt.xlabel('Profit')\n",
    "plt.ylabel('Frequency');"
   ]
  },
  {
   "cell_type": "code",
   "execution_count": 19,
   "metadata": {},
   "outputs": [
    {
     "data": {
      "text/plain": [
       "count      1000.000000\n",
       "mean     130877.833296\n",
       "std       32546.598591\n",
       "min       31587.707580\n",
       "25%      107577.407638\n",
       "50%      132839.215724\n",
       "75%      154345.690896\n",
       "max      217267.362062\n",
       "dtype: float64"
      ]
     },
     "execution_count": 19,
     "metadata": {},
     "output_type": "execute_result"
    }
   ],
   "source": [
    "# Profit Summary Statistics\n",
    "pd.Series(profit).describe()"
   ]
  },
  {
   "cell_type": "markdown",
   "metadata": {
    "collapsed": true
   },
   "source": [
    "Now, let's use our function to perform sensitivity analysis on the size of the house to build:"
   ]
  },
  {
   "cell_type": "code",
   "execution_count": 20,
   "metadata": {},
   "outputs": [],
   "source": [
    "sqfts = np.arange(2000,3100,100)\n",
    "results = {sqft:sim_profit(sqft=sqft, sflag=True) for sqft in sqfts}"
   ]
  },
  {
   "cell_type": "code",
   "execution_count": 21,
   "metadata": {},
   "outputs": [
    {
     "data": {
      "text/html": [
       "<div>\n",
       "<style scoped>\n",
       "    .dataframe tbody tr th:only-of-type {\n",
       "        vertical-align: middle;\n",
       "    }\n",
       "\n",
       "    .dataframe tbody tr th {\n",
       "        vertical-align: top;\n",
       "    }\n",
       "\n",
       "    .dataframe thead th {\n",
       "        text-align: right;\n",
       "    }\n",
       "</style>\n",
       "<table border=\"1\" class=\"dataframe\">\n",
       "  <thead>\n",
       "    <tr style=\"text-align: right;\">\n",
       "      <th></th>\n",
       "      <th>2000</th>\n",
       "      <th>2100</th>\n",
       "      <th>2200</th>\n",
       "      <th>2300</th>\n",
       "      <th>2400</th>\n",
       "      <th>2500</th>\n",
       "      <th>2600</th>\n",
       "      <th>2700</th>\n",
       "      <th>2800</th>\n",
       "      <th>2900</th>\n",
       "      <th>3000</th>\n",
       "    </tr>\n",
       "  </thead>\n",
       "  <tbody>\n",
       "    <tr>\n",
       "      <th>0</th>\n",
       "      <td>81707.077590</td>\n",
       "      <td>82019.807241</td>\n",
       "      <td>81973.239347</td>\n",
       "      <td>81567.373907</td>\n",
       "      <td>80802.210922</td>\n",
       "      <td>79677.750391</td>\n",
       "      <td>78193.992315</td>\n",
       "      <td>76350.936693</td>\n",
       "      <td>74148.583526</td>\n",
       "      <td>71586.932813</td>\n",
       "      <td>68665.984554</td>\n",
       "    </tr>\n",
       "    <tr>\n",
       "      <th>1</th>\n",
       "      <td>129821.696566</td>\n",
       "      <td>132503.069942</td>\n",
       "      <td>134821.613655</td>\n",
       "      <td>136777.327707</td>\n",
       "      <td>138370.212097</td>\n",
       "      <td>139600.266824</td>\n",
       "      <td>140467.491889</td>\n",
       "      <td>140971.887292</td>\n",
       "      <td>141113.453033</td>\n",
       "      <td>140892.189112</td>\n",
       "      <td>140308.095529</td>\n",
       "    </tr>\n",
       "    <tr>\n",
       "      <th>2</th>\n",
       "      <td>124084.519653</td>\n",
       "      <td>126603.176916</td>\n",
       "      <td>128770.827634</td>\n",
       "      <td>130587.471808</td>\n",
       "      <td>132053.109437</td>\n",
       "      <td>133167.740522</td>\n",
       "      <td>133931.365062</td>\n",
       "      <td>134343.983057</td>\n",
       "      <td>134405.594507</td>\n",
       "      <td>134116.199413</td>\n",
       "      <td>133475.797774</td>\n",
       "    </tr>\n",
       "    <tr>\n",
       "      <th>3</th>\n",
       "      <td>91596.332903</td>\n",
       "      <td>92761.888637</td>\n",
       "      <td>93602.276664</td>\n",
       "      <td>94117.496986</td>\n",
       "      <td>94307.549601</td>\n",
       "      <td>94172.434511</td>\n",
       "      <td>93712.151715</td>\n",
       "      <td>92926.701213</td>\n",
       "      <td>91816.083005</td>\n",
       "      <td>90380.297091</td>\n",
       "      <td>88619.343472</td>\n",
       "    </tr>\n",
       "    <tr>\n",
       "      <th>4</th>\n",
       "      <td>103978.472262</td>\n",
       "      <td>105475.703267</td>\n",
       "      <td>106620.392119</td>\n",
       "      <td>107412.538818</td>\n",
       "      <td>107852.143363</td>\n",
       "      <td>107939.205756</td>\n",
       "      <td>107673.725995</td>\n",
       "      <td>107055.704081</td>\n",
       "      <td>106085.140014</td>\n",
       "      <td>104762.033794</td>\n",
       "      <td>103086.385421</td>\n",
       "    </tr>\n",
       "  </tbody>\n",
       "</table>\n",
       "</div>"
      ],
      "text/plain": [
       "            2000           2100           2200           2300           2400  \\\n",
       "0   81707.077590   82019.807241   81973.239347   81567.373907   80802.210922   \n",
       "1  129821.696566  132503.069942  134821.613655  136777.327707  138370.212097   \n",
       "2  124084.519653  126603.176916  128770.827634  130587.471808  132053.109437   \n",
       "3   91596.332903   92761.888637   93602.276664   94117.496986   94307.549601   \n",
       "4  103978.472262  105475.703267  106620.392119  107412.538818  107852.143363   \n",
       "\n",
       "            2500           2600           2700           2800           2900  \\\n",
       "0   79677.750391   78193.992315   76350.936693   74148.583526   71586.932813   \n",
       "1  139600.266824  140467.491889  140971.887292  141113.453033  140892.189112   \n",
       "2  133167.740522  133931.365062  134343.983057  134405.594507  134116.199413   \n",
       "3   94172.434511   93712.151715   92926.701213   91816.083005   90380.297091   \n",
       "4  107939.205756  107673.725995  107055.704081  106085.140014  104762.033794   \n",
       "\n",
       "            3000  \n",
       "0   68665.984554  \n",
       "1  140308.095529  \n",
       "2  133475.797774  \n",
       "3   88619.343472  \n",
       "4  103086.385421  "
      ]
     },
     "execution_count": 21,
     "metadata": {},
     "output_type": "execute_result"
    }
   ],
   "source": [
    "df = pd.DataFrame(results)\n",
    "df.head()"
   ]
  },
  {
   "cell_type": "code",
   "execution_count": 22,
   "metadata": {},
   "outputs": [
    {
     "data": {
      "text/html": [
       "<div>\n",
       "<style scoped>\n",
       "    .dataframe tbody tr th:only-of-type {\n",
       "        vertical-align: middle;\n",
       "    }\n",
       "\n",
       "    .dataframe tbody tr th {\n",
       "        vertical-align: top;\n",
       "    }\n",
       "\n",
       "    .dataframe thead th {\n",
       "        text-align: right;\n",
       "    }\n",
       "</style>\n",
       "<table border=\"1\" class=\"dataframe\">\n",
       "  <thead>\n",
       "    <tr style=\"text-align: right;\">\n",
       "      <th></th>\n",
       "      <th>2000</th>\n",
       "      <th>2100</th>\n",
       "      <th>2200</th>\n",
       "      <th>2300</th>\n",
       "      <th>2400</th>\n",
       "      <th>2500</th>\n",
       "      <th>2600</th>\n",
       "      <th>2700</th>\n",
       "      <th>2800</th>\n",
       "      <th>2900</th>\n",
       "      <th>3000</th>\n",
       "    </tr>\n",
       "  </thead>\n",
       "  <tbody>\n",
       "    <tr>\n",
       "      <th>count</th>\n",
       "      <td>1000.000000</td>\n",
       "      <td>1000.000000</td>\n",
       "      <td>1000.000000</td>\n",
       "      <td>1000.000000</td>\n",
       "      <td>1000.000000</td>\n",
       "      <td>1000.000000</td>\n",
       "      <td>1000.000000</td>\n",
       "      <td>1000.000000</td>\n",
       "      <td>1000.000000</td>\n",
       "      <td>1000.000000</td>\n",
       "      <td>1000.000000</td>\n",
       "    </tr>\n",
       "    <tr>\n",
       "      <th>mean</th>\n",
       "      <td>122574.960370</td>\n",
       "      <td>124857.882268</td>\n",
       "      <td>126774.535012</td>\n",
       "      <td>128324.918602</td>\n",
       "      <td>129509.033037</td>\n",
       "      <td>130326.878318</td>\n",
       "      <td>130778.454445</td>\n",
       "      <td>130863.761418</td>\n",
       "      <td>130582.799236</td>\n",
       "      <td>129935.567900</td>\n",
       "      <td>128922.067410</td>\n",
       "    </tr>\n",
       "    <tr>\n",
       "      <th>std</th>\n",
       "      <td>25830.212873</td>\n",
       "      <td>27040.777193</td>\n",
       "      <td>28244.066090</td>\n",
       "      <td>29440.142787</td>\n",
       "      <td>30629.071248</td>\n",
       "      <td>31810.916175</td>\n",
       "      <td>32985.743021</td>\n",
       "      <td>34153.617995</td>\n",
       "      <td>35314.608063</td>\n",
       "      <td>36468.780959</td>\n",
       "      <td>37616.205185</td>\n",
       "    </tr>\n",
       "    <tr>\n",
       "      <th>min</th>\n",
       "      <td>48528.304757</td>\n",
       "      <td>47518.854267</td>\n",
       "      <td>46182.178469</td>\n",
       "      <td>44518.277363</td>\n",
       "      <td>42527.150950</td>\n",
       "      <td>40208.799229</td>\n",
       "      <td>37563.222201</td>\n",
       "      <td>34590.419866</td>\n",
       "      <td>31290.392223</td>\n",
       "      <td>27587.742225</td>\n",
       "      <td>23516.216621</td>\n",
       "    </tr>\n",
       "    <tr>\n",
       "      <th>25%</th>\n",
       "      <td>104581.185983</td>\n",
       "      <td>106057.526766</td>\n",
       "      <td>107209.571008</td>\n",
       "      <td>107995.971233</td>\n",
       "      <td>108301.062392</td>\n",
       "      <td>108304.815367</td>\n",
       "      <td>107964.375328</td>\n",
       "      <td>107113.346847</td>\n",
       "      <td>106065.303515</td>\n",
       "      <td>104711.310954</td>\n",
       "      <td>103071.316566</td>\n",
       "    </tr>\n",
       "    <tr>\n",
       "      <th>50%</th>\n",
       "      <td>123666.076255</td>\n",
       "      <td>125955.303030</td>\n",
       "      <td>127993.278061</td>\n",
       "      <td>129636.332612</td>\n",
       "      <td>130921.254808</td>\n",
       "      <td>131811.911973</td>\n",
       "      <td>132257.026734</td>\n",
       "      <td>132264.842131</td>\n",
       "      <td>131994.442657</td>\n",
       "      <td>131246.326361</td>\n",
       "      <td>130157.573166</td>\n",
       "    </tr>\n",
       "    <tr>\n",
       "      <th>75%</th>\n",
       "      <td>142006.562105</td>\n",
       "      <td>145218.805090</td>\n",
       "      <td>148071.164493</td>\n",
       "      <td>150554.176462</td>\n",
       "      <td>152625.029923</td>\n",
       "      <td>154334.772656</td>\n",
       "      <td>155647.375351</td>\n",
       "      <td>156566.354313</td>\n",
       "      <td>157097.863051</td>\n",
       "      <td>157244.257350</td>\n",
       "      <td>157090.410649</td>\n",
       "    </tr>\n",
       "    <tr>\n",
       "      <th>max</th>\n",
       "      <td>183657.667316</td>\n",
       "      <td>188831.445743</td>\n",
       "      <td>193623.404652</td>\n",
       "      <td>198033.544043</td>\n",
       "      <td>202061.863916</td>\n",
       "      <td>205708.364271</td>\n",
       "      <td>208973.045108</td>\n",
       "      <td>211855.906427</td>\n",
       "      <td>214356.948228</td>\n",
       "      <td>216476.170511</td>\n",
       "      <td>218213.573276</td>\n",
       "    </tr>\n",
       "  </tbody>\n",
       "</table>\n",
       "</div>"
      ],
      "text/plain": [
       "                2000           2100           2200           2300  \\\n",
       "count    1000.000000    1000.000000    1000.000000    1000.000000   \n",
       "mean   122574.960370  124857.882268  126774.535012  128324.918602   \n",
       "std     25830.212873   27040.777193   28244.066090   29440.142787   \n",
       "min     48528.304757   47518.854267   46182.178469   44518.277363   \n",
       "25%    104581.185983  106057.526766  107209.571008  107995.971233   \n",
       "50%    123666.076255  125955.303030  127993.278061  129636.332612   \n",
       "75%    142006.562105  145218.805090  148071.164493  150554.176462   \n",
       "max    183657.667316  188831.445743  193623.404652  198033.544043   \n",
       "\n",
       "                2400           2500           2600           2700  \\\n",
       "count    1000.000000    1000.000000    1000.000000    1000.000000   \n",
       "mean   129509.033037  130326.878318  130778.454445  130863.761418   \n",
       "std     30629.071248   31810.916175   32985.743021   34153.617995   \n",
       "min     42527.150950   40208.799229   37563.222201   34590.419866   \n",
       "25%    108301.062392  108304.815367  107964.375328  107113.346847   \n",
       "50%    130921.254808  131811.911973  132257.026734  132264.842131   \n",
       "75%    152625.029923  154334.772656  155647.375351  156566.354313   \n",
       "max    202061.863916  205708.364271  208973.045108  211855.906427   \n",
       "\n",
       "                2800           2900           3000  \n",
       "count    1000.000000    1000.000000    1000.000000  \n",
       "mean   130582.799236  129935.567900  128922.067410  \n",
       "std     35314.608063   36468.780959   37616.205185  \n",
       "min     31290.392223   27587.742225   23516.216621  \n",
       "25%    106065.303515  104711.310954  103071.316566  \n",
       "50%    131994.442657  131246.326361  130157.573166  \n",
       "75%    157097.863051  157244.257350  157090.410649  \n",
       "max    214356.948228  216476.170511  218213.573276  "
      ]
     },
     "execution_count": 22,
     "metadata": {},
     "output_type": "execute_result"
    }
   ],
   "source": [
    "# Summarize results for each size house\n",
    "df.describe()"
   ]
  },
  {
   "cell_type": "code",
   "execution_count": 23,
   "metadata": {},
   "outputs": [
    {
     "data": {
      "image/png": "[encoded data removed]",
      "text/plain": [
       "<Figure size 864x576 with 1 Axes>"
      ]
     },
     "metadata": {
      "needs_background": "light"
     },
     "output_type": "display_data"
    }
   ],
   "source": [
    "# Visualize results\n",
    "df.describe().loc[['min','mean','max']].T.plot(kind='line', figsize=(12,8));"
   ]
  },
  {
   "cell_type": "markdown",
   "metadata": {},
   "source": [
    "## Statistical Inference"
   ]
  },
  {
   "cell_type": "markdown",
   "metadata": {},
   "source": [
    "As mentioned previously, statistical inference in Python is primarily facilitated by **scipy.stats**. Let's revisit our Lending Club sample data for this analysis."
   ]
  },
  {
   "cell_type": "code",
   "execution_count": 25,
   "metadata": {},
   "outputs": [
    {
     "data": {
      "text/html": [
       "<div>\n",
       "<style scoped>\n",
       "    .dataframe tbody tr th:only-of-type {\n",
       "        vertical-align: middle;\n",
       "    }\n",
       "\n",
       "    .dataframe tbody tr th {\n",
       "        vertical-align: top;\n",
       "    }\n",
       "\n",
       "    .dataframe thead th {\n",
       "        text-align: right;\n",
       "    }\n",
       "</style>\n",
       "<table border=\"1\" class=\"dataframe\">\n",
       "  <thead>\n",
       "    <tr style=\"text-align: right;\">\n",
       "      <th></th>\n",
       "      <th>id</th>\n",
       "      <th>loan_amnt</th>\n",
       "      <th>term</th>\n",
       "      <th>int_rate</th>\n",
       "    </tr>\n",
       "  </thead>\n",
       "  <tbody>\n",
       "    <tr>\n",
       "      <th>0</th>\n",
       "      <td>55441634</td>\n",
       "      <td>18000.0</td>\n",
       "      <td>60 months</td>\n",
       "      <td>17.86</td>\n",
       "    </tr>\n",
       "    <tr>\n",
       "      <th>1</th>\n",
       "      <td>38595688</td>\n",
       "      <td>18000.0</td>\n",
       "      <td>60 months</td>\n",
       "      <td>16.49</td>\n",
       "    </tr>\n",
       "    <tr>\n",
       "      <th>2</th>\n",
       "      <td>38455988</td>\n",
       "      <td>16000.0</td>\n",
       "      <td>36 months</td>\n",
       "      <td>12.69</td>\n",
       "    </tr>\n",
       "    <tr>\n",
       "      <th>3</th>\n",
       "      <td>40362356</td>\n",
       "      <td>4000.0</td>\n",
       "      <td>36 months</td>\n",
       "      <td>12.39</td>\n",
       "    </tr>\n",
       "    <tr>\n",
       "      <th>4</th>\n",
       "      <td>54207722</td>\n",
       "      <td>6000.0</td>\n",
       "      <td>36 months</td>\n",
       "      <td>7.89</td>\n",
       "    </tr>\n",
       "  </tbody>\n",
       "</table>\n",
       "</div>"
      ],
      "text/plain": [
       "         id  loan_amnt        term  int_rate\n",
       "0  55441634    18000.0   60 months     17.86\n",
       "1  38595688    18000.0   60 months     16.49\n",
       "2  38455988    16000.0   36 months     12.69\n",
       "3  40362356     4000.0   36 months     12.39\n",
       "4  54207722     6000.0   36 months      7.89"
      ]
     },
     "execution_count": 25,
     "metadata": {},
     "output_type": "execute_result"
    }
   ],
   "source": [
    "# Load Lending Club data\n",
    "path = '/Users/charmain/Desktop/Master Degree/Term 2/Data Processing & Analysis in Python/Data Files/'\n",
    "df = pd.read_csv(path + 'lendingclub_sample.csv')\n",
    "\n",
    "# Select\n",
    "df = df[['id','loan_amnt','term','int_rate']]\n",
    "\n",
    "# Basic data processing - Remove % from int_rate variable, convert to float\n",
    "df['int_rate'] = df['int_rate'].str.rstrip('%').astype(float)\n",
    "\n",
    "# Preview data\n",
    "df.head()"
   ]
  },
  {
   "cell_type": "markdown",
   "metadata": {},
   "source": [
    "Let's compute a 99% confidence interval estimate for the mean interest rate in the training data set. Unfortunately, similar to many other programming languages, there is not a built-in function to compute confidence intervals. We still need to rely on our statistical expertise!\n",
    "\n",
    "$100(1-\\alpha)\\%$ Confidence Intervals for the Mean:\n",
    "\n",
    "$\\bar{X} \\pm t_{n-1, 1-\\alpha/2} \\frac{s}{\\sqrt{n}}$\n",
    "\n",
    "We can determine the appropriate t-multiple using **ss.t.ppf** (percent point function). Similarly, for z-multiples (means with known variance or proportions), we can use **ss.norm.ppf**."
   ]
  },
  {
   "cell_type": "code",
   "execution_count": 26,
   "metadata": {},
   "outputs": [
    {
     "data": {
      "text/plain": [
       "(12.732247255325072, 12.803811105255454)"
      ]
     },
     "execution_count": 26,
     "metadata": {},
     "output_type": "execute_result"
    }
   ],
   "source": [
    "# Compute 99% confidence interval for the mean interest rate\n",
    "alpha = 0.01\n",
    "n = len(df)\n",
    "mean = df['int_rate'].mean()\n",
    "s = df['int_rate'].std()\n",
    "t = ss.t.ppf(1 - alpha / 2, df=n-1)\n",
    "(mean - t * s / n ** 0.5, mean + t * s / n ** 0.5)"
   ]
  },
  {
   "cell_type": "markdown",
   "metadata": {},
   "source": [
    "CreditCards.com reported in April 2015 that the national average annual percentage rate across all categories of credit cards was 14.90%. How does the mean interest rate for loans issued through Lending Club compare to this national average?"
   ]
  },
  {
   "cell_type": "code",
   "execution_count": 28,
   "metadata": {},
   "outputs": [
    {
     "data": {
      "text/plain": [
       "Ttest_1sampResult(statistic=-153.47686689295077, pvalue=0.0)"
      ]
     },
     "execution_count": 28,
     "metadata": {},
     "output_type": "execute_result"
    }
   ],
   "source": [
    "# One-sample t-test\n",
    "ss.ttest_1samp(a=df['int_rate'], popmean=14.90)"
   ]
  },
  {
   "cell_type": "markdown",
   "metadata": {},
   "source": [
    "As we observed in our regression analysis, the term of the loan has a significant impact on the associated interest rate. Let's explore the impact of the loan term on the amount of money borrowed."
   ]
  },
  {
   "cell_type": "code",
   "execution_count": 29,
   "metadata": {},
   "outputs": [
    {
     "data": {
      "image/png": "[encoded data removed]",
      "text/plain": [
       "<Figure size 576x432 with 1 Axes>"
      ]
     },
     "metadata": {
      "needs_background": "light"
     },
     "output_type": "display_data"
    }
   ],
   "source": [
    "# Visualize distribution of loan amounts as a function of term\n",
    "df.boxplot(column='loan_amnt', by='term', flierprops={'marker': '.'}, figsize=(8,6))\n",
    "plt.xlabel('')\n",
    "plt.ylabel('Loan Amount (\\$)')\n",
    "plt.title('')\n",
    "plt.suptitle('');"
   ]
  },
  {
   "cell_type": "code",
   "execution_count": 30,
   "metadata": {},
   "outputs": [
    {
     "data": {
      "text/plain": [
       "term\n",
       " 36 months    8030.618181\n",
       " 60 months    7320.135867\n",
       "Name: loan_amnt, dtype: float64"
      ]
     },
     "execution_count": 30,
     "metadata": {},
     "output_type": "execute_result"
    }
   ],
   "source": [
    "# Evaluate equal variance assumption\n",
    "df.groupby('term')['loan_amnt'].std()"
   ]
  },
  {
   "cell_type": "code",
   "execution_count": 31,
   "metadata": {},
   "outputs": [
    {
     "data": {
      "text/plain": [
       "Ttest_indResult(statistic=-145.23663686108986, pvalue=0.0)"
      ]
     },
     "execution_count": 31,
     "metadata": {},
     "output_type": "execute_result"
    }
   ],
   "source": [
    "# Two-sample t-test\n",
    "ss.ttest_ind(a=df['loan_amnt'][df['term'] == ' 36 months'], \n",
    "             b=df['loan_amnt'][df['term'] == ' 60 months'], equal_var=False)"
   ]
  },
  {
   "cell_type": "markdown",
   "metadata": {},
   "source": [
    "## Next Time: Project Showcase!!"
   ]
  }
 ],
 "metadata": {
  "anaconda-cloud": {},
  "kernelspec": {
   "display_name": "Python 3",
   "language": "python",
   "name": "python3"
  },
  "language_info": {
   "codemirror_mode": {
    "name": "ipython",
    "version": 3
   },
   "file_extension": ".py",
   "mimetype": "text/x-python",
   "name": "python",
   "nbconvert_exporter": "python",
   "pygments_lexer": "ipython3",
   "version": "3.6.8"
  }
 },
 "nbformat": 4,
 "nbformat_minor": 1
}
