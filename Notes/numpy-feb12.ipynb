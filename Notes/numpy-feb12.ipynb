{
 "cells": [
  {
   "cell_type": "markdown",
   "metadata": {
    "collapsed": true
   },
   "source": [
    "# NumPy"
   ]
  },
  {
   "cell_type": "markdown",
   "metadata": {},
   "source": [
    "**NumPy**--which stands for Numerical Python--is the foundational package for performing scientific computing. In addition, it provides the primary data structure--*the n-dimensional array*--on which the **pandas** package is built. NumPy includes extensive functionality, but we will use it primarily for:\n",
    "\n",
    "* Fast (vectorized) array operations for data processing\n",
    "* Efficient descriptive statistics\n",
    "* Manipulations for merging multiple data sets\n",
    "\n",
    "Friendly reminders:\n",
    "\n",
    "* NumPy module on DataCamp is due by 11:59 p.m. tonight\n",
    "* Homework #1 is due by 11:59 p.m. tonight\n",
    "* Homework #2 is released"
   ]
  },
  {
   "cell_type": "code",
   "execution_count": 1,
   "metadata": {},
   "outputs": [],
   "source": [
    "# Import statement\n",
    "import numpy as np"
   ]
  },
  {
   "cell_type": "markdown",
   "metadata": {},
   "source": [
    "## ndarrays"
   ]
  },
  {
   "cell_type": "markdown",
   "metadata": {},
   "source": [
    "The ndarray is an n-dimensional array object, similar to a list but designed to facilitate fast computation. However, in order for arrays to be useful, they must hold a single type of object. We will mostly focus on numerical (int, float) and boolean arrays.\n",
    "\n",
    "Arrays will most likely be loaded from external data sources (later), but for now, we can create them via casting (using the np.**array** function) or using one of the following generating functions (or class of functions):\n",
    "\n",
    "* np.**arange**(*start*, *stop*, *step*) (similar to range function for lists)\n",
    "* np.**zeros**(*shape*), np.**ones**(*shape*) (where *shape* is a sequence of dimension sizes)\n",
    "* np.random.**rand**(*d0*,*d1*,...,*dn*) (where *d0*,*d1*,...,*dn* are dimension sizes)  #generate random numbers between 0 to 1\n",
    "* np.random.**randn**(*d0*,*d1*,...,*dn*) (where *d0*,*d1*,...,*dn* are dimension sizes)  # generate norm distribution random numbers"
   ]
  },
  {
   "cell_type": "code",
   "execution_count": 2,
   "metadata": {},
   "outputs": [
    {
     "data": {
      "text/plain": [
       "array([ 1,  5, -1,  2,  4])"
      ]
     },
     "execution_count": 2,
     "metadata": {},
     "output_type": "execute_result"
    }
   ],
   "source": [
    "# Casting from list\n",
    "np.array([1,5,-1,2,4])"
   ]
  },
  {
   "cell_type": "code",
   "execution_count": 3,
   "metadata": {},
   "outputs": [
    {
     "data": {
      "text/plain": [
       "array([0, 1, 2, 3, 4, 5, 6, 7, 8, 9])"
      ]
     },
     "execution_count": 3,
     "metadata": {},
     "output_type": "execute_result"
    }
   ],
   "source": [
    "# np.arange\n",
    "arr1d = np.arange(10)\n",
    "arr1d"
   ]
  },
  {
   "cell_type": "code",
   "execution_count": 4,
   "metadata": {},
   "outputs": [
    {
     "data": {
      "text/plain": [
       "array([[1., 1., 1., 1., 1., 1., 1., 1., 1., 1.],\n",
       "       [1., 1., 1., 1., 1., 1., 1., 1., 1., 1.],\n",
       "       [1., 1., 1., 1., 1., 1., 1., 1., 1., 1.],\n",
       "       [1., 1., 1., 1., 1., 1., 1., 1., 1., 1.],\n",
       "       [1., 1., 1., 1., 1., 1., 1., 1., 1., 1.]])"
      ]
     },
     "execution_count": 4,
     "metadata": {},
     "output_type": "execute_result"
    }
   ],
   "source": [
    "# np.ones, np.zeros\n",
    "np.ones((5,10))"
   ]
  },
  {
   "cell_type": "code",
   "execution_count": 10,
   "metadata": {},
   "outputs": [
    {
     "data": {
      "text/plain": [
       "array([[0.23483023, 0.47199961, 0.13463609],\n",
       "       [0.72457856, 0.86141043, 0.75618108],\n",
       "       [0.62588673, 0.29679832, 0.55415876]])"
      ]
     },
     "execution_count": 10,
     "metadata": {},
     "output_type": "execute_result"
    }
   ],
   "source": [
    "# np.random.rand, np.random.randn\n",
    "arr2d = np.random.rand(3,3)   ## rand: random between 0 to 1    randn: normal distribution random numbers\n",
    "arr2d"
   ]
  },
  {
   "cell_type": "code",
   "execution_count": 16,
   "metadata": {},
   "outputs": [
    {
     "name": "stdout",
     "output_type": "stream",
     "text": [
      "2\n",
      "(3, 3)\n",
      "float64\n"
     ]
    }
   ],
   "source": [
    "# Common attributes\n",
    "print(arr2d.ndim) # number of dimensions\n",
    "print(arr2d.shape) # shape of array\n",
    "print(arr2d.dtype) # data type"
   ]
  },
  {
   "cell_type": "code",
   "execution_count": 15,
   "metadata": {},
   "outputs": [
    {
     "data": {
      "text/plain": [
       "array([0., 1., 2., 3., 4., 5., 6., 7., 8., 9.])"
      ]
     },
     "execution_count": 15,
     "metadata": {},
     "output_type": "execute_result"
    }
   ],
   "source": [
    "# Casting to other dtypes\n",
    "np.arange(10).astype(float)"
   ]
  },
  {
   "cell_type": "code",
   "execution_count": 14,
   "metadata": {},
   "outputs": [
    {
     "ename": "AttributeError",
     "evalue": "'numpy.ndarray' object has no attribute 'dri'",
     "output_type": "error",
     "traceback": [
      "\u001b[0;31m---------------------------------------------------------------------------\u001b[0m",
      "\u001b[0;31mAttributeError\u001b[0m                            Traceback (most recent call last)",
      "\u001b[0;32m<ipython-input-14-2a38912596d8>\u001b[0m in \u001b[0;36m<module>\u001b[0;34m\u001b[0m\n\u001b[1;32m      1\u001b[0m \u001b[0;31m# Tab completion\u001b[0m\u001b[0;34m\u001b[0m\u001b[0;34m\u001b[0m\u001b[0;34m\u001b[0m\u001b[0m\n\u001b[0;32m----> 2\u001b[0;31m \u001b[0marr1d\u001b[0m\u001b[0;34m.\u001b[0m\u001b[0mdri\u001b[0m\u001b[0;34m\u001b[0m\u001b[0;34m\u001b[0m\u001b[0m\n\u001b[0m",
      "\u001b[0;31mAttributeError\u001b[0m: 'numpy.ndarray' object has no attribute 'dri'"
     ]
    }
   ],
   "source": [
    "# Tab completion\n",
    "arr1d."
   ]
  },
  {
   "cell_type": "markdown",
   "metadata": {},
   "source": [
    "See https://docs.scipy.org/doc/numpy/reference/generated/numpy.ndarray.html for additional details on ndarray objects."
   ]
  },
  {
   "cell_type": "markdown",
   "metadata": {},
   "source": [
    "## Array Operations"
   ]
  },
  {
   "cell_type": "markdown",
   "metadata": {},
   "source": [
    "As previously stated, arrays are designed to support fast computation and comparison. The most common type of operations are:\n",
    "\n",
    "* Between arrays and scalars\n",
    "* Universal functions (np.func)\n",
    "    - Unary (performed on a single array): abs, sqrt, exp, log, ceil, floor, logical_not, and more\n",
    "    - Binary (performed between two arrays): +, -, /, *, **, min, max, mod, >, >=, <, <=, ==, !=, logical_and, logical_or, logical_xor\n",
    "* Mathematical and statistical functions - Available as NumPy functions (np.func) and array methods (arr.func)\n",
    "    - Aggregation: mean, sum, std, var, min/max, argmin/argmax\n",
    "    - Non-aggregation: cumsum, cumprod"
   ]
  },
  {
   "cell_type": "code",
   "execution_count": 17,
   "metadata": {},
   "outputs": [
    {
     "data": {
      "text/plain": [
       "array([[1.23483023, 1.47199961, 1.13463609],\n",
       "       [1.72457856, 1.86141043, 1.75618108],\n",
       "       [1.62588673, 1.29679832, 1.55415876]])"
      ]
     },
     "execution_count": 17,
     "metadata": {},
     "output_type": "execute_result"
    }
   ],
   "source": [
    "# Broadcasting with a scalar\n",
    "arr2d + 1   ## add 1 for every object inside arr2d"
   ]
  },
  {
   "cell_type": "code",
   "execution_count": 20,
   "metadata": {},
   "outputs": [
    {
     "data": {
      "text/plain": [
       "array([[1.23483023, 2.47199961, 3.13463609],\n",
       "       [1.72457856, 2.86141043, 3.75618108],\n",
       "       [1.62588673, 2.29679832, 3.55415876]])"
      ]
     },
     "execution_count": 20,
     "metadata": {},
     "output_type": "execute_result"
    }
   ],
   "source": [
    "# Broadcasting with 1-d array\n",
    "arr2d + [1,2,3]   ## add 1 for first column numbers, add 2 for 2nd column, and add 3 for 3rd column"
   ]
  },
  {
   "cell_type": "code",
   "execution_count": 21,
   "metadata": {},
   "outputs": [
    {
     "data": {
      "text/plain": [
       "array([[False, False, False],\n",
       "       [ True,  True,  True],\n",
       "       [ True, False,  True]])"
      ]
     },
     "execution_count": 21,
     "metadata": {},
     "output_type": "execute_result"
    }
   ],
   "source": [
    "# Comparison with a scalar\n",
    "arr2d > 0.5    ## element by elemnt comparison"
   ]
  },
  {
   "cell_type": "code",
   "execution_count": 22,
   "metadata": {},
   "outputs": [
    {
     "data": {
      "text/plain": [
       "array([[0.48459285, 0.68702228, 0.36692791],\n",
       "       [0.85122181, 0.92812199, 0.86958673],\n",
       "       [0.79113003, 0.544792  , 0.7444184 ]])"
      ]
     },
     "execution_count": 22,
     "metadata": {},
     "output_type": "execute_result"
    }
   ],
   "source": [
    "# Unary functions\n",
    "np.sqrt(arr2d)"
   ]
  },
  {
   "cell_type": "code",
   "execution_count": 23,
   "metadata": {},
   "outputs": [
    {
     "data": {
      "text/plain": [
       "array([[0.05514524, 0.22278363, 0.01812688],\n",
       "       [0.5250141 , 0.74202792, 0.57180983],\n",
       "       [0.39173419, 0.08808925, 0.30709193]])"
      ]
     },
     "execution_count": 23,
     "metadata": {},
     "output_type": "execute_result"
    }
   ],
   "source": [
    "# Binary functions\n",
    "arr2d * arr2d   ## same as np.sqr"
   ]
  },
  {
   "cell_type": "code",
   "execution_count": 29,
   "metadata": {},
   "outputs": [
    {
     "name": "stdout",
     "output_type": "stream",
     "text": [
      "0.517831090123908\n",
      "[0.52843184 0.54340279 0.48165864]\n"
     ]
    },
    {
     "data": {
      "text/plain": [
       "array([0.28048864, 0.78072336, 0.49228127])"
      ]
     },
     "execution_count": 29,
     "metadata": {},
     "output_type": "execute_result"
    }
   ],
   "source": [
    "# Aggregation function\n",
    "print(np.mean(arr2d))     ## mean of the entire array\n",
    "print(np.mean(arr2d, axis = 0))  ## column mean\n",
    "np.mean(arr2d, axis =1)   ## row mean (mean across columns)"
   ]
  },
  {
   "cell_type": "code",
   "execution_count": 30,
   "metadata": {},
   "outputs": [
    {
     "data": {
      "text/plain": [
       "array([0.23483023, 0.70682984, 0.84146593, 1.56604449, 2.42745492,\n",
       "       3.183636  , 3.80952273, 4.10632105, 4.66047981])"
      ]
     },
     "execution_count": 30,
     "metadata": {},
     "output_type": "execute_result"
    }
   ],
   "source": [
    "# Non-aggregation function\n",
    "arr2d.cumsum()  ## cumulative sum"
   ]
  },
  {
   "cell_type": "markdown",
   "metadata": {},
   "source": [
    "## Arrays vs. Lists"
   ]
  },
  {
   "cell_type": "markdown",
   "metadata": {},
   "source": [
    "Arrays may seem similar to lists (e.g., they are both mutable and iterable sequences), but they are distinct data structures. Be sure to use an array whenever you are performing any large scale computations or comparisons."
   ]
  },
  {
   "cell_type": "code",
   "execution_count": 31,
   "metadata": {},
   "outputs": [
    {
     "name": "stdout",
     "output_type": "stream",
     "text": [
      "[0, 1, 2, 3, 4, 5, 6, 7, 8, 9, 0, 1, 2, 3, 4, 5, 6, 7, 8, 9]\n",
      "[0, 1, 2, 3, 4, 5, 6, 7, 8, 9, 0, 1, 2, 3, 4, 5, 6, 7, 8, 9, 0, 1, 2, 3, 4, 5, 6, 7, 8, 9]\n"
     ]
    }
   ],
   "source": [
    "# List operations\n",
    "L = list(range(10))\n",
    "print(L + L)\n",
    "print(L * 3)"
   ]
  },
  {
   "cell_type": "code",
   "execution_count": 32,
   "metadata": {},
   "outputs": [
    {
     "name": "stdout",
     "output_type": "stream",
     "text": [
      "[ 0  2  4  6  8 10 12 14 16 18]\n",
      "[ 0  3  6  9 12 15 18 21 24 27]\n"
     ]
    }
   ],
   "source": [
    "# Array operations\n",
    "arr = np.arange(10)\n",
    "print(arr + arr);\n",
    "print(arr * 3);"
   ]
  },
  {
   "cell_type": "code",
   "execution_count": 33,
   "metadata": {},
   "outputs": [
    {
     "name": "stdout",
     "output_type": "stream",
     "text": [
      "715 ns ± 25.7 ns per loop (mean ± std. dev. of 5 runs, 10000 loops each)\n"
     ]
    }
   ],
   "source": [
    "%%timeit -r5 -n10000\n",
    "# List computation - for loop\n",
    "squares = []\n",
    "for x in L:\n",
    "    squares.append(x)"
   ]
  },
  {
   "cell_type": "code",
   "execution_count": 34,
   "metadata": {},
   "outputs": [
    {
     "name": "stdout",
     "output_type": "stream",
     "text": [
      "172 ns ± 5.42 ns per loop (mean ± std. dev. of 5 runs, 10000 loops each)\n"
     ]
    }
   ],
   "source": [
    "# List computation - map\n",
    "lf = lambda x: x * x\n",
    "%timeit -r5 -n10000 map(lf, L)"
   ]
  },
  {
   "cell_type": "code",
   "execution_count": 35,
   "metadata": {},
   "outputs": [
    {
     "name": "stdout",
     "output_type": "stream",
     "text": [
      "614 ns ± 42 ns per loop (mean ± std. dev. of 5 runs, 10000 loops each)\n"
     ]
    }
   ],
   "source": [
    "# List computation - list comprehension\n",
    "%timeit -r5 -n10000 [x * x  for x in L]"
   ]
  },
  {
   "cell_type": "code",
   "execution_count": 36,
   "metadata": {},
   "outputs": [
    {
     "name": "stdout",
     "output_type": "stream",
     "text": [
      "292 ns ± 19.9 ns per loop (mean ± std. dev. of 5 runs, 10000 loops each)\n"
     ]
    }
   ],
   "source": [
    "# List computation - generator expression\n",
    "%timeit -r5 -n10000 (x * x  for x in L)"
   ]
  },
  {
   "cell_type": "code",
   "execution_count": 37,
   "metadata": {},
   "outputs": [
    {
     "name": "stdout",
     "output_type": "stream",
     "text": [
      "799 ns ± 331 ns per loop (mean ± std. dev. of 5 runs, 10000 loops each)\n",
      "593 ns ± 14.8 ns per loop (mean ± std. dev. of 5 runs, 10000 loops each)\n",
      "441 ns ± 8.3 ns per loop (mean ± std. dev. of 5 runs, 10000 loops each)\n"
     ]
    }
   ],
   "source": [
    "# Array computations\n",
    "%timeit -r5 -n10000 arr ** 2\n",
    "%timeit -r5 -n10000 np.square(arr)\n",
    "%timeit -r5 -n10000 arr * arr"
   ]
  },
  {
   "cell_type": "markdown",
   "metadata": {},
   "source": [
    "In addition, lists do not have restrictions on the size of nested sequences, whereas arrays have restrictions for constructing a useful form of the object."
   ]
  },
  {
   "cell_type": "code",
   "execution_count": 39,
   "metadata": {},
   "outputs": [
    {
     "data": {
      "text/plain": [
       "[[1, 2, 3], [4, 5, 6, 7], [8, 9]]"
      ]
     },
     "execution_count": 39,
     "metadata": {},
     "output_type": "execute_result"
    }
   ],
   "source": [
    "[[1,2,3],[4,5,6,7],[8,9]]"
   ]
  },
  {
   "cell_type": "code",
   "execution_count": 38,
   "metadata": {},
   "outputs": [
    {
     "data": {
      "text/plain": [
       "array([[1, 2, 3],\n",
       "       [4, 5, 6],\n",
       "       [7, 8, 9]])"
      ]
     },
     "execution_count": 38,
     "metadata": {},
     "output_type": "execute_result"
    }
   ],
   "source": [
    "np.array([[1,2,3],[4,5,6],[7,8,9]])"
   ]
  },
  {
   "cell_type": "markdown",
   "metadata": {},
   "source": [
    "## Indexing and Slicing"
   ]
  },
  {
   "cell_type": "markdown",
   "metadata": {},
   "source": [
    "Indexing and slicing arrays is similar to lists..."
   ]
  },
  {
   "cell_type": "code",
   "execution_count": 40,
   "metadata": {},
   "outputs": [
    {
     "name": "stdout",
     "output_type": "stream",
     "text": [
      "5\n",
      "9\n",
      "[5 6 7]\n",
      "[0 2 4 6 8]\n"
     ]
    }
   ],
   "source": [
    "print(arr[5])\n",
    "print(arr[-1])\n",
    "print(arr[5:8])\n",
    "print(arr[::2])"
   ]
  },
  {
   "cell_type": "markdown",
   "metadata": {},
   "source": [
    "...but unlike lists, array slices are views on the original array, so any updates to the array slice will be reflected in the original array. Consider the following example, in which we combine indexing with assignment (which also works as you would expect)."
   ]
  },
  {
   "cell_type": "code",
   "execution_count": 41,
   "metadata": {},
   "outputs": [
    {
     "name": "stdout",
     "output_type": "stream",
     "text": [
      "[-10, 6, 7] [0, 1, 2, 3, 4, 5, 6, 7, 8, 9]\n"
     ]
    }
   ],
   "source": [
    "list_slice = L[5:8]\n",
    "list_slice[0] = -10\n",
    "print(list_slice, L)"
   ]
  },
  {
   "cell_type": "code",
   "execution_count": 42,
   "metadata": {},
   "outputs": [
    {
     "name": "stdout",
     "output_type": "stream",
     "text": [
      "[-10   6   7] [  0   1   2   3   4 -10   6   7   8   9]\n"
     ]
    }
   ],
   "source": [
    "arr_slice = arr[5:8]\n",
    "arr_slice[0] = -10\n",
    "print(arr_slice, arr)"
   ]
  },
  {
   "cell_type": "markdown",
   "metadata": {},
   "source": [
    "Indexing via index and boolean arrays are convenient ways of filtering an array. In this case, these operations return a copy of the array, as opposed to a view on the original array as in the case of slicing."
   ]
  },
  {
   "cell_type": "code",
   "execution_count": 43,
   "metadata": {},
   "outputs": [
    {
     "data": {
      "text/plain": [
       "array([1, 0, 1, 3, 9, 9])"
      ]
     },
     "execution_count": 43,
     "metadata": {},
     "output_type": "execute_result"
    }
   ],
   "source": [
    "# Index arrays - Each element in the index array is replaced by the corresponding value in the array\n",
    "arr[np.array([1,0,1,3,9,-1])]"
   ]
  },
  {
   "cell_type": "code",
   "execution_count": 44,
   "metadata": {},
   "outputs": [
    {
     "data": {
      "text/plain": [
       "array([  0, -10])"
      ]
     },
     "execution_count": 44,
     "metadata": {},
     "output_type": "execute_result"
    }
   ],
   "source": [
    "# Boolean arrays - Each element in the array is returned if the corresponding boolean scalar is True\n",
    "arr[np.array([True, False, False, False, False, True, False, False, False, False])]  ## filter data out: only [0] and [5] will be printed"
   ]
  },
  {
   "cell_type": "code",
   "execution_count": 45,
   "metadata": {},
   "outputs": [
    {
     "data": {
      "text/plain": [
       "array([  0, -10])"
      ]
     },
     "execution_count": 45,
     "metadata": {},
     "output_type": "execute_result"
    }
   ],
   "source": [
    "# Filtering via conditional\n",
    "arr[arr % 5 == 0]"
   ]
  },
  {
   "cell_type": "markdown",
   "metadata": {},
   "source": [
    "You can also use boolean arrays to learn about your data."
   ]
  },
  {
   "cell_type": "code",
   "execution_count": 46,
   "metadata": {},
   "outputs": [
    {
     "data": {
      "text/plain": [
       "55"
      ]
     },
     "execution_count": 46,
     "metadata": {},
     "output_type": "execute_result"
    }
   ],
   "source": [
    "# How much of my data satisfies a given condition?\n",
    "arr = np.random.randn(100)\n",
    "(arr > 0).sum()   # how many ture in my dataset"
   ]
  },
  {
   "cell_type": "code",
   "execution_count": 47,
   "metadata": {},
   "outputs": [
    {
     "data": {
      "text/plain": [
       "False"
      ]
     },
     "execution_count": 47,
     "metadata": {},
     "output_type": "execute_result"
    }
   ],
   "source": [
    "# Do any of my data satisfy a given condition?\n",
    "(arr > 3).any()  ## if any one element in dataset satify the condition then true"
   ]
  },
  {
   "cell_type": "code",
   "execution_count": 48,
   "metadata": {},
   "outputs": [
    {
     "data": {
      "text/plain": [
       "True"
      ]
     },
     "execution_count": 48,
     "metadata": {},
     "output_type": "execute_result"
    }
   ],
   "source": [
    "# Do all of my data satisfy a given condition?\n",
    "(np.abs(arr) < 3).all()   ## if every element satisfy the condition"
   ]
  },
  {
   "cell_type": "markdown",
   "metadata": {},
   "source": [
    "Indexing and slicing multi-dimensional arrays is fairly intuitive. Whereas a single dimensional array contains 0-dimensional values (scalars), a 2-dimensional array is an array of 1-d arrays, where the first dimension represents the position of each 1-d array, and the second dimension refers to a specific position within each 1-d array (where all 1-d arrays have the same length). Similarly, a 3-dimension array has 3 dimensions corresponding to the position of each 2-d array, 1-d array, and scalar value, respectively. And so on, for higher dimensions.\n",
    "\n",
    "![](https://i.stack.imgur.com/R2IDC.png \"Multi-dimensional arrays\")\n",
    "\n",
    "When indexing and slicing into an n-d array, each dimension is accessed in order, either via successive indexing or slicing operations or a sequence of dimensional indices or slices. To retain all of the elements for a particular dimension, use the ':' operator."
   ]
  },
  {
   "cell_type": "code",
   "execution_count": 49,
   "metadata": {},
   "outputs": [
    {
     "data": {
      "text/plain": [
       "array([[0.52068396, 0.63403489, 0.45824731],\n",
       "       [0.53835773, 0.07610067, 0.66980914],\n",
       "       [0.0519256 , 0.43324149, 0.58350728]])"
      ]
     },
     "execution_count": 49,
     "metadata": {},
     "output_type": "execute_result"
    }
   ],
   "source": [
    "# 2-d array\n",
    "arr2d = np.random.rand(3,3)\n",
    "arr2d"
   ]
  },
  {
   "cell_type": "code",
   "execution_count": 50,
   "metadata": {},
   "outputs": [
    {
     "name": "stdout",
     "output_type": "stream",
     "text": [
      "0.5206839638237436\n",
      "0.5206839638237436\n"
     ]
    }
   ],
   "source": [
    "# Index specific element\n",
    "print(arr2d[0][0])  # select row and column\n",
    "print(arr2d[0,0])   # same as above"
   ]
  },
  {
   "cell_type": "code",
   "execution_count": 51,
   "metadata": {},
   "outputs": [
    {
     "name": "stdout",
     "output_type": "stream",
     "text": [
      "[0.52068396 0.63403489 0.45824731]\n",
      "[0.52068396 0.63403489 0.45824731]\n"
     ]
    }
   ],
   "source": [
    "# Slice rows\n",
    "print(arr2d[0])\n",
    "print(arr2d[0,:])"
   ]
  },
  {
   "cell_type": "code",
   "execution_count": 52,
   "metadata": {},
   "outputs": [
    {
     "data": {
      "text/plain": [
       "array([0.52068396, 0.53835773, 0.0519256 ])"
      ]
     },
     "execution_count": 52,
     "metadata": {},
     "output_type": "execute_result"
    }
   ],
   "source": [
    "# Slice columns\n",
    "arr2d[:,0]"
   ]
  },
  {
   "cell_type": "code",
   "execution_count": 53,
   "metadata": {},
   "outputs": [
    {
     "data": {
      "text/plain": [
       "array([[0.53835773, 0.07610067],\n",
       "       [0.0519256 , 0.43324149]])"
      ]
     },
     "execution_count": 53,
     "metadata": {},
     "output_type": "execute_result"
    }
   ],
   "source": [
    "# Fancy slicing\n",
    "arr2d[1:,:2]"
   ]
  },
  {
   "cell_type": "code",
   "execution_count": 54,
   "metadata": {},
   "outputs": [
    {
     "data": {
      "text/plain": [
       "array([[[0.68572388, 0.34399131, 0.20556249],\n",
       "        [0.65885308, 0.06291251, 0.61209549],\n",
       "        [0.11964807, 0.97046737, 0.68329246]],\n",
       "\n",
       "       [[0.64938707, 0.7397151 , 0.49798026],\n",
       "        [0.75373745, 0.77099798, 0.1404894 ],\n",
       "        [0.22500644, 0.66407978, 0.77264225]],\n",
       "\n",
       "       [[0.54900963, 0.89507718, 0.08796598],\n",
       "        [0.68733107, 0.23682532, 0.00635225],\n",
       "        [0.73896634, 0.74279378, 0.89796438]]])"
      ]
     },
     "execution_count": 54,
     "metadata": {},
     "output_type": "execute_result"
    }
   ],
   "source": [
    "# 3-d array\n",
    "arr3d = np.random.rand(3,3,3).astype(float)\n",
    "arr3d"
   ]
  },
  {
   "cell_type": "code",
   "execution_count": 55,
   "metadata": {},
   "outputs": [
    {
     "name": "stdout",
     "output_type": "stream",
     "text": [
      "[[0.64938707 0.7397151  0.49798026]\n",
      " [0.75373745 0.77099798 0.1404894 ]\n",
      " [0.22500644 0.66407978 0.77264225]]\n",
      "[[0.64938707 0.7397151  0.49798026]\n",
      " [0.75373745 0.77099798 0.1404894 ]\n",
      " [0.22500644 0.66407978 0.77264225]]\n"
     ]
    }
   ],
   "source": [
    "# Index specific 2-d array\n",
    "print(arr3d[1])\n",
    "print(arr3d[1,:,:])"
   ]
  },
  {
   "cell_type": "code",
   "execution_count": 56,
   "metadata": {},
   "outputs": [
    {
     "data": {
      "text/plain": [
       "array([[0.65885308, 0.06291251, 0.61209549],\n",
       "       [0.75373745, 0.77099798, 0.1404894 ],\n",
       "       [0.68733107, 0.23682532, 0.00635225]])"
      ]
     },
     "execution_count": 56,
     "metadata": {},
     "output_type": "execute_result"
    }
   ],
   "source": [
    "# Slicing 3-d array\n",
    "arr3d[:,1,:]"
   ]
  },
  {
   "cell_type": "markdown",
   "metadata": {},
   "source": [
    "## Other Important Array Methods"
   ]
  },
  {
   "cell_type": "markdown",
   "metadata": {},
   "source": [
    "### Conditional Logic"
   ]
  },
  {
   "cell_type": "markdown",
   "metadata": {},
   "source": [
    "We saw that ternary expressions were a convenient way for us to generate conditional values:\n",
    "\n",
    "*expr1* if *cond* else *expr2*\n",
    "\n",
    "There are several ways to perform this task for a list (which we could then cast to an array):\n",
    "\n",
    "1. Use a **for** loop\n",
    "2. Use **map** with a lambda function\n",
    "3. Use a list comprehension\n",
    "\n",
    "For arrays, we use the np.**where** function!"
   ]
  },
  {
   "cell_type": "code",
   "execution_count": 57,
   "metadata": {},
   "outputs": [],
   "source": [
    "np.where?"
   ]
  },
  {
   "cell_type": "code",
   "execution_count": 58,
   "metadata": {},
   "outputs": [
    {
     "data": {
      "text/plain": [
       "array(['H', 'H', 'H', 'T', 'T', 'H', 'H', 'H', 'H', 'T'], dtype='<U1')"
      ]
     },
     "execution_count": 58,
     "metadata": {},
     "output_type": "execute_result"
    }
   ],
   "source": [
    "# Flip a coin N times\n",
    "N = 10\n",
    "np.where(np.random.rand(N) > 0.5, 'H', 'T')"
   ]
  },
  {
   "cell_type": "code",
   "execution_count": 59,
   "metadata": {},
   "outputs": [
    {
     "data": {
      "text/plain": [
       "array([0., 0., 2., 0., 4., 5., 0., 7., 8., 9.])"
      ]
     },
     "execution_count": 59,
     "metadata": {},
     "output_type": "execute_result"
    }
   ],
   "source": [
    "# Select a value at random\n",
    "N = 10\n",
    "a = np.arange(N)\n",
    "b = np.zeros(N)\n",
    "np.where(np.random.rand(N) > 0.5, a, b)"
   ]
  },
  {
   "cell_type": "code",
   "execution_count": 60,
   "metadata": {},
   "outputs": [
    {
     "data": {
      "text/plain": [
       "array([ 1.,  1.,  1., -1., -1.,  1., -1.,  0., -1., -1.])"
      ]
     },
     "execution_count": 60,
     "metadata": {},
     "output_type": "execute_result"
    }
   ],
   "source": [
    "# Nested conditions\n",
    "N = 10\n",
    "a = np.ones(N)\n",
    "b = np.zeros(N)\n",
    "c = -np.ones(N)\n",
    "np.where(np.random.rand(N) > 2/3, a, np.where(np.random.rand(N) > 1/2, b, c))"
   ]
  },
  {
   "cell_type": "markdown",
   "metadata": {},
   "source": [
    "### Sorting"
   ]
  },
  {
   "cell_type": "code",
   "execution_count": 61,
   "metadata": {},
   "outputs": [
    {
     "data": {
      "text/plain": [
       "array([0.43670632, 0.2970905 , 0.92112231, 0.02198297, 0.99808101,\n",
       "       0.5459343 , 0.78314005, 0.43883047, 0.08058792, 0.70166145])"
      ]
     },
     "execution_count": 61,
     "metadata": {},
     "output_type": "execute_result"
    }
   ],
   "source": [
    "arr = np.random.rand(10)\n",
    "arr"
   ]
  },
  {
   "cell_type": "code",
   "execution_count": 62,
   "metadata": {},
   "outputs": [
    {
     "data": {
      "text/plain": [
       "array([0.02198297, 0.08058792, 0.2970905 , 0.43670632, 0.43883047,\n",
       "       0.5459343 , 0.70166145, 0.78314005, 0.92112231, 0.99808101])"
      ]
     },
     "execution_count": 62,
     "metadata": {},
     "output_type": "execute_result"
    }
   ],
   "source": [
    "# Return a copy of sorted array\n",
    "np.sort(arr)"
   ]
  },
  {
   "cell_type": "code",
   "execution_count": 63,
   "metadata": {},
   "outputs": [
    {
     "data": {
      "text/plain": [
       "array([3, 8, 1, 0, 7, 5, 9, 6, 2, 4])"
      ]
     },
     "execution_count": 63,
     "metadata": {},
     "output_type": "execute_result"
    }
   ],
   "source": [
    "# Return sorting indices\n",
    "arr.argsort()"
   ]
  },
  {
   "cell_type": "code",
   "execution_count": 64,
   "metadata": {},
   "outputs": [
    {
     "data": {
      "text/plain": [
       "array([0.02198297, 0.08058792, 0.2970905 , 0.43670632, 0.43883047,\n",
       "       0.5459343 , 0.70166145, 0.78314005, 0.92112231, 0.99808101])"
      ]
     },
     "execution_count": 64,
     "metadata": {},
     "output_type": "execute_result"
    }
   ],
   "source": [
    "# Sort in place\n",
    "arr.sort()\n",
    "arr"
   ]
  },
  {
   "cell_type": "code",
   "execution_count": 65,
   "metadata": {},
   "outputs": [
    {
     "name": "stdout",
     "output_type": "stream",
     "text": [
      "0.4269404711437208 3\n"
     ]
    }
   ],
   "source": [
    "# Search sorted\n",
    "u = np.random.rand()\n",
    "print(u, arr.searchsorted(u))"
   ]
  },
  {
   "cell_type": "markdown",
   "metadata": {},
   "source": [
    "### Set Logic"
   ]
  },
  {
   "cell_type": "code",
   "execution_count": 66,
   "metadata": {},
   "outputs": [
    {
     "name": "stdout",
     "output_type": "stream",
     "text": [
      "[0 1 2 3 4 5 6 7 8 9] [20 18 16 14 12 10  8  6  4  2]\n"
     ]
    }
   ],
   "source": [
    "arr1 = np.arange(10)\n",
    "arr2 = np.arange(20,0,-2)\n",
    "print(arr1, arr2)"
   ]
  },
  {
   "cell_type": "code",
   "execution_count": 67,
   "metadata": {},
   "outputs": [
    {
     "data": {
      "text/plain": [
       "False"
      ]
     },
     "execution_count": 67,
     "metadata": {},
     "output_type": "execute_result"
    }
   ],
   "source": [
    "# Membership\n",
    "7 in arr2"
   ]
  },
  {
   "cell_type": "code",
   "execution_count": 68,
   "metadata": {},
   "outputs": [
    {
     "name": "stdout",
     "output_type": "stream",
     "text": [
      "[ 0 18 32 42 48 50 48 42 32 18] [ 0 18 32 42 48 50]\n"
     ]
    }
   ],
   "source": [
    "# Unique elements\n",
    "print(arr1 * arr2, np.unique(arr1 * arr2))"
   ]
  },
  {
   "cell_type": "code",
   "execution_count": 69,
   "metadata": {},
   "outputs": [
    {
     "data": {
      "text/plain": [
       "array([ 0,  1,  3,  5,  7,  9, 10, 12, 14, 16, 18, 20])"
      ]
     },
     "execution_count": 69,
     "metadata": {},
     "output_type": "execute_result"
    }
   ],
   "source": [
    "# Comparisons - np.intersect1d, .union1d, setdiff1d, setxor1d\n",
    "np.setxor1d(arr1, arr2)"
   ]
  },
  {
   "cell_type": "markdown",
   "metadata": {},
   "source": [
    "## Manipulating and Combining Arrays"
   ]
  },
  {
   "cell_type": "markdown",
   "metadata": {},
   "source": [
    "Sometimes, you will need to manipulate or combine multiple arrays of data prior to performing any analysis. There are a lot of built-in functions for these purposes. Very rarely will you need to develop your own code."
   ]
  },
  {
   "cell_type": "markdown",
   "metadata": {},
   "source": [
    "#### Manipulating Arrays"
   ]
  },
  {
   "cell_type": "code",
   "execution_count": 70,
   "metadata": {},
   "outputs": [
    {
     "data": {
      "text/plain": [
       "array([0, 1, 2, 3, 4, 5, 6, 7])"
      ]
     },
     "execution_count": 70,
     "metadata": {},
     "output_type": "execute_result"
    }
   ],
   "source": [
    "arr = np.arange(8)\n",
    "arr"
   ]
  },
  {
   "cell_type": "code",
   "execution_count": 71,
   "metadata": {},
   "outputs": [
    {
     "name": "stdout",
     "output_type": "stream",
     "text": [
      "[[0 1 2 3]\n",
      " [4 5 6 7]]\n",
      "[[0 1 2 3]\n",
      " [4 5 6 7]]\n"
     ]
    }
   ],
   "source": [
    "# Reshaping arrays\n",
    "print(arr.reshape((2,4)))\n",
    "print(arr.reshape((2,-1))) # automatically determines the other dimension size"
   ]
  },
  {
   "cell_type": "code",
   "execution_count": 72,
   "metadata": {},
   "outputs": [
    {
     "data": {
      "text/plain": [
       "array([[0, 4],\n",
       "       [1, 5],\n",
       "       [2, 6],\n",
       "       [3, 7]])"
      ]
     },
     "execution_count": 72,
     "metadata": {},
     "output_type": "execute_result"
    }
   ],
   "source": [
    "# Transpose\n",
    "arr.reshape((2,4)).T # Our first example of chaining methods together"
   ]
  },
  {
   "cell_type": "code",
   "execution_count": 73,
   "metadata": {},
   "outputs": [
    {
     "name": "stdout",
     "output_type": "stream",
     "text": [
      "[0 1 2 3 4 5 6 7]\n",
      "[0 4 1 5 2 6 3 7]\n"
     ]
    }
   ],
   "source": [
    "# Flatten\n",
    "print(arr.reshape((2,4)).flatten('C')) # row-major\n",
    "print(arr.reshape((2,4)).flatten('F')) # column-major"
   ]
  },
  {
   "cell_type": "markdown",
   "metadata": {},
   "source": [
    "#### Combining and Splitting Arrays"
   ]
  },
  {
   "cell_type": "code",
   "execution_count": 74,
   "metadata": {},
   "outputs": [
    {
     "name": "stdout",
     "output_type": "stream",
     "text": [
      "[[0.57734861 0.07260167]\n",
      " [0.48240802 0.54893625]\n",
      " [0.27453721 0.15565641]\n",
      " [0.6822756  0.83893043]]\n",
      "[[0.61930725 0.95363611]\n",
      " [0.57956645 0.17446299]\n",
      " [0.83142207 0.11146881]\n",
      " [0.40890042 0.73002812]]\n"
     ]
    }
   ],
   "source": [
    "arr1 = np.random.rand(4,2)\n",
    "arr2 = np.random.rand(4,2)\n",
    "print(arr1)\n",
    "print(arr2)"
   ]
  },
  {
   "cell_type": "code",
   "execution_count": 75,
   "metadata": {},
   "outputs": [
    {
     "data": {
      "text/plain": [
       "array([[0.57734861, 0.07260167],\n",
       "       [0.48240802, 0.54893625],\n",
       "       [0.27453721, 0.15565641],\n",
       "       [0.6822756 , 0.83893043],\n",
       "       [0.61930725, 0.95363611],\n",
       "       [0.57956645, 0.17446299],\n",
       "       [0.83142207, 0.11146881],\n",
       "       [0.40890042, 0.73002812]])"
      ]
     },
     "execution_count": 75,
     "metadata": {},
     "output_type": "execute_result"
    }
   ],
   "source": [
    "# Concatenation by row\n",
    "np.concatenate([arr1, arr2], axis=0)"
   ]
  },
  {
   "cell_type": "code",
   "execution_count": 76,
   "metadata": {},
   "outputs": [
    {
     "data": {
      "text/plain": [
       "array([[0.57734861, 0.07260167],\n",
       "       [0.48240802, 0.54893625],\n",
       "       [0.27453721, 0.15565641],\n",
       "       [0.6822756 , 0.83893043],\n",
       "       [0.61930725, 0.95363611],\n",
       "       [0.57956645, 0.17446299],\n",
       "       [0.83142207, 0.11146881],\n",
       "       [0.40890042, 0.73002812]])"
      ]
     },
     "execution_count": 76,
     "metadata": {},
     "output_type": "execute_result"
    }
   ],
   "source": [
    "# Stacking rows\n",
    "np.vstack([arr1, arr2]) # also, np.row_stack"
   ]
  },
  {
   "cell_type": "code",
   "execution_count": 77,
   "metadata": {},
   "outputs": [
    {
     "data": {
      "text/plain": [
       "array([[0.57734861, 0.07260167, 0.61930725, 0.95363611],\n",
       "       [0.48240802, 0.54893625, 0.57956645, 0.17446299],\n",
       "       [0.27453721, 0.15565641, 0.83142207, 0.11146881],\n",
       "       [0.6822756 , 0.83893043, 0.40890042, 0.73002812]])"
      ]
     },
     "execution_count": 77,
     "metadata": {},
     "output_type": "execute_result"
    }
   ],
   "source": [
    "# Concatenate by column\n",
    "np.concatenate([arr1, arr2], axis=1)"
   ]
  },
  {
   "cell_type": "code",
   "execution_count": 78,
   "metadata": {},
   "outputs": [
    {
     "data": {
      "text/plain": [
       "array([[0.57734861, 0.07260167, 0.61930725, 0.95363611],\n",
       "       [0.48240802, 0.54893625, 0.57956645, 0.17446299],\n",
       "       [0.27453721, 0.15565641, 0.83142207, 0.11146881],\n",
       "       [0.6822756 , 0.83893043, 0.40890042, 0.73002812]])"
      ]
     },
     "execution_count": 78,
     "metadata": {},
     "output_type": "execute_result"
    }
   ],
   "source": [
    "# Stacking columns\n",
    "np.hstack([arr1, arr2]) # also, np.column_stack"
   ]
  },
  {
   "cell_type": "code",
   "execution_count": 79,
   "metadata": {},
   "outputs": [
    {
     "data": {
      "text/plain": [
       "[array([[0.57734861, 0.07260167]]),\n",
       " array([[0.48240802, 0.54893625]]),\n",
       " array([[0.27453721, 0.15565641],\n",
       "        [0.6822756 , 0.83893043]])]"
      ]
     },
     "execution_count": 79,
     "metadata": {},
     "output_type": "execute_result"
    }
   ],
   "source": [
    "# Splitting arrays\n",
    "np.split(arr1, [1,2], axis=0) # also, np.hsplit, vsplit"
   ]
  },
  {
   "cell_type": "markdown",
   "metadata": {},
   "source": [
    "## File Input/Output"
   ]
  },
  {
   "cell_type": "markdown",
   "metadata": {},
   "source": [
    "There are two primary ways to save/load NumPy arrays to/from a file:\n",
    "\n",
    "* Binary format (.npy) - np.**save** and np.**load**\n",
    "* Delimited text file (.txt) - np.**savetxt** and np.**loadtxt** (also, np.**genfromtext** for files with missing data)"
   ]
  },
  {
   "cell_type": "code",
   "execution_count": 80,
   "metadata": {},
   "outputs": [
    {
     "data": {
      "text/plain": [
       "'/Users/charmain/Desktop/Master Degree/Term 2/Data Processing & Analysis in Python/Lecture'"
      ]
     },
     "execution_count": 80,
     "metadata": {},
     "output_type": "execute_result"
    }
   ],
   "source": [
    "# Print working directory\n",
    "%pwd"
   ]
  },
  {
   "cell_type": "code",
   "execution_count": 81,
   "metadata": {},
   "outputs": [
    {
     "name": "stdout",
     "output_type": "stream",
     "text": [
      "[Errno 2] No such file or directory: '/Users/charmain/Dropbox/Teaching/Courses/BUDT758X/data/'\n",
      "/Users/charmain/Desktop/Master Degree/Term 2/Data Processing & Analysis in Python/Lecture\n"
     ]
    }
   ],
   "source": [
    "# Change working directory to data folder\n",
    "%cd ~/Dropbox/Teaching/Courses/BUDT758X/data/"
   ]
  },
  {
   "cell_type": "code",
   "execution_count": 82,
   "metadata": {},
   "outputs": [],
   "source": [
    "# Save arr2d to binary file\n",
    "np.save('arr2d', arr2d) # function will add the .npy extension"
   ]
  },
  {
   "cell_type": "code",
   "execution_count": 83,
   "metadata": {},
   "outputs": [
    {
     "data": {
      "text/plain": [
       "array([[0.52068396, 0.63403489, 0.45824731],\n",
       "       [0.53835773, 0.07610067, 0.66980914],\n",
       "       [0.0519256 , 0.43324149, 0.58350728]])"
      ]
     },
     "execution_count": 83,
     "metadata": {},
     "output_type": "execute_result"
    }
   ],
   "source": [
    "# Delete arr2d and re-load from file\n",
    "del arr2d\n",
    "arr2d = np.load('arr2d.npy') # must include .npy extension\n",
    "arr2d"
   ]
  },
  {
   "cell_type": "code",
   "execution_count": 85,
   "metadata": {},
   "outputs": [],
   "source": [
    "# Save arr2d to text file\n",
    "np.savetxt('arr2d.txt', arr2d, fmt='%.4f', delimiter=',')"
   ]
  },
  {
   "cell_type": "code",
   "execution_count": 86,
   "metadata": {},
   "outputs": [
    {
     "data": {
      "text/plain": [
       "array([[0.5207, 0.634 , 0.4582],\n",
       "       [0.5384, 0.0761, 0.6698],\n",
       "       [0.0519, 0.4332, 0.5835]])"
      ]
     },
     "execution_count": 86,
     "metadata": {},
     "output_type": "execute_result"
    }
   ],
   "source": [
    "# Delete arr2d and re-load from file\n",
    "del arr2d\n",
    "arr2d = np.loadtxt('arr2d.txt', delimiter=',')\n",
    "arr2d"
   ]
  },
  {
   "cell_type": "markdown",
   "metadata": {},
   "source": [
    "## Next Time: NumPy Lab"
   ]
  }
 ],
 "metadata": {
  "kernelspec": {
   "display_name": "Python 3",
   "language": "python",
   "name": "python3"
  },
  "language_info": {
   "codemirror_mode": {
    "name": "ipython",
    "version": 3
   },
   "file_extension": ".py",
   "mimetype": "text/x-python",
   "name": "python",
   "nbconvert_exporter": "python",
   "pygments_lexer": "ipython3",
   "version": "3.6.8"
  }
 },
 "nbformat": 4,
 "nbformat_minor": 2
}
