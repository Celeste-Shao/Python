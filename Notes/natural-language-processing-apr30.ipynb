{
 "cells": [
  {
   "cell_type": "markdown",
   "metadata": {},
   "source": [
    "# Natural Language Processing"
   ]
  },
  {
   "cell_type": "markdown",
   "metadata": {},
   "source": [
    "Today, we will cover Natural Language Processing in Python, using the nltk and gensim packages.\n",
    "\n",
    "Friendly Reminders:\n",
    "\n",
    "* Project Showcase on Thursday, 5/9 (last day of class)"
   ]
  },
  {
   "cell_type": "code",
   "execution_count": 1,
   "metadata": {},
   "outputs": [
    {
     "name": "stdout",
     "output_type": "stream",
     "text": [
      "Populating the interactive namespace from numpy and matplotlib\n"
     ]
    }
   ],
   "source": [
    "%pylab inline\n",
    "import requests, re\n",
    "import pandas as pd\n",
    "import seaborn as sns\n",
    "import nltk\n",
    "pd.set_option('max_columns', 40)\n",
    "pd.set_option('colwidth', 300)"
   ]
  },
  {
   "cell_type": "markdown",
   "metadata": {},
   "source": [
    "## NBA Mock Draft Data"
   ]
  },
  {
   "cell_type": "markdown",
   "metadata": {},
   "source": [
    "Each year, National Basketball Association (NBA) teams participate in an amateur draft, through which they can acquire the rights to sign new players to contracts for the upcoming season(s). Much effort is dedicated to evaluating the potential of the players, including a substantial amount of scouting, either during their play for previous organizations (e.g., National Collegiate Athletics Association, international professional leagues) or at the NBA draft combine where players are given an opportunity to showcase their potential. In addition to their statistical output, there are many characteristics of players that are best captured via scouting reports, which requires manual review or natural language processing to analyze."
   ]
  },
  {
   "cell_type": "code",
   "execution_count": 4,
   "metadata": {},
   "outputs": [
    {
     "data": {
      "text/html": [
       "<div>\n",
       "<style scoped>\n",
       "    .dataframe tbody tr th:only-of-type {\n",
       "        vertical-align: middle;\n",
       "    }\n",
       "\n",
       "    .dataframe tbody tr th {\n",
       "        vertical-align: top;\n",
       "    }\n",
       "\n",
       "    .dataframe thead th {\n",
       "        text-align: right;\n",
       "    }\n",
       "</style>\n",
       "<table border=\"1\" class=\"dataframe\">\n",
       "  <thead>\n",
       "    <tr style=\"text-align: right;\">\n",
       "      <th></th>\n",
       "      <th>#</th>\n",
       "      <th>Team</th>\n",
       "      <th>Player</th>\n",
       "      <th>H</th>\n",
       "      <th>W</th>\n",
       "      <th>P</th>\n",
       "      <th>School</th>\n",
       "      <th>C</th>\n",
       "      <th>url</th>\n",
       "      <th>Strengths</th>\n",
       "      <th>Weaknesses</th>\n",
       "    </tr>\n",
       "  </thead>\n",
       "  <tbody>\n",
       "    <tr>\n",
       "      <th>0</th>\n",
       "      <td>1</td>\n",
       "      <td>Phoenix</td>\n",
       "      <td>DeAndre Ayton</td>\n",
       "      <td>7-0</td>\n",
       "      <td>260</td>\n",
       "      <td>C</td>\n",
       "      <td>Arizona</td>\n",
       "      <td>Fr.</td>\n",
       "      <td>http://www.nbadraft.net/players/deandre-ayton</td>\n",
       "      <td>Posesses can't miss talent with the chance to develop into a generational big ... Seven-footer with great coordination and fluidity ... Great size and length with a 7'5.5 wingspan and 9'3 standing reach ... Runs the floor well with great agility ... Good strength level as well as body frame. Ver...</td>\n",
       "      <td>Ayton didn't make the strides one would hope in his senior year ... He did seem more focused towards the end of the season after losing his #1 player in class status nearly universally, but it appeared he got too comfortable sitting at the top spot for too long ... He rarely played like he had a...</td>\n",
       "    </tr>\n",
       "    <tr>\n",
       "      <th>1</th>\n",
       "      <td>2</td>\n",
       "      <td>Memphis</td>\n",
       "      <td>Marvin Bagley</td>\n",
       "      <td>6-11</td>\n",
       "      <td>235</td>\n",
       "      <td>PF</td>\n",
       "      <td>Duke</td>\n",
       "      <td>Fr.</td>\n",
       "      <td>http://www.nbadraft.net/players/marvin-bagley</td>\n",
       "      <td>NBA-ready body ... Positional versatility ... Displays unusually smooth and fluid movements for his 6'11\", 234-pound frame ... Elite and agile athlete ... Great lateral quickness ... Exceptional leaper (jumps well off both feet) ...Elevates quickly and really gets off the floor well for his seco...</td>\n",
       "      <td>Lacks the wingspan of other big men in his class ... Has to continue to fill out his frame with upper and lower body strength ... Sometimes gets out-muscled in the paint/post ... Lack of strength keeps him from controlling the paint on defense ... Ball handling is solid but still needs to get be...</td>\n",
       "    </tr>\n",
       "  </tbody>\n",
       "</table>\n",
       "</div>"
      ],
      "text/plain": [
       "   #     Team         Player     H    W   P   School    C  \\\n",
       "0  1  Phoenix  DeAndre Ayton   7-0  260   C  Arizona  Fr.   \n",
       "1  2  Memphis  Marvin Bagley  6-11  235  PF     Duke  Fr.   \n",
       "\n",
       "                                             url  \\\n",
       "0  http://www.nbadraft.net/players/deandre-ayton   \n",
       "1  http://www.nbadraft.net/players/marvin-bagley   \n",
       "\n",
       "                                                                                                                                                                                                                                                                                                     Strengths  \\\n",
       "0  Posesses can't miss talent with the chance to develop into a generational big ... Seven-footer with great coordination and fluidity ... Great size and length with a 7'5.5 wingspan and 9'3 standing reach ... Runs the floor well with great agility ... Good strength level as well as body frame. Ver...   \n",
       "1  NBA-ready body ... Positional versatility ... Displays unusually smooth and fluid movements for his 6'11\", 234-pound frame ... Elite and agile athlete ... Great lateral quickness ... Exceptional leaper (jumps well off both feet) ...Elevates quickly and really gets off the floor well for his seco...   \n",
       "\n",
       "                                                                                                                                                                                                                                                                                                    Weaknesses  \n",
       "0  Ayton didn't make the strides one would hope in his senior year ... He did seem more focused towards the end of the season after losing his #1 player in class status nearly universally, but it appeared he got too comfortable sitting at the top spot for too long ... He rarely played like he had a...  \n",
       "1  Lacks the wingspan of other big men in his class ... Has to continue to fill out his frame with upper and lower body strength ... Sometimes gets out-muscled in the paint/post ... Lack of strength keeps him from controlling the paint on defense ... Ball handling is solid but still needs to get be...  "
      ]
     },
     "execution_count": 4,
     "metadata": {},
     "output_type": "execute_result"
    }
   ],
   "source": [
    "# Import mock draft table\n",
    "path = '/Users/charmain/Desktop/Master Degree/Term 2/Data Processing & Analysis in Python/Data Files/'\n",
    "df = pd.read_csv(path + 'nba_draft_scouting_reports2018.csv')\n",
    "df.head(2)"
   ]
  },
  {
   "cell_type": "markdown",
   "metadata": {},
   "source": [
    "## Natural Language Processing"
   ]
  },
  {
   "cell_type": "markdown",
   "metadata": {},
   "source": [
    "As suggested by the name, the majority of the work in the NLP space involves text processing tasks. We have already developed several categories of techniques that also contribute to NLP:\n",
    "\n",
    "* Scalar string methods (e.g., .split, .lower)\n",
    "* Regular expressions (e.g., .search, .match, .sub, .split)\n",
    "* Vectorized string methods in pandas (.str)\n",
    "\n",
    "These methods form the foundation for NLP, but the nltk (Natural Language Toolkit) and gensim packages offer substantially more functionality. There is also some functionality in scikit-learn, you can explore these features at: http://scikit-learn.org/stable/modules/feature_extraction.html#text-feature-extraction.\n",
    "\n",
    "Let's begin by importing a few objects from the nltk and gensim packages and re-loading the NBA draft prospects data."
   ]
  },
  {
   "cell_type": "code",
   "execution_count": 5,
   "metadata": {},
   "outputs": [
    {
     "name": "stderr",
     "output_type": "stream",
     "text": [
      "/anaconda3/lib/python3.6/site-packages/smart_open/ssh.py:34: UserWarning: paramiko missing, opening SSH/SCP/SFTP paths will be disabled.  `pip install paramiko` to suppress\n",
      "  warnings.warn('paramiko missing, opening SSH/SCP/SFTP paths will be disabled.  `pip install paramiko` to suppress')\n"
     ]
    }
   ],
   "source": [
    "import string, itertools\n",
    "from collections import Counter, defaultdict\n",
    "from nltk.text import Text\n",
    "from nltk.probability import FreqDist\n",
    "from nltk.tokenize import word_tokenize, sent_tokenize, regexp_tokenize\n",
    "from nltk.corpus import stopwords\n",
    "from nltk.stem import PorterStemmer, WordNetLemmatizer\n",
    "from wordcloud import WordCloud\n",
    "from gensim.corpora.dictionary import Dictionary\n",
    "from gensim.models.tfidfmodel import TfidfModel\n",
    "from sklearn.cluster import KMeans"
   ]
  },
  {
   "cell_type": "markdown",
   "metadata": {},
   "source": [
    "Let's select the scouting report (i.e., strengths or weaknesses) for a specific player:"
   ]
  },
  {
   "cell_type": "code",
   "execution_count": 6,
   "metadata": {},
   "outputs": [
    {
     "name": "stdout",
     "output_type": "stream",
     "text": [
      "Player    Marvin Bagley\n",
      "H                  6-11\n",
      "W                   235\n",
      "P                    PF\n",
      "School             Duke\n",
      "C                   Fr.\n",
      "Name: 1, dtype: object\n"
     ]
    },
    {
     "data": {
      "text/plain": [
       "'NBA-ready body ... Positional versatility ... Displays unusually smooth and fluid movements for his 6\\'11\", 234-pound frame ... Elite and agile athlete ... Great lateral quickness ... Exceptional leaper (jumps well off both feet) ...Elevates quickly and really gets off the floor well for his second and third jumps ... Plays effortlessly above the rim ... Possesses great hands and quick feet... Catches everything that comes his way ... Very coordinated in his movements ... Has good body control ... Good overall ball-handler for a big man ... Multifaceted offensive skillset ... Versatile/natural scorer ... Polished footwork in the post ... Can shoulder his team\\'s offensive load ... Gets to the rim easily ... Strong finisher around the basket with a soft touch ... Can score around the rim with either hand ... Solid low post scorer ... Possesses a bevy of floaters, runners, and hook shots ... Gets his defenders off balance with an array of ball fakes ... Does a good job of working around the rim and getting himself open ... Has shown the ability to expand his game and take his opponents off the dribble using his quick foot speed ... He\\'s shown flashes of being able to take his game beyond the 3-point line ... Has the potential to be a stretch 4/5 and a catch-and-shoot player ... Solid shooting form and can develop into a reliable mid-range/outside shooter shooter at the next level ... He has developed a nice mid-range jumper, which he can get off of turnarounds or on step back moves ... Plays well from the triple threat position, including a nice jab step ... Has the tools to be a dual pick-and-roll threat ... Offensive rebounding/nose for the ball ... Reacts quickly to rebound his own misses ... Has a knack for turning offensive rebounds into second-chance points, especially in traffic ... He keeps possessions alive and shows great timing cleaning up after missed shots ... Can take a defensive rebound and go coast to coast, either finishing in the lane or setting up a teammate for an open shot ... Has the ability to run the floor paired with the agility to euro-step in big spaces and decelerate ... Decent, but not elite, instincts for defending the rim and blocking shots ... Can effectively challenge shooters using his length in isolation situations to force contested shots ... He\\'s great at switching in pick-and-roll situations ... Can stay in front of guards and wings on the perimeter ... Jumps passing lanes well ... Can be a menace on defense when he\\'s locked in ... Coach K has praised his practice habits and work ethic ... Has built a strong reputation as a high character kid ... Has the desire to be great ... Motor is one of his strongest assets ... Plays with great competitiveness and physicality ... Out-works and out-hustles his opponents ... Commands the ball and looks to dominate ... One of the youngest prospects available for this year\\'s draft. Won\\'t turn 20 years old until March of his rookie season ... Appears to potentially be an ideal small ball five for today\\'s NBA ... '"
      ]
     },
     "execution_count": 6,
     "metadata": {},
     "output_type": "execute_result"
    }
   ],
   "source": [
    "# Select scouting report for review\n",
    "pid = 1\n",
    "report = 'Strengths'\n",
    "print(df[['Player','H','W','P','School','C']].loc[pid])\n",
    "s = df.at[pid, report]\n",
    "s"
   ]
  },
  {
   "cell_type": "markdown",
   "metadata": {},
   "source": [
    "The first set of NLP steps to consider involve standardizing the text:\n",
    "\n",
    "* Converting to lower case\n",
    "* Removing punctuation\n",
    "* Tokenization\n",
    "* Removing stop words\n",
    "* Stemming/Lemmatization"
   ]
  },
  {
   "cell_type": "code",
   "execution_count": 7,
   "metadata": {},
   "outputs": [],
   "source": [
    "# Convert text to lower case\n",
    "s = s.lower()"
   ]
  },
  {
   "cell_type": "code",
   "execution_count": 8,
   "metadata": {},
   "outputs": [],
   "source": [
    "# Remove unnecessary punctuation\n",
    "s = re.sub('[,()]', '', s)"
   ]
  },
  {
   "cell_type": "markdown",
   "metadata": {},
   "source": [
    "Tokenization is the process of converting a body of text (string) into a list of singular elements (tokens). The nltk package offers several methods for tokenization, the most commonly used are:\n",
    "\n",
    "* Word tokenization (**word_tokenize**)\n",
    "* Sentence tokenization (**sent_tokenize**)\n",
    "* Regex tokenization (**regex_tokenize**)\n",
    "\n",
    "The type of tokenization that you use depends on the granularity required for your analysis."
   ]
  },
  {
   "cell_type": "code",
   "execution_count": 9,
   "metadata": {},
   "outputs": [
    {
     "name": "stdout",
     "output_type": "stream",
     "text": [
      "['nba-ready', 'body', '...', 'positional', 'versatility', '...', 'displays', 'unusually', 'smooth', 'and', 'fluid', 'movements', 'for', 'his', \"6'11\", \"''\", '234-pound', 'frame', '...', 'elite', 'and', 'agile', 'athlete', '...', 'great', 'lateral', 'quickness', '...', 'exceptional', 'leaper', 'jumps', 'well', 'off', 'both', 'feet', '...', 'elevates', 'quickly', 'and', 'really', 'gets', 'off', 'the', 'floor', 'well', 'for', 'his', 'second', 'and', 'third', 'jumps', '...', 'plays', 'effortlessly', 'above', 'the', 'rim', '...', 'possesses', 'great', 'hands', 'and', 'quick', 'feet', '...', 'catches', 'everything', 'that', 'comes', 'his', 'way', '...', 'very', 'coordinated', 'in', 'his', 'movements', '...', 'has', 'good', 'body', 'control', '...', 'good', 'overall', 'ball-handler', 'for', 'a', 'big', 'man', '...', 'multifaceted', 'offensive', 'skillset', '...', 'versatile/natural', 'scorer', '...', 'polished', 'footwork', 'in', 'the', 'post', '...', 'can', 'shoulder', 'his', 'team', \"'s\", 'offensive', 'load', '...', 'gets', 'to', 'the', 'rim', 'easily', '...', 'strong', 'finisher', 'around', 'the', 'basket', 'with', 'a', 'soft', 'touch', '...', 'can', 'score', 'around', 'the', 'rim', 'with', 'either', 'hand', '...', 'solid', 'low', 'post', 'scorer', '...', 'possesses', 'a', 'bevy', 'of', 'floaters', 'runners', 'and', 'hook', 'shots', '...', 'gets', 'his', 'defenders', 'off', 'balance', 'with', 'an', 'array', 'of', 'ball', 'fakes', '...', 'does', 'a', 'good', 'job', 'of', 'working', 'around', 'the', 'rim', 'and', 'getting', 'himself', 'open', '...', 'has', 'shown', 'the', 'ability', 'to', 'expand', 'his', 'game', 'and', 'take', 'his', 'opponents', 'off', 'the', 'dribble', 'using', 'his', 'quick', 'foot', 'speed', '...', 'he', \"'s\", 'shown', 'flashes', 'of', 'being', 'able', 'to', 'take', 'his', 'game', 'beyond', 'the', '3-point', 'line', '...', 'has', 'the', 'potential', 'to', 'be', 'a', 'stretch', '4/5', 'and', 'a', 'catch-and-shoot', 'player', '...', 'solid', 'shooting', 'form', 'and', 'can', 'develop', 'into', 'a', 'reliable', 'mid-range/outside', 'shooter', 'shooter', 'at', 'the', 'next', 'level', '...', 'he', 'has', 'developed', 'a', 'nice', 'mid-range', 'jumper', 'which', 'he', 'can', 'get', 'off', 'of', 'turnarounds', 'or', 'on', 'step', 'back', 'moves', '...', 'plays', 'well', 'from', 'the', 'triple', 'threat', 'position', 'including', 'a', 'nice', 'jab', 'step', '...', 'has', 'the', 'tools', 'to', 'be', 'a', 'dual', 'pick-and-roll', 'threat', '...', 'offensive', 'rebounding/nose', 'for', 'the', 'ball', '...', 'reacts', 'quickly', 'to', 'rebound', 'his', 'own', 'misses', '...', 'has', 'a', 'knack', 'for', 'turning', 'offensive', 'rebounds', 'into', 'second-chance', 'points', 'especially', 'in', 'traffic', '...', 'he', 'keeps', 'possessions', 'alive', 'and', 'shows', 'great', 'timing', 'cleaning', 'up', 'after', 'missed', 'shots', '...', 'can', 'take', 'a', 'defensive', 'rebound', 'and', 'go', 'coast', 'to', 'coast', 'either', 'finishing', 'in', 'the', 'lane', 'or', 'setting', 'up', 'a', 'teammate', 'for', 'an', 'open', 'shot', '...', 'has', 'the', 'ability', 'to', 'run', 'the', 'floor', 'paired', 'with', 'the', 'agility', 'to', 'euro-step', 'in', 'big', 'spaces', 'and', 'decelerate', '...', 'decent', 'but', 'not', 'elite', 'instincts', 'for', 'defending', 'the', 'rim', 'and', 'blocking', 'shots', '...', 'can', 'effectively', 'challenge', 'shooters', 'using', 'his', 'length', 'in', 'isolation', 'situations', 'to', 'force', 'contested', 'shots', '...', 'he', \"'s\", 'great', 'at', 'switching', 'in', 'pick-and-roll', 'situations', '...', 'can', 'stay', 'in', 'front', 'of', 'guards', 'and', 'wings', 'on', 'the', 'perimeter', '...', 'jumps', 'passing', 'lanes', 'well', '...', 'can', 'be', 'a', 'menace', 'on', 'defense', 'when', 'he', \"'s\", 'locked', 'in', '...', 'coach', 'k', 'has', 'praised', 'his', 'practice', 'habits', 'and', 'work', 'ethic', '...', 'has', 'built', 'a', 'strong', 'reputation', 'as', 'a', 'high', 'character', 'kid', '...', 'has', 'the', 'desire', 'to', 'be', 'great', '...', 'motor', 'is', 'one', 'of', 'his', 'strongest', 'assets', '...', 'plays', 'with', 'great', 'competitiveness', 'and', 'physicality', '...', 'out-works', 'and', 'out-hustles', 'his', 'opponents', '...', 'commands', 'the', 'ball', 'and', 'looks', 'to', 'dominate', '...', 'one', 'of', 'the', 'youngest', 'prospects', 'available', 'for', 'this', 'year', \"'s\", 'draft', '.', 'wo', \"n't\", 'turn', '20', 'years', 'old', 'until', 'march', 'of', 'his', 'rookie', 'season', '...', 'appears', 'to', 'potentially', 'be', 'an', 'ideal', 'small', 'ball', 'five', 'for', 'today', \"'s\", 'nba', '...']\n"
     ]
    }
   ],
   "source": [
    "# Word tokenization\n",
    "print(word_tokenize(s))"
   ]
  },
  {
   "cell_type": "code",
   "execution_count": 10,
   "metadata": {},
   "outputs": [
    {
     "name": "stdout",
     "output_type": "stream",
     "text": [
      "2 ['nba-ready body ... positional versatility ... displays unusually smooth and fluid movements for his 6\\'11\" 234-pound frame ... elite and agile athlete ... great lateral quickness ... exceptional leaper jumps well off both feet ...elevates quickly and really gets off the floor well for his second and third jumps ... plays effortlessly above the rim ... possesses great hands and quick feet... catches everything that comes his way ... very coordinated in his movements ... has good body control ... good overall ball-handler for a big man ... multifaceted offensive skillset ... versatile/natural scorer ... polished footwork in the post ... can shoulder his team\\'s offensive load ... gets to the rim easily ... strong finisher around the basket with a soft touch ... can score around the rim with either hand ... solid low post scorer ... possesses a bevy of floaters runners and hook shots ... gets his defenders off balance with an array of ball fakes ... does a good job of working around the rim and getting himself open ... has shown the ability to expand his game and take his opponents off the dribble using his quick foot speed ... he\\'s shown flashes of being able to take his game beyond the 3-point line ... has the potential to be a stretch 4/5 and a catch-and-shoot player ... solid shooting form and can develop into a reliable mid-range/outside shooter shooter at the next level ... he has developed a nice mid-range jumper which he can get off of turnarounds or on step back moves ... plays well from the triple threat position including a nice jab step ... has the tools to be a dual pick-and-roll threat ... offensive rebounding/nose for the ball ... reacts quickly to rebound his own misses ... has a knack for turning offensive rebounds into second-chance points especially in traffic ... he keeps possessions alive and shows great timing cleaning up after missed shots ... can take a defensive rebound and go coast to coast either finishing in the lane or setting up a teammate for an open shot ... has the ability to run the floor paired with the agility to euro-step in big spaces and decelerate ... decent but not elite instincts for defending the rim and blocking shots ... can effectively challenge shooters using his length in isolation situations to force contested shots ... he\\'s great at switching in pick-and-roll situations ... can stay in front of guards and wings on the perimeter ... jumps passing lanes well ... can be a menace on defense when he\\'s locked in ... coach k has praised his practice habits and work ethic ... has built a strong reputation as a high character kid ... has the desire to be great ... motor is one of his strongest assets ... plays with great competitiveness and physicality ... out-works and out-hustles his opponents ... commands the ball and looks to dominate ... one of the youngest prospects available for this year\\'s draft.', \"won't turn 20 years old until march of his rookie season ... appears to potentially be an ideal small ball five for today's nba ...\"]\n"
     ]
    }
   ],
   "source": [
    "# Sentence tokenization\n",
    "sents = sent_tokenize(s)\n",
    "print(len(sents), sents)"
   ]
  },
  {
   "cell_type": "code",
   "execution_count": 11,
   "metadata": {},
   "outputs": [
    {
     "name": "stdout",
     "output_type": "stream",
     "text": [
      "['nba-ready', 'body', 'positional', 'versatility', 'displays', 'unusually', 'smooth', 'and', 'fluid', 'movements', 'for', 'his', '6\\'11\"', '234-pound', 'frame', 'elite', 'and', 'agile', 'athlete', 'great', 'lateral', 'quickness', 'exceptional', 'leaper', 'jumps', 'well', 'off', 'both', 'feet', 'elevates', 'quickly', 'and', 'really', 'gets', 'off', 'the', 'floor', 'well', 'for', 'his', 'second', 'and', 'third', 'jumps', 'plays', 'effortlessly', 'above', 'the', 'rim', 'possesses', 'great', 'hands', 'and', 'quick', 'feet', 'catches', 'everything', 'that', 'comes', 'his', 'way', 'very', 'coordinated', 'in', 'his', 'movements', 'has', 'good', 'body', 'control', 'good', 'overall', 'ball-handler', 'for', 'a', 'big', 'man', 'multifaceted', 'offensive', 'skillset', 'versatile/natural', 'scorer', 'polished', 'footwork', 'in', 'the', 'post', 'can', 'shoulder', 'his', \"team's\", 'offensive', 'load', 'gets', 'to', 'the', 'rim', 'easily', 'strong', 'finisher', 'around', 'the', 'basket', 'with', 'a', 'soft', 'touch', 'can', 'score', 'around', 'the', 'rim', 'with', 'either', 'hand', 'solid', 'low', 'post', 'scorer', 'possesses', 'a', 'bevy', 'of', 'floaters', 'runners', 'and', 'hook', 'shots', 'gets', 'his', 'defenders', 'off', 'balance', 'with', 'an', 'array', 'of', 'ball', 'fakes', 'does', 'a', 'good', 'job', 'of', 'working', 'around', 'the', 'rim', 'and', 'getting', 'himself', 'open', 'has', 'shown', 'the', 'ability', 'to', 'expand', 'his', 'game', 'and', 'take', 'his', 'opponents', 'off', 'the', 'dribble', 'using', 'his', 'quick', 'foot', 'speed', \"he's\", 'shown', 'flashes', 'of', 'being', 'able', 'to', 'take', 'his', 'game', 'beyond', 'the', '3-point', 'line', 'has', 'the', 'potential', 'to', 'be', 'a', 'stretch', '4/5', 'and', 'a', 'catch-and-shoot', 'player', 'solid', 'shooting', 'form', 'and', 'can', 'develop', 'into', 'a', 'reliable', 'mid-range/outside', 'shooter', 'shooter', 'at', 'the', 'next', 'level', 'he', 'has', 'developed', 'a', 'nice', 'mid-range', 'jumper', 'which', 'he', 'can', 'get', 'off', 'of', 'turnarounds', 'or', 'on', 'step', 'back', 'moves', 'plays', 'well', 'from', 'the', 'triple', 'threat', 'position', 'including', 'a', 'nice', 'jab', 'step', 'has', 'the', 'tools', 'to', 'be', 'a', 'dual', 'pick-and-roll', 'threat', 'offensive', 'rebounding/nose', 'for', 'the', 'ball', 'reacts', 'quickly', 'to', 'rebound', 'his', 'own', 'misses', 'has', 'a', 'knack', 'for', 'turning', 'offensive', 'rebounds', 'into', 'second-chance', 'points', 'especially', 'in', 'traffic', 'he', 'keeps', 'possessions', 'alive', 'and', 'shows', 'great', 'timing', 'cleaning', 'up', 'after', 'missed', 'shots', 'can', 'take', 'a', 'defensive', 'rebound', 'and', 'go', 'coast', 'to', 'coast', 'either', 'finishing', 'in', 'the', 'lane', 'or', 'setting', 'up', 'a', 'teammate', 'for', 'an', 'open', 'shot', 'has', 'the', 'ability', 'to', 'run', 'the', 'floor', 'paired', 'with', 'the', 'agility', 'to', 'euro-step', 'in', 'big', 'spaces', 'and', 'decelerate', 'decent', 'but', 'not', 'elite', 'instincts', 'for', 'defending', 'the', 'rim', 'and', 'blocking', 'shots', 'can', 'effectively', 'challenge', 'shooters', 'using', 'his', 'length', 'in', 'isolation', 'situations', 'to', 'force', 'contested', 'shots', \"he's\", 'great', 'at', 'switching', 'in', 'pick-and-roll', 'situations', 'can', 'stay', 'in', 'front', 'of', 'guards', 'and', 'wings', 'on', 'the', 'perimeter', 'jumps', 'passing', 'lanes', 'well', 'can', 'be', 'a', 'menace', 'on', 'defense', 'when', \"he's\", 'locked', 'in', 'coach', 'k', 'has', 'praised', 'his', 'practice', 'habits', 'and', 'work', 'ethic', 'has', 'built', 'a', 'strong', 'reputation', 'as', 'a', 'high', 'character', 'kid', 'has', 'the', 'desire', 'to', 'be', 'great', 'motor', 'is', 'one', 'of', 'his', 'strongest', 'assets', 'plays', 'with', 'great', 'competitiveness', 'and', 'physicality', 'out-works', 'and', 'out-hustles', 'his', 'opponents', 'commands', 'the', 'ball', 'and', 'looks', 'to', 'dominate', 'one', 'of', 'the', 'youngest', 'prospects', 'available', 'for', 'this', \"year's\", 'draft', \"won't\", 'turn', '20', 'years', 'old', 'until', 'march', 'of', 'his', 'rookie', 'season', 'appears', 'to', 'potentially', 'be', 'an', 'ideal', 'small', 'ball', 'five', 'for', \"today's\", 'nba']\n"
     ]
    }
   ],
   "source": [
    "# Regular expression tokenization - Method 1\n",
    "words = regexp_tokenize(s, '[^. ]+')\n",
    "print(words)"
   ]
  },
  {
   "cell_type": "code",
   "execution_count": 12,
   "metadata": {},
   "outputs": [
    {
     "data": {
      "text/plain": [
       "['nba-ready body',\n",
       " 'positional versatility',\n",
       " 'displays unusually smooth and fluid movements for his 6\\'11\" 234-pound frame',\n",
       " 'elite and agile athlete',\n",
       " 'great lateral quickness',\n",
       " 'exceptional leaper jumps well off both feet',\n",
       " 'elevates quickly and really gets off the floor well for his second and third jumps',\n",
       " 'plays effortlessly above the rim',\n",
       " 'possesses great hands and quick feet',\n",
       " 'catches everything that comes his way',\n",
       " 'very coordinated in his movements',\n",
       " 'has good body control',\n",
       " 'good overall ball-handler for a big man',\n",
       " 'multifaceted offensive skillset',\n",
       " 'versatile/natural scorer',\n",
       " 'polished footwork in the post',\n",
       " \"can shoulder his team's offensive load\",\n",
       " 'gets to the rim easily',\n",
       " 'strong finisher around the basket with a soft touch',\n",
       " 'can score around the rim with either hand',\n",
       " 'solid low post scorer',\n",
       " 'possesses a bevy of floaters runners and hook shots',\n",
       " 'gets his defenders off balance with an array of ball fakes',\n",
       " 'does a good job of working around the rim and getting himself open',\n",
       " 'has shown the ability to expand his game and take his opponents off the dribble using his quick foot speed',\n",
       " \"he's shown flashes of being able to take his game beyond the 3-point line\",\n",
       " 'has the potential to be a stretch 4/5 and a catch-and-shoot player',\n",
       " 'solid shooting form and can develop into a reliable mid-range/outside shooter shooter at the next level',\n",
       " 'he has developed a nice mid-range jumper which he can get off of turnarounds or on step back moves',\n",
       " 'plays well from the triple threat position including a nice jab step',\n",
       " 'has the tools to be a dual pick-and-roll threat',\n",
       " 'offensive rebounding/nose for the ball',\n",
       " 'reacts quickly to rebound his own misses',\n",
       " 'has a knack for turning offensive rebounds into second-chance points especially in traffic',\n",
       " 'he keeps possessions alive and shows great timing cleaning up after missed shots',\n",
       " 'can take a defensive rebound and go coast to coast either finishing in the lane or setting up a teammate for an open shot',\n",
       " 'has the ability to run the floor paired with the agility to euro-step in big spaces and decelerate',\n",
       " 'decent but not elite instincts for defending the rim and blocking shots',\n",
       " 'can effectively challenge shooters using his length in isolation situations to force contested shots',\n",
       " \"he's great at switching in pick-and-roll situations\",\n",
       " 'can stay in front of guards and wings on the perimeter',\n",
       " 'jumps passing lanes well',\n",
       " \"can be a menace on defense when he's locked in\",\n",
       " 'coach k has praised his practice habits and work ethic',\n",
       " 'has built a strong reputation as a high character kid',\n",
       " 'has the desire to be great',\n",
       " 'motor is one of his strongest assets',\n",
       " 'plays with great competitiveness and physicality',\n",
       " 'out-works and out-hustles his opponents',\n",
       " 'commands the ball and looks to dominate',\n",
       " \"one of the youngest prospects available for this year's draft\",\n",
       " \"won't turn 20 years old until march of his rookie season\",\n",
       " \"appears to potentially be an ideal small ball five for today's nba\"]"
      ]
     },
     "execution_count": 12,
     "metadata": {},
     "output_type": "execute_result"
    }
   ],
   "source": [
    "# Regex Tokenization - Method 2\n",
    "re.split('\\s*\\.+\\s*', s)[:-1]"
   ]
  },
  {
   "cell_type": "markdown",
   "metadata": {},
   "source": [
    "Once we have processed our text into a list of words, we can begin to explore the data. The nltk package can be used to create a Text object, which facilitate searching a particular body of text."
   ]
  },
  {
   "cell_type": "code",
   "execution_count": 13,
   "metadata": {},
   "outputs": [],
   "source": [
    "obj = Text(words)"
   ]
  },
  {
   "cell_type": "code",
   "execution_count": 14,
   "metadata": {},
   "outputs": [
    {
     "data": {
      "text/plain": [
       "476"
      ]
     },
     "execution_count": 14,
     "metadata": {},
     "output_type": "execute_result"
    }
   ],
   "source": [
    "# Text length\n",
    "len(obj)"
   ]
  },
  {
   "cell_type": "code",
   "execution_count": 15,
   "metadata": {},
   "outputs": [
    {
     "name": "stdout",
     "output_type": "stream",
     "text": [
      "Displaying 6 of 6 matches:\n",
      "-pound frame elite and agile athlete great lateral quickness exceptional leaper\n",
      "effortlessly above the rim possesses great hands and quick feet catches everyth\n",
      "he keeps possessions alive and shows great timing cleaning up after missed shot\n",
      "ations to force contested shots he's great at switching in pick-and-roll situat\n",
      "h character kid has the desire to be great motor is one of his strongest assets\n",
      "e of his strongest assets plays with great competitiveness and physicality out-\n"
     ]
    }
   ],
   "source": [
    "# Concordance - Find text snippets that contain specified word\n",
    "obj.concordance('great', width=80)"
   ]
  },
  {
   "cell_type": "code",
   "execution_count": 16,
   "metadata": {},
   "outputs": [
    {
     "data": {
      "text/plain": [
       "6"
      ]
     },
     "execution_count": 16,
     "metadata": {},
     "output_type": "execute_result"
    }
   ],
   "source": [
    "# Specific word counts\n",
    "obj.count('great')"
   ]
  },
  {
   "cell_type": "markdown",
   "metadata": {},
   "source": [
    "The next steps involves removing stop words. Stop words are essentially words that lack significant meaning in the context of text analytics, but they are necessary for grammatical and contextual purposes. The nltk packages offers a corpus (body of text) of stop words that we can use to filter our text down to meaningful words, but we can always create our own list of stop words to filter."
   ]
  },
  {
   "cell_type": "code",
   "execution_count": 17,
   "metadata": {},
   "outputs": [
    {
     "name": "stdout",
     "output_type": "stream",
     "text": [
      "['i', 'me', 'my', 'myself', 'we', 'our', 'ours', 'ourselves', 'you', \"you're\", \"you've\", \"you'll\", \"you'd\", 'your', 'yours', 'yourself', 'yourselves', 'he', 'him', 'his', 'himself', 'she', \"she's\", 'her', 'hers', 'herself', 'it', \"it's\", 'its', 'itself', 'they', 'them', 'their', 'theirs', 'themselves', 'what', 'which', 'who', 'whom', 'this', 'that', \"that'll\", 'these', 'those', 'am', 'is', 'are', 'was', 'were', 'be', 'been', 'being', 'have', 'has', 'had', 'having', 'do', 'does', 'did', 'doing', 'a', 'an', 'the', 'and', 'but', 'if', 'or', 'because', 'as', 'until', 'while', 'of', 'at', 'by', 'for', 'with', 'about', 'against', 'between', 'into', 'through', 'during', 'before', 'after', 'above', 'below', 'to', 'from', 'up', 'down', 'in', 'out', 'on', 'off', 'over', 'under', 'again', 'further', 'then', 'once', 'here', 'there', 'when', 'where', 'why', 'how', 'all', 'any', 'both', 'each', 'few', 'more', 'most', 'other', 'some', 'such', 'no', 'nor', 'not', 'only', 'own', 'same', 'so', 'than', 'too', 'very', 's', 't', 'can', 'will', 'just', 'don', \"don't\", 'should', \"should've\", 'now', 'd', 'll', 'm', 'o', 're', 've', 'y', 'ain', 'aren', \"aren't\", 'couldn', \"couldn't\", 'didn', \"didn't\", 'doesn', \"doesn't\", 'hadn', \"hadn't\", 'hasn', \"hasn't\", 'haven', \"haven't\", 'isn', \"isn't\", 'ma', 'mightn', \"mightn't\", 'mustn', \"mustn't\", 'needn', \"needn't\", 'shan', \"shan't\", 'shouldn', \"shouldn't\", 'wasn', \"wasn't\", 'weren', \"weren't\", 'won', \"won't\", 'wouldn', \"wouldn't\"]\n"
     ]
    }
   ],
   "source": [
    "# Preview stop words\n",
    "print(stopwords.words('english'))"
   ]
  },
  {
   "cell_type": "code",
   "execution_count": 18,
   "metadata": {},
   "outputs": [
    {
     "name": "stdout",
     "output_type": "stream",
     "text": [
      "['nba-ready', 'body', 'positional', 'versatility', 'displays', 'unusually', 'smooth', 'fluid', 'movements', '6\\'11\"', '234-pound', 'frame', 'elite', 'agile', 'athlete', 'great', 'lateral', 'quickness', 'exceptional', 'leaper', 'jumps', 'well', 'feet', 'elevates', 'quickly', 'really', 'gets', 'floor', 'well', 'second', 'third', 'jumps', 'plays', 'effortlessly', 'rim', 'possesses', 'great', 'hands', 'quick', 'feet', 'catches', 'everything', 'comes', 'way', 'coordinated', 'movements', 'good', 'body', 'control', 'good', 'overall', 'ball-handler', 'big', 'man', 'multifaceted', 'offensive', 'skillset', 'versatile/natural', 'scorer', 'polished', 'footwork', 'post', 'shoulder', \"team's\", 'offensive', 'load', 'gets', 'rim', 'easily', 'strong', 'finisher', 'around', 'basket', 'soft', 'touch', 'score', 'around', 'rim', 'either', 'hand', 'solid', 'low', 'post', 'scorer', 'possesses', 'bevy', 'floaters', 'runners', 'hook', 'shots', 'gets', 'defenders', 'balance', 'array', 'ball', 'fakes', 'good', 'job', 'working', 'around', 'rim', 'getting', 'open', 'shown', 'ability', 'expand', 'game', 'take', 'opponents', 'dribble', 'using', 'quick', 'foot', 'speed', 'shown', 'flashes', 'able', 'take', 'game', 'beyond', '3-point', 'line', 'potential', 'stretch', '4/5', 'catch-and-shoot', 'player', 'solid', 'shooting', 'form', 'develop', 'reliable', 'mid-range/outside', 'shooter', 'shooter', 'next', 'level', 'developed', 'nice', 'mid-range', 'jumper', 'get', 'turnarounds', 'step', 'back', 'moves', 'plays', 'well', 'triple', 'threat', 'position', 'including', 'nice', 'jab', 'step', 'tools', 'dual', 'pick-and-roll', 'threat', 'offensive', 'rebounding/nose', 'ball', 'reacts', 'quickly', 'rebound', 'misses', 'knack', 'turning', 'offensive', 'rebounds', 'second-chance', 'points', 'especially', 'traffic', 'keeps', 'possessions', 'alive', 'shows', 'great', 'timing', 'cleaning', 'missed', 'shots', 'take', 'defensive', 'rebound', 'go', 'coast', 'coast', 'either', 'finishing', 'lane', 'setting', 'teammate', 'open', 'shot', 'ability', 'run', 'floor', 'paired', 'agility', 'euro-step', 'big', 'spaces', 'decelerate', 'decent', 'elite', 'instincts', 'defending', 'rim', 'blocking', 'shots', 'effectively', 'challenge', 'shooters', 'using', 'length', 'isolation', 'situations', 'force', 'contested', 'shots', 'great', 'switching', 'pick-and-roll', 'situations', 'stay', 'front', 'guards', 'wings', 'perimeter', 'jumps', 'passing', 'lanes', 'well', 'menace', 'defense', 'locked', 'coach', 'k', 'praised', 'practice', 'habits', 'work', 'ethic', 'built', 'strong', 'reputation', 'high', 'character', 'kid', 'desire', 'great', 'motor', 'one', 'strongest', 'assets', 'plays', 'great', 'competitiveness', 'physicality', 'out-works', 'out-hustles', 'opponents', 'commands', 'ball', 'looks', 'dominate', 'one', 'youngest', 'prospects', 'available', \"year's\", 'draft', 'turn', '20', 'years', 'old', 'march', 'rookie', 'season', 'appears', 'potentially', 'ideal', 'small', 'ball', 'five', \"today's\", 'nba']\n"
     ]
    }
   ],
   "source": [
    "# Filter stop words from tokenized words\n",
    "words = [word for word in words if word not in stopwords.words('english') if word != \"he's\"]\n",
    "print(words)"
   ]
  },
  {
   "cell_type": "markdown",
   "metadata": {},
   "source": [
    "Now that we have our refined list of tokenized words, the next steps to consider including two approaches for accounting for the variability in word forms:\n",
    "\n",
    "* **Stemming** is the process of truncating words to a common base form (stem), which may or may not be an actual word\n",
    "\n",
    "* **Lemmatization** is also the process of converting words to a common base form, but the base form is a dictionary word and determined according to the lexical category (e.g., noun, adjective)"
   ]
  },
  {
   "cell_type": "code",
   "execution_count": 19,
   "metadata": {},
   "outputs": [
    {
     "name": "stdout",
     "output_type": "stream",
     "text": [
      "['nba-readi', 'bodi', 'posit', 'versatil', 'display', 'unusu', 'smooth', 'fluid', 'movement', '6\\'11\"', '234-pound', 'frame', 'elit', 'agil', 'athlet', 'great', 'later', 'quick', 'except', 'leaper', 'jump', 'well', 'feet', 'elev', 'quickli', 'realli', 'get', 'floor', 'well', 'second', 'third', 'jump', 'play', 'effortlessli', 'rim', 'possess', 'great', 'hand', 'quick', 'feet', 'catch', 'everyth', 'come', 'way', 'coordin', 'movement', 'good', 'bodi', 'control', 'good', 'overal', 'ball-handl', 'big', 'man', 'multifacet', 'offens', 'skillset', 'versatile/natur', 'scorer', 'polish', 'footwork', 'post', 'shoulder', \"team'\", 'offens', 'load', 'get', 'rim', 'easili', 'strong', 'finish', 'around', 'basket', 'soft', 'touch', 'score', 'around', 'rim', 'either', 'hand', 'solid', 'low', 'post', 'scorer', 'possess', 'bevi', 'floater', 'runner', 'hook', 'shot', 'get', 'defend', 'balanc', 'array', 'ball', 'fake', 'good', 'job', 'work', 'around', 'rim', 'get', 'open', 'shown', 'abil', 'expand', 'game', 'take', 'oppon', 'dribbl', 'use', 'quick', 'foot', 'speed', 'shown', 'flash', 'abl', 'take', 'game', 'beyond', '3-point', 'line', 'potenti', 'stretch', '4/5', 'catch-and-shoot', 'player', 'solid', 'shoot', 'form', 'develop', 'reliabl', 'mid-range/outsid', 'shooter', 'shooter', 'next', 'level', 'develop', 'nice', 'mid-rang', 'jumper', 'get', 'turnaround', 'step', 'back', 'move', 'play', 'well', 'tripl', 'threat', 'posit', 'includ', 'nice', 'jab', 'step', 'tool', 'dual', 'pick-and-rol', 'threat', 'offens', 'rebounding/nos', 'ball', 'react', 'quickli', 'rebound', 'miss', 'knack', 'turn', 'offens', 'rebound', 'second-ch', 'point', 'especi', 'traffic', 'keep', 'possess', 'aliv', 'show', 'great', 'time', 'clean', 'miss', 'shot', 'take', 'defens', 'rebound', 'go', 'coast', 'coast', 'either', 'finish', 'lane', 'set', 'teammat', 'open', 'shot', 'abil', 'run', 'floor', 'pair', 'agil', 'euro-step', 'big', 'space', 'deceler', 'decent', 'elit', 'instinct', 'defend', 'rim', 'block', 'shot', 'effect', 'challeng', 'shooter', 'use', 'length', 'isol', 'situat', 'forc', 'contest', 'shot', 'great', 'switch', 'pick-and-rol', 'situat', 'stay', 'front', 'guard', 'wing', 'perimet', 'jump', 'pass', 'lane', 'well', 'menac', 'defens', 'lock', 'coach', 'k', 'prais', 'practic', 'habit', 'work', 'ethic', 'built', 'strong', 'reput', 'high', 'charact', 'kid', 'desir', 'great', 'motor', 'one', 'strongest', 'asset', 'play', 'great', 'competit', 'physic', 'out-work', 'out-hustl', 'oppon', 'command', 'ball', 'look', 'domin', 'one', 'youngest', 'prospect', 'avail', \"year'\", 'draft', 'turn', '20', 'year', 'old', 'march', 'rooki', 'season', 'appear', 'potenti', 'ideal', 'small', 'ball', 'five', \"today'\", 'nba']\n"
     ]
    }
   ],
   "source": [
    "# Stemming\n",
    "ps = PorterStemmer()\n",
    "print([ps.stem(word) for word in words])"
   ]
  },
  {
   "cell_type": "code",
   "execution_count": 21,
   "metadata": {},
   "outputs": [
    {
     "name": "stderr",
     "output_type": "stream",
     "text": [
      "[nltk_data] Downloading package wordnet to\n",
      "[nltk_data]     /Users/charmain/nltk_data...\n",
      "[nltk_data]   Unzipping corpora/wordnet.zip.\n"
     ]
    },
    {
     "name": "stdout",
     "output_type": "stream",
     "text": [
      "['nba-ready', 'body', 'positional', 'versatility', 'display', 'unusually', 'smooth', 'fluid', 'movement', '6\\'11\"', '234-pound', 'frame', 'elite', 'agile', 'athlete', 'great', 'lateral', 'quickness', 'exceptional', 'leaper', 'jump', 'well', 'foot', 'elevates', 'quickly', 'really', 'get', 'floor', 'well', 'second', 'third', 'jump', 'play', 'effortlessly', 'rim', 'posse', 'great', 'hand', 'quick', 'foot', 'catch', 'everything', 'come', 'way', 'coordinated', 'movement', 'good', 'body', 'control', 'good', 'overall', 'ball-handler', 'big', 'man', 'multifaceted', 'offensive', 'skillset', 'versatile/natural', 'scorer', 'polished', 'footwork', 'post', 'shoulder', \"team's\", 'offensive', 'load', 'get', 'rim', 'easily', 'strong', 'finisher', 'around', 'basket', 'soft', 'touch', 'score', 'around', 'rim', 'either', 'hand', 'solid', 'low', 'post', 'scorer', 'posse', 'bevy', 'floater', 'runner', 'hook', 'shot', 'get', 'defender', 'balance', 'array', 'ball', 'fake', 'good', 'job', 'working', 'around', 'rim', 'getting', 'open', 'shown', 'ability', 'expand', 'game', 'take', 'opponent', 'dribble', 'using', 'quick', 'foot', 'speed', 'shown', 'flash', 'able', 'take', 'game', 'beyond', '3-point', 'line', 'potential', 'stretch', '4/5', 'catch-and-shoot', 'player', 'solid', 'shooting', 'form', 'develop', 'reliable', 'mid-range/outside', 'shooter', 'shooter', 'next', 'level', 'developed', 'nice', 'mid-range', 'jumper', 'get', 'turnaround', 'step', 'back', 'move', 'play', 'well', 'triple', 'threat', 'position', 'including', 'nice', 'jab', 'step', 'tool', 'dual', 'pick-and-roll', 'threat', 'offensive', 'rebounding/nose', 'ball', 'reacts', 'quickly', 'rebound', 'miss', 'knack', 'turning', 'offensive', 'rebound', 'second-chance', 'point', 'especially', 'traffic', 'keep', 'possession', 'alive', 'show', 'great', 'timing', 'cleaning', 'missed', 'shot', 'take', 'defensive', 'rebound', 'go', 'coast', 'coast', 'either', 'finishing', 'lane', 'setting', 'teammate', 'open', 'shot', 'ability', 'run', 'floor', 'paired', 'agility', 'euro-step', 'big', 'space', 'decelerate', 'decent', 'elite', 'instinct', 'defending', 'rim', 'blocking', 'shot', 'effectively', 'challenge', 'shooter', 'using', 'length', 'isolation', 'situation', 'force', 'contested', 'shot', 'great', 'switching', 'pick-and-roll', 'situation', 'stay', 'front', 'guard', 'wing', 'perimeter', 'jump', 'passing', 'lane', 'well', 'menace', 'defense', 'locked', 'coach', 'k', 'praised', 'practice', 'habit', 'work', 'ethic', 'built', 'strong', 'reputation', 'high', 'character', 'kid', 'desire', 'great', 'motor', 'one', 'strongest', 'asset', 'play', 'great', 'competitiveness', 'physicality', 'out-works', 'out-hustles', 'opponent', 'command', 'ball', 'look', 'dominate', 'one', 'youngest', 'prospect', 'available', \"year's\", 'draft', 'turn', '20', 'year', 'old', 'march', 'rookie', 'season', 'appears', 'potentially', 'ideal', 'small', 'ball', 'five', \"today's\", 'nba']\n"
     ]
    }
   ],
   "source": [
    "# Lemmatizataion\n",
    "nltk.download('wordnet')\n",
    "lmtzr = WordNetLemmatizer()\n",
    "words = [lmtzr.lemmatize(word) for word in words]\n",
    "print(words)"
   ]
  },
  {
   "cell_type": "markdown",
   "metadata": {},
   "source": [
    "We have now reached a good place in regard to standardizing our word list. Let's define a function that performs all of the necessary tasks to standardize a scouting report (strengths or weaknesses) for a particular player."
   ]
  },
  {
   "cell_type": "code",
   "execution_count": 22,
   "metadata": {},
   "outputs": [],
   "source": [
    "def standardize_report(pid, report='Strengths'):\n",
    "    # Print player information\n",
    "    plyr = df.loc[pid]\n",
    "    print(plyr['Player'], plyr['H'], plyr['W'], plyr['P'], plyr['School'], plyr['C'], '\\n')\n",
    "    \n",
    "    # Extract report from player data frame\n",
    "    s = df.at[pid, report]\n",
    "    \n",
    "    # Convert text to lower case\n",
    "    s = s.lower()\n",
    "    \n",
    "    # Remove unnecessary punctuation\n",
    "    s = re.sub('[,()]', '', s)\n",
    "    \n",
    "    # Regular expression tokenization - Method 1\n",
    "    words = regexp_tokenize(s, '[^. ]+')\n",
    "    \n",
    "    # Filter stop words from tokenized words\n",
    "    words = [word for word in words if word not in stopwords.words('english') if word != \"he's\"]\n",
    "    \n",
    "    # Lemmatizataion\n",
    "    lmtzr = WordNetLemmatizer()\n",
    "    words = [lmtzr.lemmatize(word) for word in words]\n",
    "    \n",
    "    return words"
   ]
  },
  {
   "cell_type": "code",
   "execution_count": 23,
   "metadata": {},
   "outputs": [
    {
     "name": "stdout",
     "output_type": "stream",
     "text": [
      "Collin Sexton 6-2 185 PG Alabama Fr. \n",
      "\n",
      "['sexton', 'one', 'dynamic', 'guard', 'country', 'tool', 'become', 'versatile', 'weapon', 'nba', 'level', 'although', 'slightly', 'undersized', 'height', '6-2', 'play', 'great', 'physicality', 'athleticism', 'aggression', \"6'6\", '5', 'wingspan', \"8'0\", 'standing', 'reach', 'player', 'love', 'spotlight', 'seems', 'energized', 'bright', 'light', 'stiff', 'competition', 'love', 'play', 'contact', 'frame', 'absorb', 'going', 'rim', 'strength', 'athleticism', 'finish', 'contact', 'also', 'get', 'free', 'throw', 'line', 'high', 'rate', 'sexton', 'still', 'could', 'stand', 'become', 'consistent', 'charity', 'stripe', 'overall', 'convert', 'attempt', 'proficient', 'level', 'sexton', 'combine', 'strength', 'blazing', 'speed', 'agility', 'creative', 'ball', 'handling', 'form', 'lethal', 'slashing', 'arsenal', 'great', 'job', 'finding', 'angle', 'get', 'basket', 'changing', 'direction', 'keep', 'defender', 'balance', 'sexton', 'also', 'good', 'job', 'changing', 'speed', 'perimeter', 'coming', 'ball', 'screen', 'isolation', 'allows', 'keep', 'man', 'guessing', 'much', 'easily', 'get', 'lane', 'sexton', 'constantly', 'attack', 'mode', 'looking', 'make', 'play', 'wiggle', 'dribble', 'naturally', 'lead', 'make', 'play', 'either', 'teammate', \"sexton's\", 'jumper', 'also', 'look', 'promising', 'combine', 'ability', 'get', 'rim', 'variety', 'move', 'perimeter', 'utilizes', 'step', 'back', 'pull-up', 'even', 'mid', 'range', 'fallaways', 'dangerous', 'scorer', 'mid', 'range', 'area', 'even', 'though', 'essential', 'part', \"today's\", 'game', 'best', 'scorer', 'excel', 'area', 'pas', 'first', 'point', 'guard', 'prerequisite', 'vision', 'playmaking', 'ability', 'needed', 'nba', 'floor', 'general', 'great', 'facilitator', 'transition', 'ability', 'get', 'lane', 'half', 'court', 'allows', 'collapse', 'defense', 'find', 'open', 'teammate', 'floor', 'aggressive', 'style', 'combined', 'explosiveness', 'point', 'towards', 'high', 'upside', 'defensive', 'end', 'next', 'level', 'sexton', 'also', 'afraid', 'big', 'moment', 'back', 'tougher', 'competition', 'play', 'tremendous', 'passion', 'seems', 'perform', 'best', 'big', 'game', 'two-way', 'skillset', 'determination', 'sexton', 'chance', 'quality', 'lead', 'guard', 'nba']\n"
     ]
    }
   ],
   "source": [
    "pid = 9\n",
    "words = standardize_report(pid)\n",
    "print(words)"
   ]
  },
  {
   "cell_type": "markdown",
   "metadata": {},
   "source": [
    "Let's explore some basic techniques for analyzing the frequency of the words used in the scouting report. This is often referred to as a *bag-of-words* model."
   ]
  },
  {
   "cell_type": "code",
   "execution_count": 24,
   "metadata": {},
   "outputs": [
    {
     "data": {
      "text/plain": [
       "[('sexton', 7),\n",
       " ('play', 5),\n",
       " ('get', 5),\n",
       " ('also', 4),\n",
       " ('guard', 3),\n",
       " ('nba', 3),\n",
       " ('level', 3),\n",
       " ('great', 3),\n",
       " ('ability', 3),\n",
       " ('become', 2),\n",
       " ('athleticism', 2),\n",
       " ('love', 2),\n",
       " ('seems', 2),\n",
       " ('competition', 2),\n",
       " ('contact', 2),\n",
       " ('rim', 2),\n",
       " ('strength', 2),\n",
       " ('high', 2),\n",
       " ('combine', 2),\n",
       " ('speed', 2)]"
      ]
     },
     "execution_count": 24,
     "metadata": {},
     "output_type": "execute_result"
    }
   ],
   "source": [
    "# Counter from Collections Module\n",
    "c = Counter(words)\n",
    "c.most_common(20)"
   ]
  },
  {
   "cell_type": "code",
   "execution_count": 25,
   "metadata": {},
   "outputs": [
    {
     "data": {
      "text/plain": [
       "[('sexton', 7),\n",
       " ('play', 5),\n",
       " ('get', 5),\n",
       " ('also', 4),\n",
       " ('guard', 3),\n",
       " ('nba', 3),\n",
       " ('level', 3),\n",
       " ('great', 3),\n",
       " ('ability', 3),\n",
       " ('become', 2),\n",
       " ('athleticism', 2),\n",
       " ('love', 2),\n",
       " ('seems', 2),\n",
       " ('competition', 2),\n",
       " ('contact', 2),\n",
       " ('rim', 2),\n",
       " ('strength', 2),\n",
       " ('high', 2),\n",
       " ('combine', 2),\n",
       " ('speed', 2)]"
      ]
     },
     "execution_count": 25,
     "metadata": {},
     "output_type": "execute_result"
    }
   ],
   "source": [
    "# FreqDist\n",
    "fd = FreqDist(Text(words))\n",
    "fd.most_common(20)"
   ]
  },
  {
   "cell_type": "code",
   "execution_count": 26,
   "metadata": {},
   "outputs": [
    {
     "name": "stdout",
     "output_type": "stream",
     "text": [
      "sexton   play    get   also  guard \n",
      "     7      5      5      4      3 \n"
     ]
    }
   ],
   "source": [
    "# Tabulate\n",
    "fd.tabulate(5)"
   ]
  },
  {
   "cell_type": "code",
   "execution_count": 27,
   "metadata": {},
   "outputs": [
    {
     "name": "stdout",
     "output_type": "stream",
     "text": [
      "Total samples 224\n",
      "Unique words 165\n"
     ]
    }
   ],
   "source": [
    "# Total samples and unique words\n",
    "print('Total samples', fd.N())\n",
    "print('Unique words', fd.B())"
   ]
  },
  {
   "cell_type": "code",
   "execution_count": 28,
   "metadata": {},
   "outputs": [
    {
     "data": {
      "image/png": "[encoded data removed]",
      "text/plain": [
       "<Figure size 864x288 with 1 Axes>"
      ]
     },
     "metadata": {
      "needs_background": "light"
     },
     "output_type": "display_data"
    }
   ],
   "source": [
    "# Visualize frequency of most common words\n",
    "plt.figure(figsize=(12,4))\n",
    "fd.plot(20, title=df.loc[pid, 'Player'])"
   ]
  },
  {
   "cell_type": "code",
   "execution_count": 30,
   "metadata": {},
   "outputs": [
    {
     "ename": "ValueError",
     "evalue": "too many values to unpack (expected 2)",
     "output_type": "error",
     "traceback": [
      "\u001b[0;31m---------------------------------------------------------------------------\u001b[0m",
      "\u001b[0;31mValueError\u001b[0m                                Traceback (most recent call last)",
      "\u001b[0;32m<ipython-input-30-489e253ca00b>\u001b[0m in \u001b[0;36m<module>\u001b[0;34m\u001b[0m\n\u001b[1;32m      1\u001b[0m \u001b[0;31m# Collocations\u001b[0m\u001b[0;34m\u001b[0m\u001b[0;34m\u001b[0m\u001b[0;34m\u001b[0m\u001b[0m\n\u001b[0;32m----> 2\u001b[0;31m \u001b[0mText\u001b[0m\u001b[0;34m(\u001b[0m\u001b[0mwords\u001b[0m\u001b[0;34m)\u001b[0m\u001b[0;34m.\u001b[0m\u001b[0mcollocations\u001b[0m\u001b[0;34m(\u001b[0m\u001b[0;34m)\u001b[0m\u001b[0;34m\u001b[0m\u001b[0;34m\u001b[0m\u001b[0m\n\u001b[0m",
      "\u001b[0;32m/anaconda3/lib/python3.6/site-packages/nltk/text.py\u001b[0m in \u001b[0;36mcollocations\u001b[0;34m(self, num, window_size)\u001b[0m\n\u001b[1;32m    438\u001b[0m         \"\"\"\n\u001b[1;32m    439\u001b[0m \u001b[0;34m\u001b[0m\u001b[0m\n\u001b[0;32m--> 440\u001b[0;31m         \u001b[0mcollocation_strings\u001b[0m \u001b[0;34m=\u001b[0m \u001b[0;34m[\u001b[0m\u001b[0mw1\u001b[0m \u001b[0;34m+\u001b[0m \u001b[0;34m' '\u001b[0m \u001b[0;34m+\u001b[0m \u001b[0mw2\u001b[0m \u001b[0;32mfor\u001b[0m \u001b[0mw1\u001b[0m\u001b[0;34m,\u001b[0m \u001b[0mw2\u001b[0m \u001b[0;32min\u001b[0m \u001b[0mself\u001b[0m\u001b[0;34m.\u001b[0m\u001b[0mcollocation_list\u001b[0m\u001b[0;34m(\u001b[0m\u001b[0mnum\u001b[0m\u001b[0;34m,\u001b[0m \u001b[0mwindow_size\u001b[0m\u001b[0;34m)\u001b[0m\u001b[0;34m]\u001b[0m\u001b[0;34m\u001b[0m\u001b[0;34m\u001b[0m\u001b[0m\n\u001b[0m\u001b[1;32m    441\u001b[0m         \u001b[0mprint\u001b[0m\u001b[0;34m(\u001b[0m\u001b[0mtokenwrap\u001b[0m\u001b[0;34m(\u001b[0m\u001b[0mcollocation_strings\u001b[0m\u001b[0;34m,\u001b[0m \u001b[0mseparator\u001b[0m\u001b[0;34m=\u001b[0m\u001b[0;34m\"; \"\u001b[0m\u001b[0;34m)\u001b[0m\u001b[0;34m)\u001b[0m\u001b[0;34m\u001b[0m\u001b[0;34m\u001b[0m\u001b[0m\n\u001b[1;32m    442\u001b[0m \u001b[0;34m\u001b[0m\u001b[0m\n",
      "\u001b[0;32m/anaconda3/lib/python3.6/site-packages/nltk/text.py\u001b[0m in \u001b[0;36m<listcomp>\u001b[0;34m(.0)\u001b[0m\n\u001b[1;32m    438\u001b[0m         \"\"\"\n\u001b[1;32m    439\u001b[0m \u001b[0;34m\u001b[0m\u001b[0m\n\u001b[0;32m--> 440\u001b[0;31m         \u001b[0mcollocation_strings\u001b[0m \u001b[0;34m=\u001b[0m \u001b[0;34m[\u001b[0m\u001b[0mw1\u001b[0m \u001b[0;34m+\u001b[0m \u001b[0;34m' '\u001b[0m \u001b[0;34m+\u001b[0m \u001b[0mw2\u001b[0m \u001b[0;32mfor\u001b[0m \u001b[0mw1\u001b[0m\u001b[0;34m,\u001b[0m \u001b[0mw2\u001b[0m \u001b[0;32min\u001b[0m \u001b[0mself\u001b[0m\u001b[0;34m.\u001b[0m\u001b[0mcollocation_list\u001b[0m\u001b[0;34m(\u001b[0m\u001b[0mnum\u001b[0m\u001b[0;34m,\u001b[0m \u001b[0mwindow_size\u001b[0m\u001b[0;34m)\u001b[0m\u001b[0;34m]\u001b[0m\u001b[0;34m\u001b[0m\u001b[0;34m\u001b[0m\u001b[0m\n\u001b[0m\u001b[1;32m    441\u001b[0m         \u001b[0mprint\u001b[0m\u001b[0;34m(\u001b[0m\u001b[0mtokenwrap\u001b[0m\u001b[0;34m(\u001b[0m\u001b[0mcollocation_strings\u001b[0m\u001b[0;34m,\u001b[0m \u001b[0mseparator\u001b[0m\u001b[0;34m=\u001b[0m\u001b[0;34m\"; \"\u001b[0m\u001b[0;34m)\u001b[0m\u001b[0;34m)\u001b[0m\u001b[0;34m\u001b[0m\u001b[0;34m\u001b[0m\u001b[0m\n\u001b[1;32m    442\u001b[0m \u001b[0;34m\u001b[0m\u001b[0m\n",
      "\u001b[0;31mValueError\u001b[0m: too many values to unpack (expected 2)"
     ]
    }
   ],
   "source": [
    "# Collocations\n",
    "Text(words).collocations()"
   ]
  },
  {
   "cell_type": "code",
   "execution_count": 31,
   "metadata": {},
   "outputs": [
    {
     "data": {
      "image/png": "[encoded data removed]",
      "text/plain": [
       "<Figure size 576x576 with 1 Axes>"
      ]
     },
     "metadata": {},
     "output_type": "display_data"
    }
   ],
   "source": [
    "# Word Cloud\n",
    "wc = WordCloud(background_color='white').generate(' '.join(words))\n",
    "plt.figure(figsize=(8,8))\n",
    "plt.xticks([])\n",
    "plt.yticks([])\n",
    "plt.imshow(wc)\n",
    "plt.title(df.loc[pid, 'Player']);"
   ]
  },
  {
   "cell_type": "markdown",
   "metadata": {},
   "source": [
    "OK great, we can analyze a single report for a single player ... how can we analyze the scouting reports for multiple players? In order to do this, we need to assemble our scouting reports into a *corpus*, which is a collection of documents. In our case a \"document\" is a scouting report for a particular player, and the collection will cover the entire set of players."
   ]
  },
  {
   "cell_type": "code",
   "execution_count": 32,
   "metadata": {},
   "outputs": [
    {
     "name": "stdout",
     "output_type": "stream",
     "text": [
      "DeAndre Ayton 7-0 260 C Arizona Fr. \n",
      "\n",
      "Marvin Bagley 6-11 235 PF Duke Fr. \n",
      "\n",
      "Jaren Jackson Jr. 6-11 240 PF Michigan St. Fr. \n",
      "\n",
      "Luka Doncic 6-8 225 SG/SF Slovenia Intl. \n",
      "\n",
      "Michael Porter 6-10 215 SF Missouri Fr. \n",
      "\n",
      "Trae Young 6-2 180 PG Oklahoma Fr. \n",
      "\n",
      "Wendell Carter 6-10 260 PF/C Duke Fr. \n",
      "\n",
      "Mohamed Bamba 7-0 220 C Texas Fr. \n",
      "\n",
      "Mikal Bridges 6-7 210 SG/SF Villanova Jr. \n",
      "\n",
      "Collin Sexton 6-2 185 PG Alabama Fr. \n",
      "\n",
      "Kevin Knox 6-9 215 SF/PF Kentucky Fr. \n",
      "\n",
      "Miles Bridges 6-7 230 SF/PF Michigan St. So. \n",
      "\n",
      "Lonnie Walker 6-4 200 SG Miami Fr. \n",
      "\n",
      "Khyri Thomas 6-3 210 PG/SG Creighton Jr. \n",
      "\n",
      "Robert Williams 6-9 240 PF/C Texas A&M So. \n",
      "\n",
      "Zhaire Smith 6-5 195 SG Texas Tech Fr. \n",
      "\n",
      "Anfernee Simons 6-3 180 PG/SG Undecided HSSr. \n",
      "\n",
      "Gary Trent Jr. 6-6 215 SG Duke Fr. \n",
      "\n",
      "Troy Brown 6-7 215 PG/SG Oregon Fr. \n",
      "\n",
      "Dzanan Musa 6-9 195 SF Bosnia & Herz... Intl. \n",
      "\n",
      "Donte DiVincenzo 6-4 205 SG Villanova So. \n",
      "\n",
      "Trevon Duval 6-2 190 PG Duke Fr. \n",
      "\n",
      "Omari Spellman 6-9 260 PF/C Villanova Fr. \n",
      "\n",
      "Landry Shamet 6-4 190 PG/SG Wichita State So. \n",
      "\n",
      "Grayson Allen 6-5 210 SG Duke Sr. \n",
      "\n",
      "Brandon McCoy 7-0 255 C UNLV Fr. \n",
      "\n",
      "Elie Okobo 6-2 180 PG France Intl. \n",
      "\n",
      "Tony Carr 6-5 200 PG Penn State So. \n",
      "\n",
      "Sviatoslav Mykhailiuk 6-8 205 SG Kansas Sr. \n",
      "\n",
      "Hamidou Diallo 6-5 200 SG Kentucky Fr. \n",
      "\n",
      "Malik Newman 6-3 190 SG Kansas So. \n",
      "\n",
      "Goga Bitadze 6-11 250 C Rep. of Georgia Intl. \n",
      "\n",
      "Rawle Alkins 6-4 225 SG Arizona So. \n",
      "\n"
     ]
    },
    {
     "data": {
      "text/plain": [
       "33"
      ]
     },
     "execution_count": 32,
     "metadata": {},
     "output_type": "execute_result"
    }
   ],
   "source": [
    "# Process strength reports and assemble into corpus\n",
    "reports = []\n",
    "for pid in df.index:\n",
    "    if type(df.at[pid, 'Strengths']) == str:\n",
    "        reports.append(standardize_report(pid))\n",
    "len(reports)"
   ]
  },
  {
   "cell_type": "code",
   "execution_count": 33,
   "metadata": {},
   "outputs": [
    {
     "name": "stdout",
     "output_type": "stream",
     "text": [
      "Number of documents: 33\n",
      "Number of words: 5704\n"
     ]
    }
   ],
   "source": [
    "# Define dictionary of scouting reports\n",
    "D = Dictionary(reports)\n",
    "print('Number of documents:', D.num_docs)\n",
    "print('Number of words:', D.num_pos)"
   ]
  },
  {
   "cell_type": "code",
   "execution_count": 34,
   "metadata": {},
   "outputs": [
    {
     "data": {
      "text/plain": [
       "33"
      ]
     },
     "execution_count": 34,
     "metadata": {},
     "output_type": "execute_result"
    }
   ],
   "source": [
    "# Create corpus\n",
    "corpus = [D.doc2bow(report) for report in reports]\n",
    "len(corpus)"
   ]
  },
  {
   "cell_type": "code",
   "execution_count": 35,
   "metadata": {},
   "outputs": [
    {
     "name": "stdout",
     "output_type": "stream",
     "text": [
      "Number of words in document: 220\n"
     ]
    },
    {
     "data": {
      "text/plain": [
       "[(7, 2),\n",
       " (10, 1),\n",
       " (13, 3),\n",
       " (14, 1),\n",
       " (20, 1),\n",
       " (21, 4),\n",
       " (22, 1),\n",
       " (23, 2),\n",
       " (26, 2),\n",
       " (36, 1)]"
      ]
     },
     "execution_count": 35,
     "metadata": {},
     "output_type": "execute_result"
    }
   ],
   "source": [
    "# Preview bag-of-words for specific document\n",
    "pid = 1\n",
    "print('Number of words in document:', len(corpus[pid]))\n",
    "corpus[pid][:10]"
   ]
  },
  {
   "cell_type": "code",
   "execution_count": 36,
   "metadata": {},
   "outputs": [
    {
     "name": "stdout",
     "output_type": "stream",
     "text": [
      "Player: Marvin Bagley\n"
     ]
    },
    {
     "data": {
      "text/plain": [
       "[(62, 'great', 6),\n",
       " (104, 'rim', 5),\n",
       " (115, 'shot', 5),\n",
       " (21, 'ball', 4),\n",
       " (60, 'get', 4),\n",
       " (133, 'well', 4),\n",
       " (232, 'offensive', 4),\n",
       " (13, 'around', 3),\n",
       " (52, 'foot', 3),\n",
       " (61, 'good', 3)]"
      ]
     },
     "execution_count": 36,
     "metadata": {},
     "output_type": "execute_result"
    }
   ],
   "source": [
    "# Report top N words from specific document\n",
    "N = 10\n",
    "print('Player:', df.at[pid, 'Player'])\n",
    "[(i, D.get(i), count) for i, count in sorted(corpus[pid], key=lambda t: t[1], reverse=True)[:N]]"
   ]
  },
  {
   "cell_type": "code",
   "execution_count": 37,
   "metadata": {},
   "outputs": [
    {
     "name": "stdout",
     "output_type": "stream",
     "text": [
      "good 110\n",
      "shot 92\n",
      "great 72\n",
      "well 72\n",
      "ball 70\n",
      "game 58\n",
      "get 58\n",
      "play 58\n",
      "ability 50\n",
      "guard 44\n"
     ]
    }
   ],
   "source": [
    "# Determine total word counts across the entire corpus\n",
    "\n",
    "# Create the defaultdict: total_word_count\n",
    "WC = defaultdict(int)\n",
    "for word_id, word_count in itertools.chain.from_iterable(corpus):\n",
    "    WC[word_id] += word_count\n",
    "\n",
    "# Create a sorted list from the defaultdict: sorted_word_count\n",
    "word_counts = sorted(WC.items(), key=lambda w: w[1], reverse=True) \n",
    "\n",
    "# Print the top 5 words across all documents alongside the count\n",
    "for word_id, word_count in word_counts[:10]:\n",
    "    print(D.get(word_id), word_count)"
   ]
  },
  {
   "cell_type": "code",
   "execution_count": 38,
   "metadata": {},
   "outputs": [
    {
     "name": "stdout",
     "output_type": "stream",
     "text": [
      "5704 ['good', 'good', 'good', 'good', 'good']\n"
     ]
    }
   ],
   "source": [
    "# Assemble all words with frequencies for Word Cloud\n",
    "all_words = []\n",
    "for word_id, word_count in word_counts:\n",
    "    all_words.extend([D.get(word_id)] * word_count)\n",
    "print(len(all_words), all_words[:5])"
   ]
  },
  {
   "cell_type": "code",
   "execution_count": 39,
   "metadata": {},
   "outputs": [
    {
     "data": {
      "image/png": "[encoded data removed]",
      "text/plain": [
       "<Figure size 576x576 with 1 Axes>"
      ]
     },
     "metadata": {},
     "output_type": "display_data"
    }
   ],
   "source": [
    "# Word Cloud\n",
    "wc = WordCloud(background_color='white', collocations=False).generate(' '.join(all_words))\n",
    "plt.figure(figsize=(8,8))\n",
    "plt.xticks([])\n",
    "plt.yticks([])\n",
    "plt.imshow(wc)\n",
    "plt.title('Strengths');"
   ]
  },
  {
   "cell_type": "markdown",
   "metadata": {},
   "source": [
    "We have worked through some examples based on simple frequency counts of (meaningful) words. Let's extend to a more robust model, the term frequency-inverse document frequency (tf-idf) model, which captures the notion that some tokens are used more frequently in general, but may not convey much meaning about a particular document (player). Instead, we want to understand which tokens are used relatively more frequently within a document (player) than across the entire corpus.\n",
    "\n",
    "Each word in a document is characterize by a weight that captures both the term frequency and the inverse document frequency:\n",
    "\n",
    "$tfidf(t, d, D) = tf(t, d) * idf(t, D)$\n",
    "\n",
    "where t is the token, d is the document, and D is the corpus. There are many forms of the *tf* and *idf* functions, but a common approach for each term is as follows:\n",
    "\n",
    "* $tf(t, d) = f_{t,d}$, where $f_{t,d}$ is the frequency of token t in document d \n",
    "\n",
    "* $idf(t, D) = -log \\frac{N_t}{N}$, where $N_t$ is the number of documents where token t appears and N is the total number of documents\n",
    "\n",
    "Therefore, a high tf-idf weight means that there is high term frequency within a given document and relatively low term frequency across the corpus."
   ]
  },
  {
   "cell_type": "code",
   "execution_count": 40,
   "metadata": {},
   "outputs": [
    {
     "name": "stdout",
     "output_type": "stream",
     "text": [
      "Number of tokens: 1464\n"
     ]
    }
   ],
   "source": [
    "# Create a new TfidfModel using the corpus: tfidf\n",
    "tfidf = TfidfModel(corpus)\n",
    "print('Number of tokens:', len(tfidf.dfs))"
   ]
  },
  {
   "cell_type": "code",
   "execution_count": 41,
   "metadata": {},
   "outputs": [
    {
     "name": "stdout",
     "output_type": "stream",
     "text": [
      "Player: Marvin Bagley\n",
      "159 coast 0.15342237967427913\n",
      "226 movement 0.15342237967427913\n",
      "283 take 0.11632983885624512\n",
      "241 pick-and-roll 0.11548780278922127\n",
      "295 using 0.11548780278922127\n",
      "182 elite 0.10327559672225643\n",
      "136 234-pound 0.0956784782796685\n",
      "138 4/5 0.0956784782796685\n",
      "141 agile 0.0956784782796685\n",
      "145 asset 0.0956784782796685\n"
     ]
    }
   ],
   "source": [
    "# Calculate the tfidf weights of specific document: tfidf_weights\n",
    "pid = 1\n",
    "tfidf_weights = tfidf[corpus[pid]]\n",
    "\n",
    "# Sort the weights from highest to lowest: sorted_tfidf_weights\n",
    "sorted_tfidf_weights = sorted(tfidf_weights, key=lambda w: w[1], reverse=True)\n",
    "\n",
    "# Print the top 10 weighted words for selected player\n",
    "print('Player:', df.at[pid, 'Player'])\n",
    "for term_id, weight in sorted_tfidf_weights[:10]:\n",
    "    print(term_id, D.get(term_id), weight)"
   ]
  },
  {
   "cell_type": "markdown",
   "metadata": {},
   "source": [
    "Now, let's calculate the tfidf weights for each player, and create a DataFrame of tfidf weights for each player."
   ]
  },
  {
   "cell_type": "code",
   "execution_count": 42,
   "metadata": {},
   "outputs": [],
   "source": [
    "# Initialize empty DataFrame\n",
    "wdf = pd.DataFrame(index=range(len(tfidf.dfs)))"
   ]
  },
  {
   "cell_type": "code",
   "execution_count": 43,
   "metadata": {},
   "outputs": [],
   "source": [
    "# Loop through documents in corpus\n",
    "i = 0\n",
    "for pid in df.index:\n",
    "    if type(df.at[pid, 'Strengths']) == str:\n",
    "        wdf[df.at[pid, 'Player']] = pd.Series(dict(tfidf[corpus[i]]))\n",
    "        i += 1\n",
    "wdf.fillna(0, inplace=True)"
   ]
  },
  {
   "cell_type": "code",
   "execution_count": 44,
   "metadata": {},
   "outputs": [
    {
     "data": {
      "text/html": [
       "<div>\n",
       "<style scoped>\n",
       "    .dataframe tbody tr th:only-of-type {\n",
       "        vertical-align: middle;\n",
       "    }\n",
       "\n",
       "    .dataframe tbody tr th {\n",
       "        vertical-align: top;\n",
       "    }\n",
       "\n",
       "    .dataframe thead th {\n",
       "        text-align: right;\n",
       "    }\n",
       "</style>\n",
       "<table border=\"1\" class=\"dataframe\">\n",
       "  <thead>\n",
       "    <tr style=\"text-align: right;\">\n",
       "      <th></th>\n",
       "      <th>DeAndre Ayton</th>\n",
       "      <th>Marvin Bagley</th>\n",
       "      <th>Jaren Jackson Jr.</th>\n",
       "      <th>Luka Doncic</th>\n",
       "      <th>Michael Porter</th>\n",
       "      <th>Trae Young</th>\n",
       "      <th>Wendell Carter</th>\n",
       "      <th>Mohamed Bamba</th>\n",
       "      <th>Mikal Bridges</th>\n",
       "      <th>Collin Sexton</th>\n",
       "      <th>Kevin Knox</th>\n",
       "      <th>Miles Bridges</th>\n",
       "      <th>Lonnie Walker</th>\n",
       "      <th>Khyri Thomas</th>\n",
       "      <th>Robert Williams</th>\n",
       "      <th>Zhaire Smith</th>\n",
       "      <th>Anfernee Simons</th>\n",
       "      <th>Gary Trent Jr.</th>\n",
       "      <th>Troy Brown</th>\n",
       "      <th>Dzanan Musa</th>\n",
       "      <th>Donte DiVincenzo</th>\n",
       "      <th>Trevon Duval</th>\n",
       "      <th>Omari Spellman</th>\n",
       "      <th>Landry Shamet</th>\n",
       "      <th>Grayson Allen</th>\n",
       "      <th>Brandon McCoy</th>\n",
       "      <th>Elie Okobo</th>\n",
       "      <th>Tony Carr</th>\n",
       "      <th>Sviatoslav Mykhailiuk</th>\n",
       "      <th>Hamidou Diallo</th>\n",
       "      <th>Malik Newman</th>\n",
       "      <th>Goga Bitadze</th>\n",
       "      <th>Rawle Alkins</th>\n",
       "    </tr>\n",
       "  </thead>\n",
       "  <tbody>\n",
       "    <tr>\n",
       "      <th>0</th>\n",
       "      <td>0.102127</td>\n",
       "      <td>0.000000</td>\n",
       "      <td>0.000000</td>\n",
       "      <td>0.0000</td>\n",
       "      <td>0.000000</td>\n",
       "      <td>0.000000</td>\n",
       "      <td>0.000000</td>\n",
       "      <td>0.0</td>\n",
       "      <td>0.000000</td>\n",
       "      <td>0.000000</td>\n",
       "      <td>0.000000</td>\n",
       "      <td>0.000000</td>\n",
       "      <td>0.0</td>\n",
       "      <td>0.000000</td>\n",
       "      <td>0.000000</td>\n",
       "      <td>0.000000</td>\n",
       "      <td>0.065730</td>\n",
       "      <td>0.000000</td>\n",
       "      <td>0.000000</td>\n",
       "      <td>0.000000</td>\n",
       "      <td>0.000000</td>\n",
       "      <td>0.0</td>\n",
       "      <td>0.000000</td>\n",
       "      <td>0.000000</td>\n",
       "      <td>0.000000</td>\n",
       "      <td>0.000000</td>\n",
       "      <td>0.000000</td>\n",
       "      <td>0.000000</td>\n",
       "      <td>0.000000</td>\n",
       "      <td>0.000000</td>\n",
       "      <td>0.000000</td>\n",
       "      <td>0.000000</td>\n",
       "      <td>0.000000</td>\n",
       "    </tr>\n",
       "    <tr>\n",
       "      <th>1</th>\n",
       "      <td>0.087356</td>\n",
       "      <td>0.000000</td>\n",
       "      <td>0.000000</td>\n",
       "      <td>0.0000</td>\n",
       "      <td>0.087346</td>\n",
       "      <td>0.000000</td>\n",
       "      <td>0.000000</td>\n",
       "      <td>0.0</td>\n",
       "      <td>0.000000</td>\n",
       "      <td>0.000000</td>\n",
       "      <td>0.000000</td>\n",
       "      <td>0.000000</td>\n",
       "      <td>0.0</td>\n",
       "      <td>0.000000</td>\n",
       "      <td>0.000000</td>\n",
       "      <td>0.000000</td>\n",
       "      <td>0.056223</td>\n",
       "      <td>0.000000</td>\n",
       "      <td>0.000000</td>\n",
       "      <td>0.000000</td>\n",
       "      <td>0.000000</td>\n",
       "      <td>0.0</td>\n",
       "      <td>0.000000</td>\n",
       "      <td>0.000000</td>\n",
       "      <td>0.000000</td>\n",
       "      <td>0.000000</td>\n",
       "      <td>0.000000</td>\n",
       "      <td>0.000000</td>\n",
       "      <td>0.000000</td>\n",
       "      <td>0.000000</td>\n",
       "      <td>0.000000</td>\n",
       "      <td>0.000000</td>\n",
       "      <td>0.000000</td>\n",
       "    </tr>\n",
       "    <tr>\n",
       "      <th>2</th>\n",
       "      <td>0.043495</td>\n",
       "      <td>0.000000</td>\n",
       "      <td>0.000000</td>\n",
       "      <td>0.0000</td>\n",
       "      <td>0.000000</td>\n",
       "      <td>0.000000</td>\n",
       "      <td>0.046271</td>\n",
       "      <td>0.0</td>\n",
       "      <td>0.036753</td>\n",
       "      <td>0.029160</td>\n",
       "      <td>0.000000</td>\n",
       "      <td>0.000000</td>\n",
       "      <td>0.0</td>\n",
       "      <td>0.039549</td>\n",
       "      <td>0.000000</td>\n",
       "      <td>0.000000</td>\n",
       "      <td>0.083982</td>\n",
       "      <td>0.000000</td>\n",
       "      <td>0.000000</td>\n",
       "      <td>0.000000</td>\n",
       "      <td>0.000000</td>\n",
       "      <td>0.0</td>\n",
       "      <td>0.042201</td>\n",
       "      <td>0.063962</td>\n",
       "      <td>0.000000</td>\n",
       "      <td>0.168335</td>\n",
       "      <td>0.000000</td>\n",
       "      <td>0.000000</td>\n",
       "      <td>0.000000</td>\n",
       "      <td>0.000000</td>\n",
       "      <td>0.060375</td>\n",
       "      <td>0.000000</td>\n",
       "      <td>0.000000</td>\n",
       "    </tr>\n",
       "    <tr>\n",
       "      <th>3</th>\n",
       "      <td>0.127378</td>\n",
       "      <td>0.000000</td>\n",
       "      <td>0.000000</td>\n",
       "      <td>0.0000</td>\n",
       "      <td>0.000000</td>\n",
       "      <td>0.000000</td>\n",
       "      <td>0.000000</td>\n",
       "      <td>0.0</td>\n",
       "      <td>0.000000</td>\n",
       "      <td>0.000000</td>\n",
       "      <td>0.000000</td>\n",
       "      <td>0.000000</td>\n",
       "      <td>0.0</td>\n",
       "      <td>0.000000</td>\n",
       "      <td>0.000000</td>\n",
       "      <td>0.000000</td>\n",
       "      <td>0.000000</td>\n",
       "      <td>0.000000</td>\n",
       "      <td>0.000000</td>\n",
       "      <td>0.000000</td>\n",
       "      <td>0.000000</td>\n",
       "      <td>0.0</td>\n",
       "      <td>0.000000</td>\n",
       "      <td>0.000000</td>\n",
       "      <td>0.000000</td>\n",
       "      <td>0.000000</td>\n",
       "      <td>0.000000</td>\n",
       "      <td>0.000000</td>\n",
       "      <td>0.000000</td>\n",
       "      <td>0.000000</td>\n",
       "      <td>0.000000</td>\n",
       "      <td>0.000000</td>\n",
       "      <td>0.000000</td>\n",
       "    </tr>\n",
       "    <tr>\n",
       "      <th>4</th>\n",
       "      <td>0.127378</td>\n",
       "      <td>0.000000</td>\n",
       "      <td>0.000000</td>\n",
       "      <td>0.0000</td>\n",
       "      <td>0.000000</td>\n",
       "      <td>0.000000</td>\n",
       "      <td>0.000000</td>\n",
       "      <td>0.0</td>\n",
       "      <td>0.000000</td>\n",
       "      <td>0.000000</td>\n",
       "      <td>0.000000</td>\n",
       "      <td>0.000000</td>\n",
       "      <td>0.0</td>\n",
       "      <td>0.000000</td>\n",
       "      <td>0.000000</td>\n",
       "      <td>0.000000</td>\n",
       "      <td>0.000000</td>\n",
       "      <td>0.000000</td>\n",
       "      <td>0.000000</td>\n",
       "      <td>0.000000</td>\n",
       "      <td>0.000000</td>\n",
       "      <td>0.0</td>\n",
       "      <td>0.000000</td>\n",
       "      <td>0.000000</td>\n",
       "      <td>0.000000</td>\n",
       "      <td>0.000000</td>\n",
       "      <td>0.000000</td>\n",
       "      <td>0.000000</td>\n",
       "      <td>0.000000</td>\n",
       "      <td>0.000000</td>\n",
       "      <td>0.000000</td>\n",
       "      <td>0.000000</td>\n",
       "      <td>0.000000</td>\n",
       "    </tr>\n",
       "    <tr>\n",
       "      <th>5</th>\n",
       "      <td>0.127378</td>\n",
       "      <td>0.000000</td>\n",
       "      <td>0.000000</td>\n",
       "      <td>0.0000</td>\n",
       "      <td>0.000000</td>\n",
       "      <td>0.000000</td>\n",
       "      <td>0.000000</td>\n",
       "      <td>0.0</td>\n",
       "      <td>0.000000</td>\n",
       "      <td>0.000000</td>\n",
       "      <td>0.000000</td>\n",
       "      <td>0.000000</td>\n",
       "      <td>0.0</td>\n",
       "      <td>0.000000</td>\n",
       "      <td>0.000000</td>\n",
       "      <td>0.000000</td>\n",
       "      <td>0.000000</td>\n",
       "      <td>0.000000</td>\n",
       "      <td>0.000000</td>\n",
       "      <td>0.000000</td>\n",
       "      <td>0.000000</td>\n",
       "      <td>0.0</td>\n",
       "      <td>0.000000</td>\n",
       "      <td>0.000000</td>\n",
       "      <td>0.000000</td>\n",
       "      <td>0.000000</td>\n",
       "      <td>0.000000</td>\n",
       "      <td>0.000000</td>\n",
       "      <td>0.000000</td>\n",
       "      <td>0.000000</td>\n",
       "      <td>0.000000</td>\n",
       "      <td>0.000000</td>\n",
       "      <td>0.000000</td>\n",
       "    </tr>\n",
       "    <tr>\n",
       "      <th>6</th>\n",
       "      <td>0.127378</td>\n",
       "      <td>0.000000</td>\n",
       "      <td>0.000000</td>\n",
       "      <td>0.0000</td>\n",
       "      <td>0.000000</td>\n",
       "      <td>0.000000</td>\n",
       "      <td>0.000000</td>\n",
       "      <td>0.0</td>\n",
       "      <td>0.000000</td>\n",
       "      <td>0.000000</td>\n",
       "      <td>0.000000</td>\n",
       "      <td>0.000000</td>\n",
       "      <td>0.0</td>\n",
       "      <td>0.000000</td>\n",
       "      <td>0.000000</td>\n",
       "      <td>0.000000</td>\n",
       "      <td>0.000000</td>\n",
       "      <td>0.000000</td>\n",
       "      <td>0.000000</td>\n",
       "      <td>0.000000</td>\n",
       "      <td>0.000000</td>\n",
       "      <td>0.0</td>\n",
       "      <td>0.000000</td>\n",
       "      <td>0.000000</td>\n",
       "      <td>0.000000</td>\n",
       "      <td>0.000000</td>\n",
       "      <td>0.000000</td>\n",
       "      <td>0.000000</td>\n",
       "      <td>0.000000</td>\n",
       "      <td>0.000000</td>\n",
       "      <td>0.000000</td>\n",
       "      <td>0.000000</td>\n",
       "      <td>0.000000</td>\n",
       "    </tr>\n",
       "    <tr>\n",
       "      <th>7</th>\n",
       "      <td>0.008685</td>\n",
       "      <td>0.013048</td>\n",
       "      <td>0.024554</td>\n",
       "      <td>0.0291</td>\n",
       "      <td>0.034738</td>\n",
       "      <td>0.017274</td>\n",
       "      <td>0.009240</td>\n",
       "      <td>0.0</td>\n",
       "      <td>0.007339</td>\n",
       "      <td>0.017469</td>\n",
       "      <td>0.000000</td>\n",
       "      <td>0.023814</td>\n",
       "      <td>0.0</td>\n",
       "      <td>0.000000</td>\n",
       "      <td>0.009552</td>\n",
       "      <td>0.019439</td>\n",
       "      <td>0.005590</td>\n",
       "      <td>0.010186</td>\n",
       "      <td>0.008998</td>\n",
       "      <td>0.009689</td>\n",
       "      <td>0.016239</td>\n",
       "      <td>0.0</td>\n",
       "      <td>0.008427</td>\n",
       "      <td>0.025545</td>\n",
       "      <td>0.008527</td>\n",
       "      <td>0.000000</td>\n",
       "      <td>0.039395</td>\n",
       "      <td>0.000000</td>\n",
       "      <td>0.008974</td>\n",
       "      <td>0.017196</td>\n",
       "      <td>0.012056</td>\n",
       "      <td>0.018477</td>\n",
       "      <td>0.007977</td>\n",
       "    </tr>\n",
       "    <tr>\n",
       "      <th>8</th>\n",
       "      <td>0.127378</td>\n",
       "      <td>0.000000</td>\n",
       "      <td>0.000000</td>\n",
       "      <td>0.0000</td>\n",
       "      <td>0.000000</td>\n",
       "      <td>0.000000</td>\n",
       "      <td>0.000000</td>\n",
       "      <td>0.0</td>\n",
       "      <td>0.000000</td>\n",
       "      <td>0.000000</td>\n",
       "      <td>0.000000</td>\n",
       "      <td>0.000000</td>\n",
       "      <td>0.0</td>\n",
       "      <td>0.000000</td>\n",
       "      <td>0.000000</td>\n",
       "      <td>0.000000</td>\n",
       "      <td>0.000000</td>\n",
       "      <td>0.000000</td>\n",
       "      <td>0.000000</td>\n",
       "      <td>0.000000</td>\n",
       "      <td>0.000000</td>\n",
       "      <td>0.0</td>\n",
       "      <td>0.000000</td>\n",
       "      <td>0.000000</td>\n",
       "      <td>0.000000</td>\n",
       "      <td>0.000000</td>\n",
       "      <td>0.000000</td>\n",
       "      <td>0.000000</td>\n",
       "      <td>0.000000</td>\n",
       "      <td>0.000000</td>\n",
       "      <td>0.000000</td>\n",
       "      <td>0.000000</td>\n",
       "      <td>0.000000</td>\n",
       "    </tr>\n",
       "    <tr>\n",
       "      <th>9</th>\n",
       "      <td>0.043495</td>\n",
       "      <td>0.000000</td>\n",
       "      <td>0.000000</td>\n",
       "      <td>0.0000</td>\n",
       "      <td>0.000000</td>\n",
       "      <td>0.000000</td>\n",
       "      <td>0.000000</td>\n",
       "      <td>0.0</td>\n",
       "      <td>0.000000</td>\n",
       "      <td>0.029160</td>\n",
       "      <td>0.047938</td>\n",
       "      <td>0.000000</td>\n",
       "      <td>0.0</td>\n",
       "      <td>0.000000</td>\n",
       "      <td>0.000000</td>\n",
       "      <td>0.000000</td>\n",
       "      <td>0.000000</td>\n",
       "      <td>0.051012</td>\n",
       "      <td>0.000000</td>\n",
       "      <td>0.048522</td>\n",
       "      <td>0.000000</td>\n",
       "      <td>0.0</td>\n",
       "      <td>0.000000</td>\n",
       "      <td>0.000000</td>\n",
       "      <td>0.000000</td>\n",
       "      <td>0.056112</td>\n",
       "      <td>0.039457</td>\n",
       "      <td>0.027896</td>\n",
       "      <td>0.000000</td>\n",
       "      <td>0.043057</td>\n",
       "      <td>0.000000</td>\n",
       "      <td>0.092528</td>\n",
       "      <td>0.000000</td>\n",
       "    </tr>\n",
       "  </tbody>\n",
       "</table>\n",
       "</div>"
      ],
      "text/plain": [
       "   DeAndre Ayton  Marvin Bagley  Jaren Jackson Jr.  Luka Doncic  \\\n",
       "0       0.102127       0.000000           0.000000       0.0000   \n",
       "1       0.087356       0.000000           0.000000       0.0000   \n",
       "2       0.043495       0.000000           0.000000       0.0000   \n",
       "3       0.127378       0.000000           0.000000       0.0000   \n",
       "4       0.127378       0.000000           0.000000       0.0000   \n",
       "5       0.127378       0.000000           0.000000       0.0000   \n",
       "6       0.127378       0.000000           0.000000       0.0000   \n",
       "7       0.008685       0.013048           0.024554       0.0291   \n",
       "8       0.127378       0.000000           0.000000       0.0000   \n",
       "9       0.043495       0.000000           0.000000       0.0000   \n",
       "\n",
       "   Michael Porter  Trae Young  Wendell Carter  Mohamed Bamba  Mikal Bridges  \\\n",
       "0        0.000000    0.000000        0.000000            0.0       0.000000   \n",
       "1        0.087346    0.000000        0.000000            0.0       0.000000   \n",
       "2        0.000000    0.000000        0.046271            0.0       0.036753   \n",
       "3        0.000000    0.000000        0.000000            0.0       0.000000   \n",
       "4        0.000000    0.000000        0.000000            0.0       0.000000   \n",
       "5        0.000000    0.000000        0.000000            0.0       0.000000   \n",
       "6        0.000000    0.000000        0.000000            0.0       0.000000   \n",
       "7        0.034738    0.017274        0.009240            0.0       0.007339   \n",
       "8        0.000000    0.000000        0.000000            0.0       0.000000   \n",
       "9        0.000000    0.000000        0.000000            0.0       0.000000   \n",
       "\n",
       "   Collin Sexton  Kevin Knox  Miles Bridges  Lonnie Walker  Khyri Thomas  \\\n",
       "0       0.000000    0.000000       0.000000            0.0      0.000000   \n",
       "1       0.000000    0.000000       0.000000            0.0      0.000000   \n",
       "2       0.029160    0.000000       0.000000            0.0      0.039549   \n",
       "3       0.000000    0.000000       0.000000            0.0      0.000000   \n",
       "4       0.000000    0.000000       0.000000            0.0      0.000000   \n",
       "5       0.000000    0.000000       0.000000            0.0      0.000000   \n",
       "6       0.000000    0.000000       0.000000            0.0      0.000000   \n",
       "7       0.017469    0.000000       0.023814            0.0      0.000000   \n",
       "8       0.000000    0.000000       0.000000            0.0      0.000000   \n",
       "9       0.029160    0.047938       0.000000            0.0      0.000000   \n",
       "\n",
       "   Robert Williams  Zhaire Smith  Anfernee Simons  Gary Trent Jr.  Troy Brown  \\\n",
       "0         0.000000      0.000000         0.065730        0.000000    0.000000   \n",
       "1         0.000000      0.000000         0.056223        0.000000    0.000000   \n",
       "2         0.000000      0.000000         0.083982        0.000000    0.000000   \n",
       "3         0.000000      0.000000         0.000000        0.000000    0.000000   \n",
       "4         0.000000      0.000000         0.000000        0.000000    0.000000   \n",
       "5         0.000000      0.000000         0.000000        0.000000    0.000000   \n",
       "6         0.000000      0.000000         0.000000        0.000000    0.000000   \n",
       "7         0.009552      0.019439         0.005590        0.010186    0.008998   \n",
       "8         0.000000      0.000000         0.000000        0.000000    0.000000   \n",
       "9         0.000000      0.000000         0.000000        0.051012    0.000000   \n",
       "\n",
       "   Dzanan Musa  Donte DiVincenzo  Trevon Duval  Omari Spellman  Landry Shamet  \\\n",
       "0     0.000000          0.000000           0.0        0.000000       0.000000   \n",
       "1     0.000000          0.000000           0.0        0.000000       0.000000   \n",
       "2     0.000000          0.000000           0.0        0.042201       0.063962   \n",
       "3     0.000000          0.000000           0.0        0.000000       0.000000   \n",
       "4     0.000000          0.000000           0.0        0.000000       0.000000   \n",
       "5     0.000000          0.000000           0.0        0.000000       0.000000   \n",
       "6     0.000000          0.000000           0.0        0.000000       0.000000   \n",
       "7     0.009689          0.016239           0.0        0.008427       0.025545   \n",
       "8     0.000000          0.000000           0.0        0.000000       0.000000   \n",
       "9     0.048522          0.000000           0.0        0.000000       0.000000   \n",
       "\n",
       "   Grayson Allen  Brandon McCoy  Elie Okobo  Tony Carr  Sviatoslav Mykhailiuk  \\\n",
       "0       0.000000       0.000000    0.000000   0.000000               0.000000   \n",
       "1       0.000000       0.000000    0.000000   0.000000               0.000000   \n",
       "2       0.000000       0.168335    0.000000   0.000000               0.000000   \n",
       "3       0.000000       0.000000    0.000000   0.000000               0.000000   \n",
       "4       0.000000       0.000000    0.000000   0.000000               0.000000   \n",
       "5       0.000000       0.000000    0.000000   0.000000               0.000000   \n",
       "6       0.000000       0.000000    0.000000   0.000000               0.000000   \n",
       "7       0.008527       0.000000    0.039395   0.000000               0.008974   \n",
       "8       0.000000       0.000000    0.000000   0.000000               0.000000   \n",
       "9       0.000000       0.056112    0.039457   0.027896               0.000000   \n",
       "\n",
       "   Hamidou Diallo  Malik Newman  Goga Bitadze  Rawle Alkins  \n",
       "0        0.000000      0.000000      0.000000      0.000000  \n",
       "1        0.000000      0.000000      0.000000      0.000000  \n",
       "2        0.000000      0.060375      0.000000      0.000000  \n",
       "3        0.000000      0.000000      0.000000      0.000000  \n",
       "4        0.000000      0.000000      0.000000      0.000000  \n",
       "5        0.000000      0.000000      0.000000      0.000000  \n",
       "6        0.000000      0.000000      0.000000      0.000000  \n",
       "7        0.017196      0.012056      0.018477      0.007977  \n",
       "8        0.000000      0.000000      0.000000      0.000000  \n",
       "9        0.043057      0.000000      0.092528      0.000000  "
      ]
     },
     "execution_count": 44,
     "metadata": {},
     "output_type": "execute_result"
    }
   ],
   "source": [
    "# Preview results\n",
    "wdf.head(10)"
   ]
  },
  {
   "cell_type": "markdown",
   "metadata": {},
   "source": [
    "Now that we have report-based features for each player's strengths, let's perform clustering in order to determine whether there are similar groups of players."
   ]
  },
  {
   "cell_type": "code",
   "execution_count": 52,
   "metadata": {},
   "outputs": [
    {
     "data": {
      "text/plain": [
       "KMeans(algorithm='auto', copy_x=True, init='k-means++', max_iter=300,\n",
       "    n_clusters=5, n_init=10, n_jobs=None, precompute_distances='auto',\n",
       "    random_state=None, tol=0.0001, verbose=0)"
      ]
     },
     "execution_count": 52,
     "metadata": {},
     "output_type": "execute_result"
    }
   ],
   "source": [
    "# Define and fit KMeans cluster object\n",
    "k = 5\n",
    "cluster = KMeans(n_clusters=k)\n",
    "cluster.fit(wdf.T)"
   ]
  },
  {
   "cell_type": "code",
   "execution_count": 53,
   "metadata": {},
   "outputs": [
    {
     "data": {
      "text/plain": [
       "0     6\n",
       "1     5\n",
       "2    14\n",
       "3     4\n",
       "4     4\n",
       "dtype: int64"
      ]
     },
     "execution_count": 53,
     "metadata": {},
     "output_type": "execute_result"
    }
   ],
   "source": [
    "# Determine cluster sizes\n",
    "cid = cluster.predict(wdf.T)\n",
    "pd.Series(cid).value_counts().sort_index()"
   ]
  },
  {
   "cell_type": "code",
   "execution_count": 54,
   "metadata": {},
   "outputs": [
    {
     "data": {
      "text/html": [
       "<div>\n",
       "<style scoped>\n",
       "    .dataframe tbody tr th:only-of-type {\n",
       "        vertical-align: middle;\n",
       "    }\n",
       "\n",
       "    .dataframe tbody tr th {\n",
       "        vertical-align: top;\n",
       "    }\n",
       "\n",
       "    .dataframe thead th {\n",
       "        text-align: right;\n",
       "    }\n",
       "</style>\n",
       "<table border=\"1\" class=\"dataframe\">\n",
       "  <thead>\n",
       "    <tr style=\"text-align: right;\">\n",
       "      <th></th>\n",
       "      <th>#</th>\n",
       "      <th>Team</th>\n",
       "      <th>Player</th>\n",
       "      <th>H</th>\n",
       "      <th>W</th>\n",
       "      <th>P</th>\n",
       "      <th>School</th>\n",
       "      <th>C</th>\n",
       "      <th>Cluster</th>\n",
       "    </tr>\n",
       "  </thead>\n",
       "  <tbody>\n",
       "    <tr>\n",
       "      <th>18</th>\n",
       "      <td>19</td>\n",
       "      <td>Atlanta</td>\n",
       "      <td>Anfernee Simons</td>\n",
       "      <td>6-3</td>\n",
       "      <td>180</td>\n",
       "      <td>PG/SG</td>\n",
       "      <td>Undecided</td>\n",
       "      <td>HSSr.</td>\n",
       "      <td>0</td>\n",
       "    </tr>\n",
       "    <tr>\n",
       "      <th>46</th>\n",
       "      <td>47</td>\n",
       "      <td>LA Lakers</td>\n",
       "      <td>Malik Newman</td>\n",
       "      <td>6-3</td>\n",
       "      <td>190</td>\n",
       "      <td>SG</td>\n",
       "      <td>Kansas</td>\n",
       "      <td>So.</td>\n",
       "      <td>0</td>\n",
       "    </tr>\n",
       "    <tr>\n",
       "      <th>3</th>\n",
       "      <td>4</td>\n",
       "      <td>Atlanta</td>\n",
       "      <td>Luka Doncic</td>\n",
       "      <td>6-8</td>\n",
       "      <td>225</td>\n",
       "      <td>SG/SF</td>\n",
       "      <td>Slovenia</td>\n",
       "      <td>Intl.</td>\n",
       "      <td>0</td>\n",
       "    </tr>\n",
       "    <tr>\n",
       "      <th>14</th>\n",
       "      <td>15</td>\n",
       "      <td>Washington</td>\n",
       "      <td>Khyri Thomas</td>\n",
       "      <td>6-3</td>\n",
       "      <td>210</td>\n",
       "      <td>PG/SG</td>\n",
       "      <td>Creighton</td>\n",
       "      <td>Jr.</td>\n",
       "      <td>0</td>\n",
       "    </tr>\n",
       "    <tr>\n",
       "      <th>8</th>\n",
       "      <td>9</td>\n",
       "      <td>New York</td>\n",
       "      <td>Mikal Bridges</td>\n",
       "      <td>6-7</td>\n",
       "      <td>210</td>\n",
       "      <td>SG/SF</td>\n",
       "      <td>Villanova</td>\n",
       "      <td>Jr.</td>\n",
       "      <td>0</td>\n",
       "    </tr>\n",
       "    <tr>\n",
       "      <th>7</th>\n",
       "      <td>8</td>\n",
       "      <td>Cleveland</td>\n",
       "      <td>Mohamed Bamba</td>\n",
       "      <td>7-0</td>\n",
       "      <td>220</td>\n",
       "      <td>C</td>\n",
       "      <td>Texas</td>\n",
       "      <td>Fr.</td>\n",
       "      <td>0</td>\n",
       "    </tr>\n",
       "    <tr>\n",
       "      <th>29</th>\n",
       "      <td>30</td>\n",
       "      <td>Atlanta</td>\n",
       "      <td>Brandon McCoy</td>\n",
       "      <td>7-0</td>\n",
       "      <td>255</td>\n",
       "      <td>C</td>\n",
       "      <td>UNLV</td>\n",
       "      <td>Fr.</td>\n",
       "      <td>1</td>\n",
       "    </tr>\n",
       "    <tr>\n",
       "      <th>0</th>\n",
       "      <td>1</td>\n",
       "      <td>Phoenix</td>\n",
       "      <td>DeAndre Ayton</td>\n",
       "      <td>7-0</td>\n",
       "      <td>260</td>\n",
       "      <td>C</td>\n",
       "      <td>Arizona</td>\n",
       "      <td>Fr.</td>\n",
       "      <td>1</td>\n",
       "    </tr>\n",
       "    <tr>\n",
       "      <th>2</th>\n",
       "      <td>3</td>\n",
       "      <td>Dallas</td>\n",
       "      <td>Jaren Jackson Jr.</td>\n",
       "      <td>6-11</td>\n",
       "      <td>240</td>\n",
       "      <td>PF</td>\n",
       "      <td>Michigan St.</td>\n",
       "      <td>Fr.</td>\n",
       "      <td>1</td>\n",
       "    </tr>\n",
       "    <tr>\n",
       "      <th>6</th>\n",
       "      <td>7</td>\n",
       "      <td>Sacramento</td>\n",
       "      <td>Wendell Carter</td>\n",
       "      <td>6-10</td>\n",
       "      <td>260</td>\n",
       "      <td>PF/C</td>\n",
       "      <td>Duke</td>\n",
       "      <td>Fr.</td>\n",
       "      <td>1</td>\n",
       "    </tr>\n",
       "    <tr>\n",
       "      <th>4</th>\n",
       "      <td>5</td>\n",
       "      <td>Orlando</td>\n",
       "      <td>Michael Porter</td>\n",
       "      <td>6-10</td>\n",
       "      <td>215</td>\n",
       "      <td>SF</td>\n",
       "      <td>Missouri</td>\n",
       "      <td>Fr.</td>\n",
       "      <td>1</td>\n",
       "    </tr>\n",
       "    <tr>\n",
       "      <th>34</th>\n",
       "      <td>35</td>\n",
       "      <td>Orlando</td>\n",
       "      <td>Sviatoslav Mykhailiuk</td>\n",
       "      <td>6-8</td>\n",
       "      <td>205</td>\n",
       "      <td>SG</td>\n",
       "      <td>Kansas</td>\n",
       "      <td>Sr.</td>\n",
       "      <td>2</td>\n",
       "    </tr>\n",
       "    <tr>\n",
       "      <th>23</th>\n",
       "      <td>24</td>\n",
       "      <td>Portland</td>\n",
       "      <td>Trevon Duval</td>\n",
       "      <td>6-2</td>\n",
       "      <td>190</td>\n",
       "      <td>PG</td>\n",
       "      <td>Duke</td>\n",
       "      <td>Fr.</td>\n",
       "      <td>2</td>\n",
       "    </tr>\n",
       "    <tr>\n",
       "      <th>21</th>\n",
       "      <td>22</td>\n",
       "      <td>Chicago</td>\n",
       "      <td>Dzanan Musa</td>\n",
       "      <td>6-9</td>\n",
       "      <td>195</td>\n",
       "      <td>SF</td>\n",
       "      <td>Bosnia &amp; Herz...</td>\n",
       "      <td>Intl.</td>\n",
       "      <td>2</td>\n",
       "    </tr>\n",
       "    <tr>\n",
       "      <th>44</th>\n",
       "      <td>45</td>\n",
       "      <td>Brooklyn</td>\n",
       "      <td>Hamidou Diallo</td>\n",
       "      <td>6-5</td>\n",
       "      <td>200</td>\n",
       "      <td>SG</td>\n",
       "      <td>Kentucky</td>\n",
       "      <td>Fr.</td>\n",
       "      <td>2</td>\n",
       "    </tr>\n",
       "    <tr>\n",
       "      <th>19</th>\n",
       "      <td>20</td>\n",
       "      <td>Minnesota</td>\n",
       "      <td>Gary Trent Jr.</td>\n",
       "      <td>6-6</td>\n",
       "      <td>215</td>\n",
       "      <td>SG</td>\n",
       "      <td>Duke</td>\n",
       "      <td>Fr.</td>\n",
       "      <td>2</td>\n",
       "    </tr>\n",
       "    <tr>\n",
       "      <th>5</th>\n",
       "      <td>6</td>\n",
       "      <td>Chicago</td>\n",
       "      <td>Trae Young</td>\n",
       "      <td>6-2</td>\n",
       "      <td>180</td>\n",
       "      <td>PG</td>\n",
       "      <td>Oklahoma</td>\n",
       "      <td>Fr.</td>\n",
       "      <td>2</td>\n",
       "    </tr>\n",
       "    <tr>\n",
       "      <th>17</th>\n",
       "      <td>18</td>\n",
       "      <td>San Antonio</td>\n",
       "      <td>Zhaire Smith</td>\n",
       "      <td>6-5</td>\n",
       "      <td>195</td>\n",
       "      <td>SG</td>\n",
       "      <td>Texas Tech</td>\n",
       "      <td>Fr.</td>\n",
       "      <td>2</td>\n",
       "    </tr>\n",
       "    <tr>\n",
       "      <th>1</th>\n",
       "      <td>2</td>\n",
       "      <td>Memphis</td>\n",
       "      <td>Marvin Bagley</td>\n",
       "      <td>6-11</td>\n",
       "      <td>235</td>\n",
       "      <td>PF</td>\n",
       "      <td>Duke</td>\n",
       "      <td>Fr.</td>\n",
       "      <td>2</td>\n",
       "    </tr>\n",
       "    <tr>\n",
       "      <th>13</th>\n",
       "      <td>14</td>\n",
       "      <td>Denver</td>\n",
       "      <td>Lonnie Walker</td>\n",
       "      <td>6-4</td>\n",
       "      <td>200</td>\n",
       "      <td>SG</td>\n",
       "      <td>Miami</td>\n",
       "      <td>Fr.</td>\n",
       "      <td>2</td>\n",
       "    </tr>\n",
       "    <tr>\n",
       "      <th>12</th>\n",
       "      <td>13</td>\n",
       "      <td>LA Clippers</td>\n",
       "      <td>Miles Bridges</td>\n",
       "      <td>6-7</td>\n",
       "      <td>230</td>\n",
       "      <td>SF/PF</td>\n",
       "      <td>Michigan St.</td>\n",
       "      <td>So.</td>\n",
       "      <td>2</td>\n",
       "    </tr>\n",
       "    <tr>\n",
       "      <th>10</th>\n",
       "      <td>11</td>\n",
       "      <td>Charlotte</td>\n",
       "      <td>Kevin Knox</td>\n",
       "      <td>6-9</td>\n",
       "      <td>215</td>\n",
       "      <td>SF/PF</td>\n",
       "      <td>Kentucky</td>\n",
       "      <td>Fr.</td>\n",
       "      <td>2</td>\n",
       "    </tr>\n",
       "    <tr>\n",
       "      <th>9</th>\n",
       "      <td>10</td>\n",
       "      <td>Philadelphia</td>\n",
       "      <td>Collin Sexton</td>\n",
       "      <td>6-2</td>\n",
       "      <td>185</td>\n",
       "      <td>PG</td>\n",
       "      <td>Alabama</td>\n",
       "      <td>Fr.</td>\n",
       "      <td>2</td>\n",
       "    </tr>\n",
       "    <tr>\n",
       "      <th>30</th>\n",
       "      <td>31</td>\n",
       "      <td>Phoenix</td>\n",
       "      <td>Elie Okobo</td>\n",
       "      <td>6-2</td>\n",
       "      <td>180</td>\n",
       "      <td>PG</td>\n",
       "      <td>France</td>\n",
       "      <td>Intl.</td>\n",
       "      <td>2</td>\n",
       "    </tr>\n",
       "    <tr>\n",
       "      <th>49</th>\n",
       "      <td>50</td>\n",
       "      <td>Indiana</td>\n",
       "      <td>Goga Bitadze</td>\n",
       "      <td>6-11</td>\n",
       "      <td>250</td>\n",
       "      <td>C</td>\n",
       "      <td>Rep. of Georgia</td>\n",
       "      <td>Intl.</td>\n",
       "      <td>2</td>\n",
       "    </tr>\n",
       "    <tr>\n",
       "      <th>32</th>\n",
       "      <td>33</td>\n",
       "      <td>Atlanta</td>\n",
       "      <td>Tony Carr</td>\n",
       "      <td>6-5</td>\n",
       "      <td>200</td>\n",
       "      <td>PG</td>\n",
       "      <td>Penn State</td>\n",
       "      <td>So.</td>\n",
       "      <td>3</td>\n",
       "    </tr>\n",
       "    <tr>\n",
       "      <th>22</th>\n",
       "      <td>23</td>\n",
       "      <td>Indiana</td>\n",
       "      <td>Donte DiVincenzo</td>\n",
       "      <td>6-4</td>\n",
       "      <td>205</td>\n",
       "      <td>SG</td>\n",
       "      <td>Villanova</td>\n",
       "      <td>So.</td>\n",
       "      <td>3</td>\n",
       "    </tr>\n",
       "    <tr>\n",
       "      <th>26</th>\n",
       "      <td>27</td>\n",
       "      <td>Boston</td>\n",
       "      <td>Landry Shamet</td>\n",
       "      <td>6-4</td>\n",
       "      <td>190</td>\n",
       "      <td>PG/SG</td>\n",
       "      <td>Wichita State</td>\n",
       "      <td>So.</td>\n",
       "      <td>3</td>\n",
       "    </tr>\n",
       "    <tr>\n",
       "      <th>27</th>\n",
       "      <td>28</td>\n",
       "      <td>Golden St.</td>\n",
       "      <td>Grayson Allen</td>\n",
       "      <td>6-5</td>\n",
       "      <td>210</td>\n",
       "      <td>SG</td>\n",
       "      <td>Duke</td>\n",
       "      <td>Sr.</td>\n",
       "      <td>3</td>\n",
       "    </tr>\n",
       "    <tr>\n",
       "      <th>25</th>\n",
       "      <td>26</td>\n",
       "      <td>Philadelphia</td>\n",
       "      <td>Omari Spellman</td>\n",
       "      <td>6-9</td>\n",
       "      <td>260</td>\n",
       "      <td>PF/C</td>\n",
       "      <td>Villanova</td>\n",
       "      <td>Fr.</td>\n",
       "      <td>4</td>\n",
       "    </tr>\n",
       "    <tr>\n",
       "      <th>20</th>\n",
       "      <td>21</td>\n",
       "      <td>Utah</td>\n",
       "      <td>Troy Brown</td>\n",
       "      <td>6-7</td>\n",
       "      <td>215</td>\n",
       "      <td>PG/SG</td>\n",
       "      <td>Oregon</td>\n",
       "      <td>Fr.</td>\n",
       "      <td>4</td>\n",
       "    </tr>\n",
       "    <tr>\n",
       "      <th>15</th>\n",
       "      <td>16</td>\n",
       "      <td>Phoenix</td>\n",
       "      <td>Robert Williams</td>\n",
       "      <td>6-9</td>\n",
       "      <td>240</td>\n",
       "      <td>PF/C</td>\n",
       "      <td>Texas A&amp;M</td>\n",
       "      <td>So.</td>\n",
       "      <td>4</td>\n",
       "    </tr>\n",
       "    <tr>\n",
       "      <th>54</th>\n",
       "      <td>55</td>\n",
       "      <td>Charlotte</td>\n",
       "      <td>Rawle Alkins</td>\n",
       "      <td>6-4</td>\n",
       "      <td>225</td>\n",
       "      <td>SG</td>\n",
       "      <td>Arizona</td>\n",
       "      <td>So.</td>\n",
       "      <td>4</td>\n",
       "    </tr>\n",
       "  </tbody>\n",
       "</table>\n",
       "</div>"
      ],
      "text/plain": [
       "     #          Team                 Player     H    W      P  \\\n",
       "18  19       Atlanta        Anfernee Simons   6-3  180  PG/SG   \n",
       "46  47     LA Lakers           Malik Newman   6-3  190     SG   \n",
       "3    4       Atlanta            Luka Doncic   6-8  225  SG/SF   \n",
       "14  15    Washington           Khyri Thomas   6-3  210  PG/SG   \n",
       "8    9      New York          Mikal Bridges   6-7  210  SG/SF   \n",
       "7    8     Cleveland          Mohamed Bamba   7-0  220      C   \n",
       "29  30       Atlanta          Brandon McCoy   7-0  255      C   \n",
       "0    1       Phoenix          DeAndre Ayton   7-0  260      C   \n",
       "2    3        Dallas      Jaren Jackson Jr.  6-11  240     PF   \n",
       "6    7    Sacramento         Wendell Carter  6-10  260   PF/C   \n",
       "4    5       Orlando         Michael Porter  6-10  215     SF   \n",
       "34  35       Orlando  Sviatoslav Mykhailiuk   6-8  205     SG   \n",
       "23  24      Portland           Trevon Duval   6-2  190     PG   \n",
       "21  22       Chicago            Dzanan Musa   6-9  195     SF   \n",
       "44  45      Brooklyn         Hamidou Diallo   6-5  200     SG   \n",
       "19  20     Minnesota         Gary Trent Jr.   6-6  215     SG   \n",
       "5    6       Chicago             Trae Young   6-2  180     PG   \n",
       "17  18   San Antonio           Zhaire Smith   6-5  195     SG   \n",
       "1    2       Memphis          Marvin Bagley  6-11  235     PF   \n",
       "13  14        Denver          Lonnie Walker   6-4  200     SG   \n",
       "12  13   LA Clippers          Miles Bridges   6-7  230  SF/PF   \n",
       "10  11     Charlotte             Kevin Knox   6-9  215  SF/PF   \n",
       "9   10  Philadelphia          Collin Sexton   6-2  185     PG   \n",
       "30  31       Phoenix             Elie Okobo   6-2  180     PG   \n",
       "49  50       Indiana           Goga Bitadze  6-11  250      C   \n",
       "32  33       Atlanta              Tony Carr   6-5  200     PG   \n",
       "22  23       Indiana       Donte DiVincenzo   6-4  205     SG   \n",
       "26  27        Boston          Landry Shamet   6-4  190  PG/SG   \n",
       "27  28    Golden St.          Grayson Allen   6-5  210     SG   \n",
       "25  26  Philadelphia         Omari Spellman   6-9  260   PF/C   \n",
       "20  21          Utah             Troy Brown   6-7  215  PG/SG   \n",
       "15  16       Phoenix        Robert Williams   6-9  240   PF/C   \n",
       "54  55     Charlotte           Rawle Alkins   6-4  225     SG   \n",
       "\n",
       "              School      C  Cluster  \n",
       "18         Undecided  HSSr.        0  \n",
       "46            Kansas    So.        0  \n",
       "3           Slovenia  Intl.        0  \n",
       "14         Creighton    Jr.        0  \n",
       "8          Villanova    Jr.        0  \n",
       "7              Texas    Fr.        0  \n",
       "29              UNLV    Fr.        1  \n",
       "0            Arizona    Fr.        1  \n",
       "2       Michigan St.    Fr.        1  \n",
       "6               Duke    Fr.        1  \n",
       "4           Missouri    Fr.        1  \n",
       "34            Kansas    Sr.        2  \n",
       "23              Duke    Fr.        2  \n",
       "21  Bosnia & Herz...  Intl.        2  \n",
       "44          Kentucky    Fr.        2  \n",
       "19              Duke    Fr.        2  \n",
       "5           Oklahoma    Fr.        2  \n",
       "17        Texas Tech    Fr.        2  \n",
       "1               Duke    Fr.        2  \n",
       "13             Miami    Fr.        2  \n",
       "12      Michigan St.    So.        2  \n",
       "10          Kentucky    Fr.        2  \n",
       "9            Alabama    Fr.        2  \n",
       "30            France  Intl.        2  \n",
       "49   Rep. of Georgia  Intl.        2  \n",
       "32        Penn State    So.        3  \n",
       "22         Villanova    So.        3  \n",
       "26     Wichita State    So.        3  \n",
       "27              Duke    Sr.        3  \n",
       "25         Villanova    Fr.        4  \n",
       "20            Oregon    Fr.        4  \n",
       "15         Texas A&M    So.        4  \n",
       "54           Arizona    So.        4  "
      ]
     },
     "execution_count": 54,
     "metadata": {},
     "output_type": "execute_result"
    }
   ],
   "source": [
    "# Merge cluster membership with player data frame\n",
    "pd.merge(df, pd.DataFrame(cid, index=wdf.columns, columns=['Cluster']), left_on='Player', right_index=True).drop(labels=['url','Strengths','Weaknesses'], axis=1).sort_values(by='Cluster')"
   ]
  },
  {
   "cell_type": "code",
   "execution_count": 48,
   "metadata": {},
   "outputs": [
    {
     "data": {
      "text/html": [
       "<div>\n",
       "<style scoped>\n",
       "    .dataframe tbody tr th:only-of-type {\n",
       "        vertical-align: middle;\n",
       "    }\n",
       "\n",
       "    .dataframe tbody tr th {\n",
       "        vertical-align: top;\n",
       "    }\n",
       "\n",
       "    .dataframe thead th {\n",
       "        text-align: right;\n",
       "    }\n",
       "</style>\n",
       "<table border=\"1\" class=\"dataframe\">\n",
       "  <thead>\n",
       "    <tr style=\"text-align: right;\">\n",
       "      <th></th>\n",
       "      <th>1%</th>\n",
       "      <th>2%</th>\n",
       "      <th>5</th>\n",
       "      <th>60</th>\n",
       "      <th>7'5</th>\n",
       "      <th>82</th>\n",
       "      <th>9'3</th>\n",
       "      <th>ability</th>\n",
       "      <th>accurate</th>\n",
       "      <th>afraid</th>\n",
       "      <th>agility</th>\n",
       "      <th>alters</th>\n",
       "      <th>another</th>\n",
       "      <th>around</th>\n",
       "      <th>athlete</th>\n",
       "      <th>attention</th>\n",
       "      <th>attracts</th>\n",
       "      <th>avoid</th>\n",
       "      <th>awareness</th>\n",
       "      <th>away</th>\n",
       "      <th>...</th>\n",
       "      <th>alkins'</th>\n",
       "      <th>almost</th>\n",
       "      <th>among</th>\n",
       "      <th>arizona</th>\n",
       "      <th>assume</th>\n",
       "      <th>boy</th>\n",
       "      <th>carve</th>\n",
       "      <th>category</th>\n",
       "      <th>contain</th>\n",
       "      <th>continue</th>\n",
       "      <th>enticing</th>\n",
       "      <th>filled</th>\n",
       "      <th>future</th>\n",
       "      <th>improving</th>\n",
       "      <th>loose</th>\n",
       "      <th>maintaining</th>\n",
       "      <th>out-compete</th>\n",
       "      <th>roster</th>\n",
       "      <th>showcase</th>\n",
       "      <th>up-tempo</th>\n",
       "    </tr>\n",
       "  </thead>\n",
       "  <tbody>\n",
       "    <tr>\n",
       "      <th>0</th>\n",
       "      <td>0.000000</td>\n",
       "      <td>0.000000e+00</td>\n",
       "      <td>0.000000</td>\n",
       "      <td>0.000000e+00</td>\n",
       "      <td>0.000000e+00</td>\n",
       "      <td>0.000000e+00</td>\n",
       "      <td>0.000000e+00</td>\n",
       "      <td>0.010387</td>\n",
       "      <td>0.000000e+00</td>\n",
       "      <td>1.011047e-02</td>\n",
       "      <td>0.015265</td>\n",
       "      <td>0.000000e+00</td>\n",
       "      <td>-8.673617e-19</td>\n",
       "      <td>0.025017</td>\n",
       "      <td>9.064955e-03</td>\n",
       "      <td>8.673617e-19</td>\n",
       "      <td>0.000000e+00</td>\n",
       "      <td>0.000000</td>\n",
       "      <td>9.558756e-03</td>\n",
       "      <td>0.012962</td>\n",
       "      <td>...</td>\n",
       "      <td>1.299822e-02</td>\n",
       "      <td>1.299822e-02</td>\n",
       "      <td>1.299822e-02</td>\n",
       "      <td>2.599644e-02</td>\n",
       "      <td>1.299822e-02</td>\n",
       "      <td>1.299822e-02</td>\n",
       "      <td>1.299822e-02</td>\n",
       "      <td>1.299822e-02</td>\n",
       "      <td>1.299822e-02</td>\n",
       "      <td>1.299822e-02</td>\n",
       "      <td>1.299822e-02</td>\n",
       "      <td>1.299822e-02</td>\n",
       "      <td>1.299822e-02</td>\n",
       "      <td>1.299822e-02</td>\n",
       "      <td>1.299822e-02</td>\n",
       "      <td>1.299822e-02</td>\n",
       "      <td>1.299822e-02</td>\n",
       "      <td>1.299822e-02</td>\n",
       "      <td>1.299822e-02</td>\n",
       "      <td>1.299822e-02</td>\n",
       "    </tr>\n",
       "    <tr>\n",
       "      <th>1</th>\n",
       "      <td>0.000000</td>\n",
       "      <td>-8.673617e-19</td>\n",
       "      <td>0.000000</td>\n",
       "      <td>-4.336809e-19</td>\n",
       "      <td>-4.336809e-19</td>\n",
       "      <td>-4.336809e-19</td>\n",
       "      <td>-4.336809e-19</td>\n",
       "      <td>0.017009</td>\n",
       "      <td>-4.336809e-19</td>\n",
       "      <td>3.307422e-02</td>\n",
       "      <td>0.000000</td>\n",
       "      <td>-4.336809e-19</td>\n",
       "      <td>0.000000e+00</td>\n",
       "      <td>0.009282</td>\n",
       "      <td>1.997236e-02</td>\n",
       "      <td>8.673617e-19</td>\n",
       "      <td>-4.336809e-19</td>\n",
       "      <td>0.013235</td>\n",
       "      <td>-1.734723e-18</td>\n",
       "      <td>0.000000</td>\n",
       "      <td>...</td>\n",
       "      <td>-4.336809e-19</td>\n",
       "      <td>-4.336809e-19</td>\n",
       "      <td>-4.336809e-19</td>\n",
       "      <td>-8.673617e-19</td>\n",
       "      <td>-4.336809e-19</td>\n",
       "      <td>-4.336809e-19</td>\n",
       "      <td>-4.336809e-19</td>\n",
       "      <td>-4.336809e-19</td>\n",
       "      <td>-4.336809e-19</td>\n",
       "      <td>-4.336809e-19</td>\n",
       "      <td>-4.336809e-19</td>\n",
       "      <td>-4.336809e-19</td>\n",
       "      <td>-4.336809e-19</td>\n",
       "      <td>-4.336809e-19</td>\n",
       "      <td>-4.336809e-19</td>\n",
       "      <td>-4.336809e-19</td>\n",
       "      <td>-4.336809e-19</td>\n",
       "      <td>-4.336809e-19</td>\n",
       "      <td>-4.336809e-19</td>\n",
       "      <td>-4.336809e-19</td>\n",
       "    </tr>\n",
       "    <tr>\n",
       "      <th>2</th>\n",
       "      <td>0.020425</td>\n",
       "      <td>3.494043e-02</td>\n",
       "      <td>0.051620</td>\n",
       "      <td>2.547567e-02</td>\n",
       "      <td>2.547567e-02</td>\n",
       "      <td>2.547567e-02</td>\n",
       "      <td>2.547567e-02</td>\n",
       "      <td>0.015443</td>\n",
       "      <td>2.547567e-02</td>\n",
       "      <td>1.992126e-02</td>\n",
       "      <td>0.015375</td>\n",
       "      <td>2.547567e-02</td>\n",
       "      <td>4.677563e-02</td>\n",
       "      <td>0.028371</td>\n",
       "      <td>2.233021e-02</td>\n",
       "      <td>4.215443e-02</td>\n",
       "      <td>2.547567e-02</td>\n",
       "      <td>0.020425</td>\n",
       "      <td>5.156651e-02</td>\n",
       "      <td>0.047107</td>\n",
       "      <td>...</td>\n",
       "      <td>0.000000e+00</td>\n",
       "      <td>0.000000e+00</td>\n",
       "      <td>0.000000e+00</td>\n",
       "      <td>0.000000e+00</td>\n",
       "      <td>0.000000e+00</td>\n",
       "      <td>0.000000e+00</td>\n",
       "      <td>0.000000e+00</td>\n",
       "      <td>0.000000e+00</td>\n",
       "      <td>0.000000e+00</td>\n",
       "      <td>0.000000e+00</td>\n",
       "      <td>0.000000e+00</td>\n",
       "      <td>0.000000e+00</td>\n",
       "      <td>0.000000e+00</td>\n",
       "      <td>0.000000e+00</td>\n",
       "      <td>0.000000e+00</td>\n",
       "      <td>0.000000e+00</td>\n",
       "      <td>0.000000e+00</td>\n",
       "      <td>0.000000e+00</td>\n",
       "      <td>0.000000e+00</td>\n",
       "      <td>0.000000e+00</td>\n",
       "    </tr>\n",
       "    <tr>\n",
       "      <th>3</th>\n",
       "      <td>0.009390</td>\n",
       "      <td>8.031908e-03</td>\n",
       "      <td>0.028926</td>\n",
       "      <td>-4.336809e-19</td>\n",
       "      <td>-4.336809e-19</td>\n",
       "      <td>-4.336809e-19</td>\n",
       "      <td>-4.336809e-19</td>\n",
       "      <td>0.007208</td>\n",
       "      <td>-4.336809e-19</td>\n",
       "      <td>-1.734723e-18</td>\n",
       "      <td>0.000000</td>\n",
       "      <td>-4.336809e-19</td>\n",
       "      <td>0.000000e+00</td>\n",
       "      <td>0.017384</td>\n",
       "      <td>-1.734723e-18</td>\n",
       "      <td>8.673617e-19</td>\n",
       "      <td>-4.336809e-19</td>\n",
       "      <td>0.000000</td>\n",
       "      <td>-1.734723e-18</td>\n",
       "      <td>0.000000</td>\n",
       "      <td>...</td>\n",
       "      <td>-4.336809e-19</td>\n",
       "      <td>-4.336809e-19</td>\n",
       "      <td>-4.336809e-19</td>\n",
       "      <td>-8.673617e-19</td>\n",
       "      <td>-4.336809e-19</td>\n",
       "      <td>-4.336809e-19</td>\n",
       "      <td>-4.336809e-19</td>\n",
       "      <td>-4.336809e-19</td>\n",
       "      <td>-4.336809e-19</td>\n",
       "      <td>-4.336809e-19</td>\n",
       "      <td>-4.336809e-19</td>\n",
       "      <td>-4.336809e-19</td>\n",
       "      <td>-4.336809e-19</td>\n",
       "      <td>-4.336809e-19</td>\n",
       "      <td>-4.336809e-19</td>\n",
       "      <td>-4.336809e-19</td>\n",
       "      <td>-4.336809e-19</td>\n",
       "      <td>-4.336809e-19</td>\n",
       "      <td>-4.336809e-19</td>\n",
       "      <td>-4.336809e-19</td>\n",
       "    </tr>\n",
       "    <tr>\n",
       "      <th>4</th>\n",
       "      <td>0.000000</td>\n",
       "      <td>0.000000e+00</td>\n",
       "      <td>0.030699</td>\n",
       "      <td>0.000000e+00</td>\n",
       "      <td>0.000000e+00</td>\n",
       "      <td>0.000000e+00</td>\n",
       "      <td>0.000000e+00</td>\n",
       "      <td>0.014262</td>\n",
       "      <td>0.000000e+00</td>\n",
       "      <td>1.141130e-02</td>\n",
       "      <td>0.010308</td>\n",
       "      <td>0.000000e+00</td>\n",
       "      <td>0.000000e+00</td>\n",
       "      <td>0.004336</td>\n",
       "      <td>1.568885e-02</td>\n",
       "      <td>0.000000e+00</td>\n",
       "      <td>0.000000e+00</td>\n",
       "      <td>0.000000</td>\n",
       "      <td>0.000000e+00</td>\n",
       "      <td>0.014373</td>\n",
       "      <td>...</td>\n",
       "      <td>0.000000e+00</td>\n",
       "      <td>0.000000e+00</td>\n",
       "      <td>0.000000e+00</td>\n",
       "      <td>0.000000e+00</td>\n",
       "      <td>0.000000e+00</td>\n",
       "      <td>0.000000e+00</td>\n",
       "      <td>0.000000e+00</td>\n",
       "      <td>0.000000e+00</td>\n",
       "      <td>0.000000e+00</td>\n",
       "      <td>0.000000e+00</td>\n",
       "      <td>0.000000e+00</td>\n",
       "      <td>0.000000e+00</td>\n",
       "      <td>0.000000e+00</td>\n",
       "      <td>0.000000e+00</td>\n",
       "      <td>0.000000e+00</td>\n",
       "      <td>0.000000e+00</td>\n",
       "      <td>0.000000e+00</td>\n",
       "      <td>0.000000e+00</td>\n",
       "      <td>0.000000e+00</td>\n",
       "      <td>0.000000e+00</td>\n",
       "    </tr>\n",
       "  </tbody>\n",
       "</table>\n",
       "<p>5 rows × 1464 columns</p>\n",
       "</div>"
      ],
      "text/plain": [
       "         1%            2%         5            60           7'5            82  \\\n",
       "0  0.000000  0.000000e+00  0.000000  0.000000e+00  0.000000e+00  0.000000e+00   \n",
       "1  0.000000 -8.673617e-19  0.000000 -4.336809e-19 -4.336809e-19 -4.336809e-19   \n",
       "2  0.020425  3.494043e-02  0.051620  2.547567e-02  2.547567e-02  2.547567e-02   \n",
       "3  0.009390  8.031908e-03  0.028926 -4.336809e-19 -4.336809e-19 -4.336809e-19   \n",
       "4  0.000000  0.000000e+00  0.030699  0.000000e+00  0.000000e+00  0.000000e+00   \n",
       "\n",
       "            9'3   ability      accurate        afraid   agility        alters  \\\n",
       "0  0.000000e+00  0.010387  0.000000e+00  1.011047e-02  0.015265  0.000000e+00   \n",
       "1 -4.336809e-19  0.017009 -4.336809e-19  3.307422e-02  0.000000 -4.336809e-19   \n",
       "2  2.547567e-02  0.015443  2.547567e-02  1.992126e-02  0.015375  2.547567e-02   \n",
       "3 -4.336809e-19  0.007208 -4.336809e-19 -1.734723e-18  0.000000 -4.336809e-19   \n",
       "4  0.000000e+00  0.014262  0.000000e+00  1.141130e-02  0.010308  0.000000e+00   \n",
       "\n",
       "        another    around       athlete     attention      attracts     avoid  \\\n",
       "0 -8.673617e-19  0.025017  9.064955e-03  8.673617e-19  0.000000e+00  0.000000   \n",
       "1  0.000000e+00  0.009282  1.997236e-02  8.673617e-19 -4.336809e-19  0.013235   \n",
       "2  4.677563e-02  0.028371  2.233021e-02  4.215443e-02  2.547567e-02  0.020425   \n",
       "3  0.000000e+00  0.017384 -1.734723e-18  8.673617e-19 -4.336809e-19  0.000000   \n",
       "4  0.000000e+00  0.004336  1.568885e-02  0.000000e+00  0.000000e+00  0.000000   \n",
       "\n",
       "      awareness      away  ...       alkins'        almost         among  \\\n",
       "0  9.558756e-03  0.012962  ...  1.299822e-02  1.299822e-02  1.299822e-02   \n",
       "1 -1.734723e-18  0.000000  ... -4.336809e-19 -4.336809e-19 -4.336809e-19   \n",
       "2  5.156651e-02  0.047107  ...  0.000000e+00  0.000000e+00  0.000000e+00   \n",
       "3 -1.734723e-18  0.000000  ... -4.336809e-19 -4.336809e-19 -4.336809e-19   \n",
       "4  0.000000e+00  0.014373  ...  0.000000e+00  0.000000e+00  0.000000e+00   \n",
       "\n",
       "        arizona        assume           boy         carve      category  \\\n",
       "0  2.599644e-02  1.299822e-02  1.299822e-02  1.299822e-02  1.299822e-02   \n",
       "1 -8.673617e-19 -4.336809e-19 -4.336809e-19 -4.336809e-19 -4.336809e-19   \n",
       "2  0.000000e+00  0.000000e+00  0.000000e+00  0.000000e+00  0.000000e+00   \n",
       "3 -8.673617e-19 -4.336809e-19 -4.336809e-19 -4.336809e-19 -4.336809e-19   \n",
       "4  0.000000e+00  0.000000e+00  0.000000e+00  0.000000e+00  0.000000e+00   \n",
       "\n",
       "        contain      continue      enticing        filled        future  \\\n",
       "0  1.299822e-02  1.299822e-02  1.299822e-02  1.299822e-02  1.299822e-02   \n",
       "1 -4.336809e-19 -4.336809e-19 -4.336809e-19 -4.336809e-19 -4.336809e-19   \n",
       "2  0.000000e+00  0.000000e+00  0.000000e+00  0.000000e+00  0.000000e+00   \n",
       "3 -4.336809e-19 -4.336809e-19 -4.336809e-19 -4.336809e-19 -4.336809e-19   \n",
       "4  0.000000e+00  0.000000e+00  0.000000e+00  0.000000e+00  0.000000e+00   \n",
       "\n",
       "      improving         loose   maintaining   out-compete        roster  \\\n",
       "0  1.299822e-02  1.299822e-02  1.299822e-02  1.299822e-02  1.299822e-02   \n",
       "1 -4.336809e-19 -4.336809e-19 -4.336809e-19 -4.336809e-19 -4.336809e-19   \n",
       "2  0.000000e+00  0.000000e+00  0.000000e+00  0.000000e+00  0.000000e+00   \n",
       "3 -4.336809e-19 -4.336809e-19 -4.336809e-19 -4.336809e-19 -4.336809e-19   \n",
       "4  0.000000e+00  0.000000e+00  0.000000e+00  0.000000e+00  0.000000e+00   \n",
       "\n",
       "       showcase      up-tempo  \n",
       "0  1.299822e-02  1.299822e-02  \n",
       "1 -4.336809e-19 -4.336809e-19  \n",
       "2  0.000000e+00  0.000000e+00  \n",
       "3 -4.336809e-19 -4.336809e-19  \n",
       "4  0.000000e+00  0.000000e+00  \n",
       "\n",
       "[5 rows x 1464 columns]"
      ]
     },
     "execution_count": 48,
     "metadata": {},
     "output_type": "execute_result"
    }
   ],
   "source": [
    "# Assemble cluster centers into dataframe\n",
    "ccdf = pd.DataFrame(cluster.cluster_centers_)\n",
    "ccdf.columns = [D.get(i) for i in ccdf.columns]\n",
    "ccdf.head()"
   ]
  },
  {
   "cell_type": "code",
   "execution_count": 55,
   "metadata": {},
   "outputs": [
    {
     "name": "stdout",
     "output_type": "stream",
     "text": [
      "Cluster 0 \n",
      "\n",
      "young       0.059814\n",
      "alkins      0.051993\n",
      "knack       0.048231\n",
      "teammate    0.045936\n",
      "able        0.044351\n",
      "allows      0.042667\n",
      "guard       0.042577\n",
      "look        0.042229\n",
      "pass        0.041412\n",
      "rebound     0.040779\n",
      "Name: 0, dtype: float64 \n",
      "\n",
      "Cluster 1 \n",
      "\n",
      "n'           0.058067\n",
      "opponent     0.055076\n",
      "roll         0.052761\n",
      "situation    0.049927\n",
      "result       0.045577\n",
      "used         0.043858\n",
      "steal        0.043480\n",
      "drive        0.042902\n",
      "improved     0.041740\n",
      "every        0.041541\n",
      "Name: 1, dtype: float64 \n",
      "\n",
      "Cluster 2 \n",
      "\n",
      "nike        0.118506\n",
      "eybl        0.118506\n",
      "reliable    0.083315\n",
      "ground      0.068825\n",
      "within      0.066938\n",
      "shoot       0.066186\n",
      "man         0.064726\n",
      "run         0.060486\n",
      "reach       0.059546\n",
      "stroke      0.056942\n",
      "Name: 2, dtype: float64 \n",
      "\n",
      "Cluster 3 \n",
      "\n",
      "3              0.080314\n",
      "armour         0.070271\n",
      "association    0.070271\n",
      "able           0.050594\n",
      "college        0.049525\n",
      "bamba          0.049471\n",
      "per            0.047310\n",
      "100            0.046847\n",
      "nbpa           0.046847\n",
      "outside        0.046414\n",
      "Name: 3, dtype: float64 \n",
      "\n",
      "Cluster 4 \n",
      "\n",
      "carr       0.130714\n",
      "sexton     0.119558\n",
      "percent    0.104397\n",
      "shamet     0.093659\n",
      "guard      0.075792\n",
      "season     0.075118\n",
      "also       0.070871\n",
      "newman     0.070725\n",
      "lead       0.059035\n",
      "malik      0.053044\n",
      "Name: 4, dtype: float64 \n",
      "\n"
     ]
    }
   ],
   "source": [
    "# Report top N words for each cluster\n",
    "N = 10\n",
    "for i in ccdf.index:\n",
    "    print('Cluster', i, '\\n')\n",
    "    sorted_weights = ccdf.loc[i].sort_values(ascending=False)\n",
    "    print(sorted_weights.head(N), '\\n')"
   ]
  },
  {
   "cell_type": "markdown",
   "metadata": {},
   "source": [
    "## Discussion: Potential Improvements"
   ]
  },
  {
   "cell_type": "markdown",
   "metadata": {},
   "source": [
    "Given our natural language processing and analysis, what potential improvements could we make to our approach?"
   ]
  },
  {
   "cell_type": "markdown",
   "metadata": {},
   "source": [
    "## Next Time: Optimization"
   ]
  }
 ],
 "metadata": {
  "kernelspec": {
   "display_name": "Python 3",
   "language": "python",
   "name": "python3"
  },
  "language_info": {
   "codemirror_mode": {
    "name": "ipython",
    "version": 3
   },
   "file_extension": ".py",
   "mimetype": "text/x-python",
   "name": "python",
   "nbconvert_exporter": "python",
   "pygments_lexer": "ipython3",
   "version": "3.6.8"
  }
 },
 "nbformat": 4,
 "nbformat_minor": 1
}
