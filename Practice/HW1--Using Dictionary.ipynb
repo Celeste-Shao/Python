{
 "cells": [
  {
   "cell_type": "markdown",
   "metadata": {},
   "source": [
    "# HW1--Using Dictionary"
   ]
  },
  {
   "cell_type": "markdown",
   "metadata": {},
   "source": [
    "In this homework, I use functions and methods related to 'dictionary' to solute all the exercises, which is my first trying. Then I found it might be easier to use list.index() to achieve the same thing I did using dictionary. I want to try both two methods to finish this homework so I provide another solutions for questions of Exercise 1 & 2 in another html file."
   ]
  },
  {
   "cell_type": "markdown",
   "metadata": {},
   "source": [
    "# Excercise 1"
   ]
  },
  {
   "cell_type": "code",
   "execution_count": 1,
   "metadata": {},
   "outputs": [],
   "source": [
    "# import module 'string'\n",
    "import string"
   ]
  },
  {
   "cell_type": "code",
   "execution_count": 2,
   "metadata": {},
   "outputs": [
    {
     "data": {
      "text/plain": [
       "dict_items([(1, 'A'), (2, 'B'), (3, 'C'), (4, 'D'), (5, 'E'), (6, 'F'), (7, 'G'), (8, 'H'), (9, 'I'), (10, 'J'), (11, 'K'), (12, 'L'), (13, 'M'), (14, 'N'), (15, 'O'), (16, 'P'), (17, 'Q'), (18, 'R'), (19, 'S'), (20, 'T'), (21, 'U'), (22, 'V'), (23, 'W'), (24, 'X'), (25, 'Y'), (26, 'Z')])"
      ]
     },
     "execution_count": 2,
     "metadata": {},
     "output_type": "execute_result"
    }
   ],
   "source": [
    "# create a dictionary for uppercase letters so that I could distibute a number as a key for each letter\n",
    "letter_upper = dict(zip(range(1,27),string.ascii_uppercase))\n",
    "letter_upper.items()"
   ]
  },
  {
   "cell_type": "code",
   "execution_count": 3,
   "metadata": {},
   "outputs": [],
   "source": [
    "## define a fuction: 'shift_alpha'\n",
    "def shift_alpha(word, shift = 0):\n",
    "    result_1 = ''\n",
    "    result_2 = ''\n",
    "    input_word = list(word)                             ## split a word and put letters into a list\n",
    "    for input_letter in input_word:                     \n",
    "        for key, value in letter_upper.items():         ## loop each letter in the dict that I created\n",
    "            if letter_upper[key] == input_letter:       ## to find the key for each value\n",
    "                if 0 < (key + shift%26) < 27:           ## considering shift could be over 26 or under -26\n",
    "                    output_key = key + shift%26         ## I use remainders in conditions\n",
    "                else: output_key = key - (26 - shift%26)\n",
    "                result_1 += input_letter                ## oringinal alphabet\n",
    "                result_2 += letter_upper[output_key]    ## shifted alphabet\n",
    "                result = (result_1, result_2)\n",
    "    print(dict(zip(result_1, result_2)))                ## the dictionary contains original alphabet and \n",
    "    return result                                       ## corresponding shifted results"
   ]
  },
  {
   "cell_type": "code",
   "execution_count": 4,
   "metadata": {},
   "outputs": [
    {
     "name": "stdout",
     "output_type": "stream",
     "text": [
      "{'A': 'A', 'B': 'B', 'C': 'C', 'D': 'D', 'E': 'E', 'F': 'F', 'G': 'G', 'H': 'H', 'I': 'I', 'J': 'J', 'K': 'K', 'L': 'L', 'M': 'M', 'N': 'N', 'O': 'O', 'P': 'P', 'Q': 'Q', 'R': 'R', 'S': 'S', 'T': 'T', 'U': 'U', 'V': 'V', 'W': 'W', 'X': 'X', 'Y': 'Y', 'Z': 'Z'}\n"
     ]
    },
    {
     "data": {
      "text/plain": [
       "('ABCDEFGHIJKLMNOPQRSTUVWXYZ', 'ABCDEFGHIJKLMNOPQRSTUVWXYZ')"
      ]
     },
     "execution_count": 4,
     "metadata": {},
     "output_type": "execute_result"
    }
   ],
   "source": [
    "## expamle 1: no shift\n",
    "alphabet = string.ascii_uppercase\n",
    "shift_alpha(alphabet, 0)"
   ]
  },
  {
   "cell_type": "code",
   "execution_count": 5,
   "metadata": {
    "scrolled": true
   },
   "outputs": [
    {
     "name": "stdout",
     "output_type": "stream",
     "text": [
      "{'A': 'M', 'B': 'N', 'C': 'O', 'D': 'P', 'E': 'Q', 'F': 'R', 'G': 'S', 'H': 'T', 'I': 'U', 'J': 'V', 'K': 'W', 'L': 'X', 'M': 'Y', 'N': 'Z', 'O': 'A', 'P': 'B', 'Q': 'C', 'R': 'D', 'S': 'E', 'T': 'F', 'U': 'G', 'V': 'H', 'W': 'I', 'X': 'J', 'Y': 'K', 'Z': 'L'}\n"
     ]
    },
    {
     "data": {
      "text/plain": [
       "('ABCDEFGHIJKLMNOPQRSTUVWXYZ', 'MNOPQRSTUVWXYZABCDEFGHIJKL')"
      ]
     },
     "execution_count": 5,
     "metadata": {},
     "output_type": "execute_result"
    }
   ],
   "source": [
    "## expamle 2: right shift 12\n",
    "shift_alpha(alphabet, 12)"
   ]
  },
  {
   "cell_type": "code",
   "execution_count": 6,
   "metadata": {},
   "outputs": [
    {
     "name": "stdout",
     "output_type": "stream",
     "text": [
      "{'A': 'M', 'B': 'N', 'C': 'O', 'D': 'P', 'E': 'Q', 'F': 'R', 'G': 'S', 'H': 'T', 'I': 'U', 'J': 'V', 'K': 'W', 'L': 'X', 'M': 'Y', 'N': 'Z', 'O': 'A', 'P': 'B', 'Q': 'C', 'R': 'D', 'S': 'E', 'T': 'F', 'U': 'G', 'V': 'H', 'W': 'I', 'X': 'J', 'Y': 'K', 'Z': 'L'}\n"
     ]
    },
    {
     "data": {
      "text/plain": [
       "('ABCDEFGHIJKLMNOPQRSTUVWXYZ', 'MNOPQRSTUVWXYZABCDEFGHIJKL')"
      ]
     },
     "execution_count": 6,
     "metadata": {},
     "output_type": "execute_result"
    }
   ],
   "source": [
    "## example 3: left shift 3\n",
    "shift_alpha(alphabet, -3)"
   ]
  },
  {
   "cell_type": "markdown",
   "metadata": {},
   "source": [
    "# Excercise 2"
   ]
  },
  {
   "cell_type": "code",
   "execution_count": 7,
   "metadata": {},
   "outputs": [
    {
     "data": {
      "text/plain": [
       "dict_items([(1, 'a'), (2, 'b'), (3, 'c'), (4, 'd'), (5, 'e'), (6, 'f'), (7, 'g'), (8, 'h'), (9, 'i'), (10, 'j'), (11, 'k'), (12, 'l'), (13, 'm'), (14, 'n'), (15, 'o'), (16, 'p'), (17, 'q'), (18, 'r'), (19, 's'), (20, 't'), (21, 'u'), (22, 'v'), (23, 'w'), (24, 'x'), (25, 'y'), (26, 'z')])"
      ]
     },
     "execution_count": 7,
     "metadata": {},
     "output_type": "execute_result"
    }
   ],
   "source": [
    "## Like what I did for upper letters, I create a new dictionary for lower letters\n",
    "letter_lower = dict(zip(range(1,27),string.ascii_lowercase))\n",
    "letter_lower.items()"
   ]
  },
  {
   "cell_type": "code",
   "execution_count": 8,
   "metadata": {},
   "outputs": [],
   "source": [
    "## define a new function: 'encrypt'\n",
    "def encrypt(word, shift = 0):\n",
    "    result = ''\n",
    "    input_word = list(word)\n",
    "    for input_letter in input_word:\n",
    "        if input_letter in letter_upper.values():            ## if--UPPER input_letter\n",
    "            for key, value in letter_upper.items():          \n",
    "                if letter_upper[key] == input_letter:        \n",
    "                    if 0 < (key + shift%26) < 27: \n",
    "                        output_key = key + shift%26\n",
    "                    else: output_key = key - (26 - shift%26)\n",
    "                    result += letter_upper[output_key]\n",
    "        elif input_letter in letter_lower.values():          ## elif--lower input_letter\n",
    "            for key, lower in letter_lower.items():\n",
    "                if letter_lower[key] == input_letter:\n",
    "                    if 0 < (key + shift%26) < 27: \n",
    "                        output_key = key + shift%26\n",
    "                    else: output_key = key - (26 - shift%26)\n",
    "                    result += letter_lower[output_key]\n",
    "        else: result += input_letter                         ## else--non-alphabetic input_letter\n",
    "    return result"
   ]
  },
  {
   "cell_type": "code",
   "execution_count": 9,
   "metadata": {},
   "outputs": [
    {
     "data": {
      "text/plain": [
       "'fuuqj'"
      ]
     },
     "execution_count": 9,
     "metadata": {},
     "output_type": "execute_result"
    }
   ],
   "source": [
    "## Example 1\n",
    "encrypt('apple', 5)"
   ]
  },
  {
   "cell_type": "code",
   "execution_count": 10,
   "metadata": {},
   "outputs": [
    {
     "data": {
      "text/plain": [
       "'Rfwdqfsi'"
      ]
     },
     "execution_count": 10,
     "metadata": {},
     "output_type": "execute_result"
    }
   ],
   "source": [
    "## Example 2\n",
    "encrypt('Maryland', 5)"
   ]
  },
  {
   "cell_type": "code",
   "execution_count": 11,
   "metadata": {},
   "outputs": [
    {
     "data": {
      "text/plain": [
       "'Wtzyj 66'"
      ]
     },
     "execution_count": 11,
     "metadata": {},
     "output_type": "execute_result"
    }
   ],
   "source": [
    "## Example 3\n",
    "encrypt('Route 66', 5)"
   ]
  },
  {
   "cell_type": "code",
   "execution_count": 12,
   "metadata": {},
   "outputs": [
    {
     "data": {
      "text/plain": [
       "'QfYjC'"
      ]
     },
     "execution_count": 12,
     "metadata": {},
     "output_type": "execute_result"
    }
   ],
   "source": [
    "## Example 4\n",
    "encrypt('LaTeX', 5)"
   ]
  },
  {
   "cell_type": "code",
   "execution_count": 13,
   "metadata": {},
   "outputs": [
    {
     "data": {
      "text/plain": [
       "'ybjsyd-knwxy hjsyzwd'"
      ]
     },
     "execution_count": 13,
     "metadata": {},
     "output_type": "execute_result"
    }
   ],
   "source": [
    "## Example 5\n",
    "encrypt('twenty-first century', 5)"
   ]
  },
  {
   "cell_type": "markdown",
   "metadata": {},
   "source": [
    "# Excercise 3"
   ]
  },
  {
   "cell_type": "code",
   "execution_count": 14,
   "metadata": {},
   "outputs": [],
   "source": [
    "## define a new function: 'decrypt'\n",
    "def decrypt(word):\n",
    "    for i in range(-12, 14):      ## I directly use encrypt function I created for last question inside for loop\n",
    "        result = encrypt(word, i) \n",
    "        print(result) "
   ]
  },
  {
   "cell_type": "code",
   "execution_count": 15,
   "metadata": {},
   "outputs": [
    {
     "name": "stdout",
     "output_type": "stream",
     "text": [
      "Gkqbyjo yi dej qd qsj, yj yi q xqryj.\n",
      "Hlrczkp zj efk re rtk, zk zj r yrszk.\n",
      "Imsdalq ak fgl sf sul, al ak s zstal.\n",
      "Jntebmr bl ghm tg tvm, bm bl t atubm.\n",
      "Koufcns cm hin uh uwn, cn cm u buvcn.\n",
      "Lpvgdot dn ijo vi vxo, do dn v cvwdo.\n",
      "Mqwhepu eo jkp wj wyp, ep eo w dwxep.\n",
      "Nrxifqv fp klq xk xzq, fq fp x exyfq.\n",
      "Osyjgrw gq lmr yl yar, gr gq y fyzgr.\n",
      "Ptzkhsx hr mns zm zbs, hs hr z gzahs.\n",
      "Quality is not an act, it is a habit.\n",
      "Rvbmjuz jt opu bo bdu, ju jt b ibcju.\n",
      "Swcnkva ku pqv cp cev, kv ku c jcdkv.\n",
      "Txdolwb lv qrw dq dfw, lw lv d kdelw.\n",
      "Uyepmxc mw rsx er egx, mx mw e lefmx.\n",
      "Vzfqnyd nx sty fs fhy, ny nx f mfgny.\n",
      "Wagroze oy tuz gt giz, oz oy g nghoz.\n",
      "Xbhspaf pz uva hu hja, pa pz h ohipa.\n",
      "Ycitqbg qa vwb iv ikb, qb qa i pijqb.\n",
      "Zdjurch rb wxc jw jlc, rc rb j qjkrc.\n",
      "Aekvsdi sc xyd kx kmd, sd sc k rklsd.\n",
      "Bflwtej td yze ly lne, te td l slmte.\n",
      "Cgmxufk ue zaf mz mof, uf ue m tmnuf.\n",
      "Dhnyvgl vf abg na npg, vg vf n unovg.\n",
      "Eiozwhm wg bch ob oqh, wh wg o vopwh.\n",
      "Fjpaxin xh cdi pc pri, xi xh p wpqxi.\n"
     ]
    }
   ],
   "source": [
    "##  Aristotle: Quality is not an act, it is a habit.\n",
    "Aristotle = 'Swcnkva ku pqv cp cev, kv ku c jcdkv.'\n",
    "decrypt(Aristotle)"
   ]
  },
  {
   "cell_type": "code",
   "execution_count": 16,
   "metadata": {},
   "outputs": [
    {
     "name": "stdout",
     "output_type": "stream",
     "text": [
      "Rlzkk noonqstmhshdr zqd nesdm sgd adfhmmhmf ne fqdzs dmsdqoqhrdr.\n",
      "Small opportunities are often the beginning of great enterprises.\n",
      "Tnbmm pqqpsuvojujft bsf pgufo uif cfhjoojoh pg hsfbu foufsqsjtft.\n",
      "Uocnn qrrqtvwpkvkgu ctg qhvgp vjg dgikppkpi qh itgcv gpvgtrtkugu.\n",
      "Vpdoo rssruwxqlwlhv duh riwhq wkh ehjlqqlqj ri juhdw hqwhusulvhv.\n",
      "Wqepp sttsvxyrmxmiw evi sjxir xli fikmrrmrk sj kviex irxivtvmwiw.\n",
      "Xrfqq tuutwyzsnynjx fwj tkyjs ymj gjlnssnsl tk lwjfy jsyjwuwnxjx.\n",
      "Ysgrr uvvuxzatozoky gxk ulzkt znk hkmottotm ul mxkgz ktzkxvxoyky.\n",
      "Zthss vwwvyabupaplz hyl vmalu aol ilnpuupun vm nylha lualywypzlz.\n",
      "Auitt wxxwzbcvqbqma izm wnbmv bpm jmoqvvqvo wn ozmib mvbmzxzqama.\n",
      "Bvjuu xyyxacdwrcrnb jan xocnw cqn knprwwrwp xo panjc nwcnayarbnb.\n",
      "Cwkvv yzzybdexsdsoc kbo ypdox dro loqsxxsxq yp qbokd oxdobzbscoc.\n",
      "Dxlww zaazcefytetpd lcp zqepy esp mprtyytyr zq rcple pyepcactdpd.\n",
      "Eymxx abbadfgzufuqe mdq arfqz ftq nqsuzzuzs ar sdqmf qzfqdbdueqe.\n",
      "Fznyy bccbeghavgvrf ner bsgra gur ortvaavat bs terng ragrecevfrf.\n",
      "Gaozz cddcfhibwhwsg ofs cthsb hvs psuwbbwbu ct ufsoh sbhsfdfwgsg.\n",
      "Hbpaa deedgijcxixth pgt duitc iwt qtvxccxcv du vgtpi tcitgegxhth.\n",
      "Icqbb effehjkdyjyui qhu evjud jxu ruwyddydw ev whuqj udjuhfhyiui.\n",
      "Jdrcc fggfiklezkzvj riv fwkve kyv svxzeezex fw xivrk vekvigizjvj.\n",
      "Kesdd ghhgjlmfalawk sjw gxlwf lzw twyaffafy gx yjwsl wflwjhjakwk.\n",
      "Lftee hiihkmngbmbxl tkx hymxg max uxzbggbgz hy zkxtm xgmxkikblxl.\n",
      "Mguff ijjilnohcncym uly iznyh nby vyachhcha iz alyun yhnyljlcmym.\n",
      "Nhvgg jkkjmopidodzn vmz jaozi ocz wzbdiidib ja bmzvo ziozmkmdnzn.\n",
      "Oiwhh kllknpqjepeao wna kbpaj pda xacejjejc kb cnawp ajpanlneoao.\n",
      "Pjxii lmmloqrkfqfbp xob lcqbk qeb ybdfkkfkd lc dobxq bkqbomofpbp.\n",
      "Qkyjj mnnmprslgrgcq ypc mdrcl rfc zcegllgle md epcyr clrcpnpgqcq.\n"
     ]
    }
   ],
   "source": [
    "## Demosthenes: Small opportunities are often the beginning of great enterprises.\n",
    "Demosthenes = 'Dxlww zaazcefytetpd lcp zqepy esp mprtyytyr zq rcple pyepcactdpd.'\n",
    "decrypt(Demosthenes)"
   ]
  },
  {
   "cell_type": "code",
   "execution_count": 17,
   "metadata": {},
   "outputs": [
    {
     "name": "stdout",
     "output_type": "stream",
     "text": [
      "Tqnm qa iv cvnwtlumvb, ivl bpm nczbpmz em bzidmt bpm uwzm bzcbp em kiv kwuxzmpmvl. Bw cvlmzabivl bpm bpqvoa bpib izm ib wcz lwwz qa bpm jmab xzmxizibqwv nwz cvlmzabivlqvo bpwam bpib tqm jmgwvl.\n",
      "Uron rb jw dwoxumvnwc, jwm cqn odacqna fn cajenu cqn vxan cadcq fn ljw lxvyanqnwm. Cx dwmnabcjwm cqn cqrwpb cqjc jan jc xda mxxa rb cqn knbc yanyjajcrxw oxa dwmnabcjwmrwp cqxbn cqjc urn knhxwm.\n",
      "Vspo sc kx expyvnwoxd, kxn dro pebdrob go dbkfov dro wybo dbedr go mkx mywzboroxn. Dy exnobcdkxn dro drsxqc drkd kbo kd yeb nyyb sc dro locd zbozkbkdsyx pyb exnobcdkxnsxq dryco drkd vso loiyxn.\n",
      "Wtqp td ly fyqzwoxpye, lyo esp qfcespc hp eclgpw esp xzcp ecfes hp nly nzxacpspyo. Ez fyopcdelyo esp estyrd esle lcp le zfc ozzc td esp mpde acpalcletzy qzc fyopcdelyotyr eszdp esle wtp mpjzyo.\n",
      "Xurq ue mz gzraxpyqzf, mzp ftq rgdftqd iq fdmhqx ftq yadq fdgft iq omz oaybdqtqzp. Fa gzpqdefmzp ftq ftuzse ftmf mdq mf agd paad ue ftq nqef bdqbmdmfuaz rad gzpqdefmzpuzs ftaeq ftmf xuq nqkazp.\n",
      "Yvsr vf na hasbyqzrag, naq gur shegure jr geniry gur zber gehgu jr pna pbzceruraq. Gb haqrefgnaq gur guvatf gung ner ng bhe qbbe vf gur orfg cercnengvba sbe haqrefgnaqvat gubfr gung yvr orlbaq.\n",
      "Zwts wg ob ibtczrasbh, obr hvs tifhvsf ks hfojsz hvs acfs hfihv ks qob qcadfsvsbr. Hc ibrsfghobr hvs hvwbug hvoh ofs oh cif rccf wg hvs psgh dfsdofohwcb tcf ibrsfghobrwbu hvcgs hvoh zws psmcbr.\n",
      "Axut xh pc jcudasbtci, pcs iwt ujgiwtg lt igpkta iwt bdgt igjiw lt rpc rdbegtwtcs. Id jcstghipcs iwt iwxcvh iwpi pgt pi djg sddg xh iwt qthi egtepgpixdc udg jcstghipcsxcv iwdht iwpi axt qtndcs.\n",
      "Byvu yi qd kdvebtcudj, qdt jxu vkhjxuh mu jhqlub jxu cehu jhkjx mu sqd secfhuxudt. Je kdtuhijqdt jxu jxydwi jxqj qhu qj ekh teeh yi jxu ruij fhufqhqjyed veh kdtuhijqdtydw jxeiu jxqj byu ruoedt.\n",
      "Czwv zj re lewfcudvek, reu kyv wlikyvi nv kirmvc kyv dfiv kilky nv tre tfdgivyveu. Kf leuvijkreu kyv kyzexj kyrk riv rk fli uffi zj kyv svjk givgrirkzfe wfi leuvijkreuzex kyfjv kyrk czv svpfeu.\n",
      "Daxw ak sf mfxgdvewfl, sfv lzw xmjlzwj ow ljsnwd lzw egjw ljmlz ow usf ugehjwzwfv. Lg mfvwjklsfv lzw lzafyk lzsl sjw sl gmj vggj ak lzw twkl hjwhsjslagf xgj mfvwjklsfvafy lzgkw lzsl daw twqgfv.\n",
      "Ebyx bl tg ngyhewfxgm, tgw max ynkmaxk px mktoxe max fhkx mknma px vtg vhfikxaxgw. Mh ngwxklmtgw max mabgzl matm tkx tm hnk whhk bl max uxlm ikxitktmbhg yhk ngwxklmtgwbgz mahlx matm ebx uxrhgw.\n",
      "Fczy cm uh ohzifxgyhn, uhx nby zolnbyl qy nlupyf nby gily nlonb qy wuh wigjlybyhx. Ni ohxylmnuhx nby nbcham nbun uly un iol xiil cm nby vymn jlyjuluncih zil ohxylmnuhxcha nbimy nbun fcy vysihx.\n",
      "Gdaz dn vi piajgyhzio, viy ocz apmoczm rz omvqzg ocz hjmz ompoc rz xvi xjhkmzcziy. Oj piyzmnoviy ocz ocdibn ocvo vmz vo jpm yjjm dn ocz wzno kmzkvmvodji ajm piyzmnoviydib ocjnz ocvo gdz wztjiy.\n",
      "Heba eo wj qjbkhziajp, wjz pda bqnpdan sa pnwrah pda ikna pnqpd sa ywj ykilnadajz. Pk qjzanopwjz pda pdejco pdwp wna wp kqn zkkn eo pda xaop lnalwnwpekj bkn qjzanopwjzejc pdkoa pdwp hea xaukjz.\n",
      "Ifcb fp xk rkcliajbkq, xka qeb croqebo tb qoxsbi qeb jlob qorqe tb zxk zljmobebka. Ql rkabopqxka qeb qefkdp qexq xob xq lro allo fp qeb ybpq mobmxoxqflk clo rkabopqxkafkd qelpb qexq ifb ybvlka.\n",
      "Jgdc gq yl sldmjbkclr, ylb rfc dsprfcp uc rpytcj rfc kmpc rpsrf uc ayl amknpcfclb. Rm slbcpqrylb rfc rfgleq rfyr ypc yr msp bmmp gq rfc zcqr npcnypyrgml dmp slbcpqrylbgle rfmqc rfyr jgc zcwmlb.\n",
      "Khed hr zm tmenkcldms, zmc sgd etqsgdq vd sqzudk sgd lnqd sqtsg vd bzm bnloqdgdmc. Sn tmcdqrszmc sgd sghmfr sgzs zqd zs ntq cnnq hr sgd adrs oqdozqzshnm enq tmcdqrszmchmf sgnrd sgzs khd adxnmc.\n",
      "Life is an unfoldment, and the further we travel the more truth we can comprehend. To understand the things that are at our door is the best preparation for understanding those that lie beyond.\n",
      "Mjgf jt bo vogpmenfou, boe uif gvsuifs xf usbwfm uif npsf usvui xf dbo dpnqsfifoe. Up voefstuboe uif uijoht uibu bsf bu pvs epps jt uif cftu qsfqbsbujpo gps voefstuboejoh uiptf uibu mjf cfzpoe.\n",
      "Nkhg ku cp wphqnfogpv, cpf vjg hwtvjgt yg vtcxgn vjg oqtg vtwvj yg ecp eqortgjgpf. Vq wpfgtuvcpf vjg vjkpiu vjcv ctg cv qwt fqqt ku vjg dguv rtgrctcvkqp hqt wpfgtuvcpfkpi vjqug vjcv nkg dgaqpf.\n",
      "Olih lv dq xqirogphqw, dqg wkh ixuwkhu zh wudyho wkh pruh wuxwk zh fdq frpsuhkhqg. Wr xqghuvwdqg wkh wklqjv wkdw duh dw rxu grru lv wkh ehvw suhsdudwlrq iru xqghuvwdqglqj wkrvh wkdw olh ehbrqg.\n",
      "Pmji mw er yrjsphqirx, erh xli jyvxliv ai xvezip xli qsvi xvyxl ai ger gsqtvilirh. Xs yrhivwxerh xli xlmrkw xlex evi ex syv hssv mw xli fiwx tvitevexmsr jsv yrhivwxerhmrk xlswi xlex pmi ficsrh.\n",
      "Qnkj nx fs zsktqirjsy, fsi ymj kzwymjw bj ywfajq ymj rtwj ywzym bj hfs htruwjmjsi. Yt zsijwxyfsi ymj ymnslx ymfy fwj fy tzw ittw nx ymj gjxy uwjufwfynts ktw zsijwxyfsinsl ymtxj ymfy qnj gjdtsi.\n",
      "Rolk oy gt atlurjsktz, gtj znk laxznkx ck zxgbkr znk suxk zxazn ck igt iusvxknktj. Zu atjkxyzgtj znk znotmy zngz gxk gz uax juux oy znk hkyz vxkvgxgzout lux atjkxyzgtjotm znuyk zngz rok hkeutj.\n",
      "Spml pz hu bumvsktlua, huk aol mbyaoly dl ayhcls aol tvyl aybao dl jhu jvtwyloluk. Av buklyzahuk aol aopunz aoha hyl ha vby kvvy pz aol ilza wylwhyhapvu mvy buklyzahukpun aovzl aoha spl ilfvuk.\n"
     ]
    }
   ],
   "source": [
    "## Hypatia: Life is an unfoldment, and the further we travel the more truth we can comprehend. \n",
    "## To understand the things that are at our door is the best preparation for understanding those that lie beyond.\n",
    "Hypatia = 'Fczy cm uh ohzifxgyhn, uhx nby zolnbyl qy nlupyf nby gily nlonb qy wuh wigjlybyhx. Ni ohxylmnuhx nby nbcham nbun uly un iol xiil cm nby vymn jlyjuluncih zil ohxylmnuhxcha nbimy nbun fcy vysihx.'\n",
    "decrypt(Hypatia)"
   ]
  }
 ],
 "metadata": {
  "kernelspec": {
   "display_name": "Python 3",
   "language": "python",
   "name": "python3"
  },
  "language_info": {
   "codemirror_mode": {
    "name": "ipython",
    "version": 3
   },
   "file_extension": ".py",
   "mimetype": "text/x-python",
   "name": "python",
   "nbconvert_exporter": "python",
   "pygments_lexer": "ipython3",
   "version": "3.6.8"
  }
 },
 "nbformat": 4,
 "nbformat_minor": 2
}
