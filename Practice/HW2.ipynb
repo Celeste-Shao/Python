{
 "cells": [
  {
   "cell_type": "markdown",
   "metadata": {},
   "source": [
    "# HW2--Python Essentials + NumPy"
   ]
  },
  {
   "cell_type": "markdown",
   "metadata": {},
   "source": [
    "Exercise #1 (10 points)\n",
    "\n",
    "In the classic card game War, a standard deck of (52) playing cards is shuffled and distributed evenly among two players (26 cards each). For each round of gameplay, the players lay out one card at a time (for our purposes, in order of how they have been dealt) and the player with the higher card wins the round (where Ace = 1, 2-10 equal their face value, and Jack, Queen, and King = 11, 12, 13, respectively, across each of the four suits: diamonds, hearts, clubs, spades). Ties are broken with additional plays until one player wins the full round (i.e., all of the cards played during the round, including those that were tied). Although variations of the game can continue until one player wins all of the cards, let's consider the simple case in which cards won during a previous round cannot be replayed.\n",
    "\n",
    "A variant of War, called Addition War, consists of two cards being played by each player at a time, where the player with the higher sum of two card values wins the round. Similar to the original game, ties are broken with additional plays of two cards each until one player wins all of the cards in the round. Once all cards have been played (once), the player with the higher score (sum of collected card values) wins the game. If the players run out of cards in the middle of a tiebreaker, assume that each player's respective cards (for that round) are returned to them for the final score.\n",
    "\n",
    "\n",
    "Similar to the deal function, this function does not take in any arguments. The function should print information about each round of play, which will assist in validating the operation of the function. Finally, the function should store and output the initial value totals for each player's hand (i.e., after dealing), the final value totals for each player (i.e., after playing the full game), and the winner (i.e., the player with the higher total). You may choose the details of how all of this information is reported and stored, but the output should be clear and well organized.\n",
    "\n",
    "Validate the operation of your function by simulating one game without ties and one game with ties. You may need to simulate several games to generate both outcomes."
   ]
  },
  {
   "cell_type": "markdown",
   "metadata": {},
   "source": [
    "### a. (1 point) Write (and execute) a statement that will generate a list of values associated with a standard deck of playing cards. You do not need to differentiate between suits (i.e., diamonds, hearts, clubs, spades), as they have no relevance for this particular game. Also report the total value associated with a full deck of cards, which represents the maximum total for a game."
   ]
  },
  {
   "cell_type": "code",
   "execution_count": 1,
   "metadata": {},
   "outputs": [
    {
     "name": "stdout",
     "output_type": "stream",
     "text": [
      "[[ 1  2  3  4  5  6  7  8  9 10 11 12 13]\n",
      " [ 1  2  3  4  5  6  7  8  9 10 11 12 13]\n",
      " [ 1  2  3  4  5  6  7  8  9 10 11 12 13]\n",
      " [ 1  2  3  4  5  6  7  8  9 10 11 12 13]]\n",
      "Total value:  364\n"
     ]
    }
   ],
   "source": [
    "import numpy as np\n",
    "L = np.array([range(1,14)])\n",
    "# Concatenation by row\n",
    "deck = np.concatenate([L, L], axis=0)\n",
    "deck = np.concatenate([deck, deck], axis=0)\n",
    "print(deck)\n",
    "print('Total value: ', sum(sum(deck)))"
   ]
  },
  {
   "cell_type": "markdown",
   "metadata": {},
   "source": [
    "### b. (2 points) Define a function deal that will shuffle and distribute the 52 playing cards evenly to two players (26 each) and return a tuple of each player's hand (as a list of values). The function does not need to take in any arguments, and should create the deck of values internally (i.e., you should not need to input the deck of values into the function; you may reuse the statement you developed for part a). You may assume that you are always playing with a standard deck (52 cards). You may make use of any NumPy functionality to perform the shuffle operation. "
   ]
  },
  {
   "cell_type": "code",
   "execution_count": 2,
   "metadata": {},
   "outputs": [],
   "source": [
    "# define the deal function\n",
    "def deal():\n",
    "    flat_deck = deck.flatten()                           ## flatten the 4-dimension array into one-dimension\n",
    "    np.random.shuffle(flat_deck)                         ## shuffle 52 items in flatten array\n",
    "    player_1 = flat_deck[0:26]                           ## the first half of cards are assigned to player 1\n",
    "    player_2 = flat_deck[26:]                            ## rest of cards are assigned to player 2\n",
    "    return (list(player_1),list(player_2))"
   ]
  },
  {
   "cell_type": "markdown",
   "metadata": {},
   "source": [
    "### Validate the operation of your function by dealing a hand to two players and displaying each player's hand along with their number of cards and the associated total value."
   ]
  },
  {
   "cell_type": "code",
   "execution_count": 3,
   "metadata": {},
   "outputs": [
    {
     "name": "stdout",
     "output_type": "stream",
     "text": [
      "Player 1:  [9, 7, 10, 5, 2, 3, 7, 6, 11, 2, 11, 13, 3, 7, 9, 5, 12, 11, 8, 1, 5, 10, 3, 8, 4, 1]\n",
      "Player 2:  [4, 9, 4, 2, 11, 5, 13, 1, 9, 1, 8, 3, 4, 6, 12, 8, 6, 2, 6, 10, 7, 13, 10, 13, 12, 12]\n",
      "Card number of Player 1:  26\n",
      "Card number of Player 2:  26\n",
      "Total value for Player 1:  173\n",
      "Total value for Player 2:  191\n"
     ]
    }
   ],
   "source": [
    "deal()\n",
    "hand = deal()\n",
    "print('Player 1: ', hand[0])\n",
    "print('Player 2: ', hand[1])\n",
    "print('Card number of Player 1: ', len(hand[0]))\n",
    "print('Card number of Player 2: ', len(hand[1]))\n",
    "print('Total value for Player 1: ', sum(hand[0]))\n",
    "print('Total value for Player 2: ', sum(hand[1]))"
   ]
  },
  {
   "cell_type": "markdown",
   "metadata": {},
   "source": [
    "### c. (4 points) Define a function play that will simulate a single game of Addition War between two players. Note that you will need to account for rounds in which a given player wins outright (i.e., after the initial play of two cards) and for rounds in which one or more ties occur. You will also need to terminate the game appropriately (i.e., after each player has played all of their cards once)."
   ]
  },
  {
   "cell_type": "code",
   "execution_count": 4,
   "metadata": {},
   "outputs": [
    {
     "name": "stdout",
     "output_type": "stream",
     "text": [
      "Round 1: Player 1 win\n",
      "Player 1 card:  [10  8]\n",
      "Player 2 card:  [9 3]\n",
      "Player 1 score:  30\n",
      "Player 2 score:  0\n",
      "Round 2: Player 2 win\n",
      "Player 1 card:  [6 7]\n",
      "Player 2 card:  [12  5]\n",
      "Player 1 score:  0\n",
      "Player 2 score:  30\n",
      "Round 3: Player 2 win\n",
      "Player 1 card:  [11 10]\n",
      "Player 2 card:  [ 9 13]\n",
      "Player 1 score:  0\n",
      "Player 2 score:  43\n",
      "Round 4: Player 2 win\n",
      "Player 1 card:  [1 2]\n",
      "Player 2 card:  [6 9]\n",
      "Player 1 score:  0\n",
      "Player 2 score:  18\n",
      "Round 5: Player 1 win\n",
      "Player 1 card:  [ 5 13]\n",
      "Player 2 card:  [ 1 13]\n",
      "Player 1 score:  32\n",
      "Player 2 score:  0\n",
      "Round 6: Player 1 win\n",
      "Player 1 card:  [11  5]\n",
      "Player 2 card:  [9 1]\n",
      "Player 1 score:  26\n",
      "Player 2 score:  0\n",
      "Round 7: Player 2 win\n",
      "Player 1 card:  [6 4]\n",
      "Player 2 card:  [7 4]\n",
      "Player 1 score:  0\n",
      "Player 2 score:  21\n",
      "Round 8: Player 2 win\n",
      "Player 1 card:  [3 2]\n",
      "Player 2 card:  [12  4]\n",
      "Player 1 score:  0\n",
      "Player 2 score:  21\n",
      "Round 9: Player 2 win\n",
      "Player 1 card:  [2 3]\n",
      "Player 2 card:  [11  2]\n",
      "Player 1 score:  0\n",
      "Player 2 score:  18\n",
      "Round 10: Player 2 win\n",
      "Player 1 card:  [ 6 11]\n",
      "Player 2 card:  [ 7 12]\n",
      "Player 1 score:  0\n",
      "Player 2 score:  36\n",
      "Round 11: Player 1 win\n",
      "Player 1 card:  [10  5]\n",
      "Player 2 card:  [8 4]\n",
      "Player 1 score:  27\n",
      "Player 2 score:  0\n",
      "Round 12: Player 2 win\n",
      "Player 1 card:  [3 8]\n",
      "Player 2 card:  [13  1]\n",
      "Player 1 score:  0\n",
      "Player 2 score:  25\n",
      "Round 13: Player 1 win\n",
      "Player 1 card:  [12 10]\n",
      "Player 2 card:  [7 8]\n",
      "Player 1 score:  37\n",
      "Player 2 score:  0\n",
      "Player 1 total score:  152\n",
      "Player 2 total score:  212\n",
      "Player 2 win!\n"
     ]
    }
   ],
   "source": [
    "def play():\n",
    "    # shuffle and deal cards\n",
    "    flat_deck = deck.flatten()                       \n",
    "    np.random.shuffle(flat_deck)                      \n",
    "    player_1 = flat_deck[0:26]                           \n",
    "    player_2 = flat_deck[26:]\n",
    "    total_p1 = []\n",
    "    total_p2 = []\n",
    "    tie = []\n",
    "    # simulate rounds in which a given player wins outright one or more ties occur\n",
    "    for i in range(1,14):\n",
    "        if sum(player_1[(i*2)-2:(i*2)]) > sum(player_2[(i*2)-2:(i*2)]):    ## player 1 wins\n",
    "            tie.append(0)\n",
    "            score_p1 = sum(player_1[(i*2)-2:(i*2)]) + sum(player_2[(i*2)-2:(i*2)]) + tie[(i-2)]\n",
    "            score_p2 = 0\n",
    "            print('Round ' + str(i) + ': '+ 'Player 1 win')\n",
    "            print('Player 1 card: ', player_1[(i*2)-2:(i*2)])\n",
    "            print('Player 2 card: ', player_2[(i*2)-2:(i*2)])\n",
    "            print('Player 1 score: ', score_p1)\n",
    "            print('Player 2 score: ', score_p2)\n",
    "            total_p1.append(score_p1)  \n",
    "            total_p2.append(score_p2)\n",
    "        elif sum(player_1[(i*2)-2:(i*2)]) < sum(player_2[(i*2)-2:(i*2)]):  ## player 2 wins\n",
    "            tie.append(0)\n",
    "            score_p1 = 0\n",
    "            score_p2 = sum(player_1[(i*2)-2:(i*2)]) + sum(player_2[(i*2)-2:(i*2)]) + tie[(i-2)]\n",
    "            print('Round ' + str(i) + ': '+ 'Player 2 win')\n",
    "            print('Player 1 card: ', player_1[(i*2)-2:(i*2)])\n",
    "            print('Player 2 card: ', player_2[(i*2)-2:(i*2)])\n",
    "            print('Player 1 score: ', score_p1)\n",
    "            print('Player 2 score: ', score_p2)\n",
    "            total_p1.append(score_p1)  \n",
    "            total_p2.append(score_p2)\n",
    "        else:               ## if tie happens\n",
    "            if i == 1:      ### if happens in first round: there is no accumulative tie score\n",
    "                print('Round ' + str(i) + ': ' + 'Tie')\n",
    "                print('Player 1 card: ', player_1[(i*2)-2:(i*2)])\n",
    "                print('Player 2 card: ', player_2[(i*2)-2:(i*2)])\n",
    "                tie.append(sum(player_1[(i*2)-2:(i*2)]) + sum(player_2[(i*2)-2:(i*2)]))\n",
    "                print('Tie score: ', tie[(i-1)])\n",
    "                print('Player 1 score: ', 0)\n",
    "                print('Player 2 score: ', 0)\n",
    "            elif i == 13:   ### if happens in last round: I should split tie score evenly for two players\n",
    "                score_p1 = sum(player_1[(i*2)-2:(i*2)]) + (tie[(i-2)])/2\n",
    "                score_p2 = sum(player_2[(i*2)-2:(i*2)]) + (tie[(i-2)])/2\n",
    "                print('Round ' + str(i) + ': '+ 'Tie')\n",
    "                print('Player 1 card: ', player_1[(i*2)-2:(i*2)])\n",
    "                print('Player 2 card: ', player_2[(i*2)-2:(i*2)])\n",
    "                print('Player 1 score: ', score_p1)\n",
    "                print('Player 2 score: ', score_p2)\n",
    "                total_p1.append(score_p1)  \n",
    "                total_p2.append(score_p2)\n",
    "            else:           ### if happens in between: a consecutive tie might happen, so I calculate accumulative tie score               \n",
    "                print('Round ' + str(i) + ': ' + 'Tie')\n",
    "                print('Player 1 card: ', player_1[(i*2)-2:(i*2)])\n",
    "                print('Player 2 card: ', player_2[(i*2)-2:(i*2)])\n",
    "                tie.append(sum(player_1[(i*2)-2:(i*2)]) + sum(player_2[(i*2)-2:(i*2)]) + tie[i-2])\n",
    "                print('Tie score: ', tie[(i-1)])\n",
    "                print('Player 1 score: ', 0)\n",
    "                print('Player 2 score: ', 0)\n",
    "                \n",
    "    # sum up players' scores in every round\n",
    "    print('Player 1 total score: ', sum(total_p1))\n",
    "    print('Player 2 total score: ', sum(total_p2))\n",
    "    # decide the final winner by comparing the total score \n",
    "    if sum(total_p2)>sum(total_p1):\n",
    "        print('Player 2 win!')\n",
    "    elif sum(total_p2)<sum(total_p1):\n",
    "        print('Player 1 win!')\n",
    "    else: print('Tie!')\n",
    "\n",
    "play()  ## display result"
   ]
  },
  {
   "cell_type": "markdown",
   "metadata": {},
   "source": [
    "### d. (3 points) Given your implemented game, let's perform some analysis of the gameplay. For brevity in your notebook, you may want to create a copy of your play function that does not include any (active) print statements to use for this part of the assignment. Simulate n = 20 games of Addition War, and provide the following results and analysis (1 point each):"
   ]
  },
  {
   "cell_type": "code",
   "execution_count": 5,
   "metadata": {},
   "outputs": [],
   "source": [
    "# the majority of play_1() function is similar to the previous function: play()\n",
    "def play_1(n=1):\n",
    "    \"\"\"This function will simulate n times (n =20) the game and return the values including: initial scores of \n",
    "    each player(player1_initial, player2_initial), final scores of each player(total_p1, total_p2) and whether \n",
    "    player 1 or player 2 win the game(p1_win and p2_win, 1 represents win, 0 represents loss)\"\"\"\n",
    "    results = []        # store each game result in a list\n",
    "    for i in range(0,n):     ## fairly same as play() function\n",
    "        flat_deck = deck.flatten()                       \n",
    "        np.random.shuffle(flat_deck)                      \n",
    "        player_1 = flat_deck[0:26]                           \n",
    "        player_2 = flat_deck[26:]\n",
    "        player1_initial = sum(player_1)\n",
    "        player2_initial = sum(player_2)\n",
    "        total_p1 = []\n",
    "        total_p2 = []\n",
    "        tie = []\n",
    "        p1_win = 0\n",
    "        p2_win = 0\n",
    "        for i in range(1,14):\n",
    "            if sum(player_1[(i*2)-2:(i*2)]) > sum(player_2[(i*2)-2:(i*2)]):    ## player 1 wins\n",
    "                tie.append(0)\n",
    "                score_p1 = sum(player_1[(i*2)-2:(i*2)]) + sum(player_2[(i*2)-2:(i*2)]) + tie[(i-2)]\n",
    "                score_p2 = 0\n",
    "                total_p1.append(score_p1)  \n",
    "                total_p2.append(score_p2)\n",
    "            elif sum(player_1[(i*2)-2:(i*2)]) < sum(player_2[(i*2)-2:(i*2)]):  ## player 2 wins\n",
    "                tie.append(0)\n",
    "                score_p1 = 0\n",
    "                score_p2 = sum(player_1[(i*2)-2:(i*2)]) + sum(player_2[(i*2)-2:(i*2)]) + tie[(i-2)]\n",
    "                total_p1.append(score_p1)  \n",
    "                total_p2.append(score_p2)\n",
    "            else:               ## if tie happens\n",
    "                if i == 1:      ### if happens in first round: there is no accumulative tie score\n",
    "                    tie.append(sum(player_1[(i*2)-2:(i*2)]) + sum(player_2[(i*2)-2:(i*2)]))\n",
    "                elif i == 13:   ### if happens in last round: I should split tie score evenly for two players\n",
    "                    score_p1 = sum(player_1[(i*2)-2:(i*2)]) + (tie[(i-2)])/2\n",
    "                    score_p2 = sum(player_2[(i*2)-2:(i*2)]) + (tie[(i-2)])/2\n",
    "                    total_p1.append(score_p1)  \n",
    "                    total_p2.append(score_p2)\n",
    "                else:           ### if happens in between, a consecutive tie might happen, so I calculate accumulative tie score\n",
    "                    tie.append(sum(player_1[(i*2)-2:(i*2)]) + sum(player_2[(i*2)-2:(i*2)]) + tie[i-2])\n",
    "        # summrize who wins each game\n",
    "        if sum(total_p2)>sum(total_p1):    ## if player 2 wins\n",
    "            p2_win += 1\n",
    "            p1_win += 0\n",
    "        elif sum(total_p2)<sum(total_p1):  ## if player 1 wins\n",
    "            p1_win += 1\n",
    "            p2_win += 0\n",
    "        else:                              ## if tie\n",
    "            p1_win += 0\n",
    "            p2_win += 0\n",
    "        # extract values that I want\n",
    "        result = (player1_initial, player2_initial, sum(total_p1), sum(total_p2), p1_win, p2_win)\n",
    "        # bring all result together\n",
    "        results.append(result)\n",
    "        # show the results in terms of an array\n",
    "        my_array = np.array(results)\n",
    "    return my_array"
   ]
  },
  {
   "cell_type": "code",
   "execution_count": 6,
   "metadata": {},
   "outputs": [
    {
     "name": "stdout",
     "output_type": "stream",
     "text": [
      "Results for 20 games:  [[179. 185. 183. 181.   1.   0.]\n",
      " [182. 182. 139. 225.   0.   1.]\n",
      " [170. 194. 181. 183.   0.   1.]\n",
      " [162. 202. 176. 188.   0.   1.]\n",
      " [158. 206. 100. 264.   0.   1.]\n",
      " [173. 191. 144. 220.   0.   1.]\n",
      " [195. 169. 225. 139.   1.   0.]\n",
      " [180. 184. 188. 176.   1.   0.]\n",
      " [195. 169. 231. 133.   1.   0.]\n",
      " [195. 169. 230. 134.   1.   0.]\n",
      " [192. 172. 285.  79.   1.   0.]\n",
      " [182. 182. 238. 126.   1.   0.]\n",
      " [197. 167. 214. 150.   1.   0.]\n",
      " [199. 165. 290.  74.   1.   0.]\n",
      " [204. 160. 260. 104.   1.   0.]\n",
      " [191. 173. 177. 187.   0.   1.]\n",
      " [174. 190. 105. 259.   0.   1.]\n",
      " [173. 191. 169. 195.   0.   1.]\n",
      " [182. 182. 199. 165.   1.   0.]\n",
      " [187. 177. 161. 203.   0.   1.]]\n"
     ]
    }
   ],
   "source": [
    "game_results = play_1(20)\n",
    "print('Results for 20 games: ', game_results)"
   ]
  },
  {
   "cell_type": "markdown",
   "metadata": {},
   "source": [
    "#### Extract the final scores for the winning and losing players"
   ]
  },
  {
   "cell_type": "code",
   "execution_count": 7,
   "metadata": {},
   "outputs": [
    {
     "name": "stdout",
     "output_type": "stream",
     "text": [
      "Winner scores are:  [183. 225. 188. 231. 230. 285. 238. 214. 290. 260. 199. 225. 183. 188.\n",
      " 264. 220. 187. 259. 195. 203.]\n",
      "Losser scores are:  [139. 181. 176. 100. 144. 177. 105. 169. 161. 181. 139. 176. 133. 134.\n",
      "  79. 126. 150.  74. 104. 165.]\n"
     ]
    }
   ],
   "source": [
    "# extract winner and losser's scores in each game   \n",
    "# extract winner's final scores\n",
    "p1_win_final = game_results[game_results[:,-2]==1,2]\n",
    "p2_win_final = game_results[game_results[:,-1]==1,3]\n",
    "win_final = np.concatenate([p1_win_final,p2_win_final])\n",
    "# extract losser's final scores\n",
    "p1_loss_final = game_results[game_results[:,-1]==1,2]\n",
    "p2_loss_final = game_results[game_results[:,-2]==1,3]\n",
    "loss_final = np.concatenate([p1_loss_final,p2_loss_final])\n",
    "print('Winner scores are: ', win_final)\n",
    "print('Losser scores are: ', loss_final)"
   ]
  },
  {
   "cell_type": "markdown",
   "metadata": {},
   "source": [
    "#### Produce descriptive statistics for each scenario, specifically the minimum, mean, and maximum totals after each game."
   ]
  },
  {
   "cell_type": "markdown",
   "metadata": {},
   "source": [
    "In order to find more steady descriptive statistics for this question, I tried to run play_1(n) fucntion with a much higher n value, such as 1000 and 10000. What I found is, the min score for losser could be 0 and highest score for winner could be 364 if playing many times. And the maximum score for losser could be 181 and minimum for winner could be 183, which means that the game result is possible to be decided by only one point. In addition, Winner's mean score is around 60% of total mark (364)."
   ]
  },
  {
   "cell_type": "code",
   "execution_count": 8,
   "metadata": {},
   "outputs": [
    {
     "name": "stdout",
     "output_type": "stream",
     "text": [
      "Maximum score for winner:  290.0\n",
      "Maximum score for losser:  181.0\n",
      "Minimum score for winner:  183.0\n",
      "Minimum score for losser:  74.0\n",
      "Mean score for winner:  223.35\n",
      "Mean score for losser:  140.65\n"
     ]
    }
   ],
   "source": [
    "print('Maximum score for winner: ', max(win_final))\n",
    "print('Maximum score for losser: ', max(loss_final))\n",
    "print('Minimum score for winner: ', min(win_final))\n",
    "print('Minimum score for losser: ', min(loss_final))\n",
    "print('Mean score for winner: ', np.mean(win_final))\n",
    "print('Mean score for losser: ', np.mean(loss_final))"
   ]
  },
  {
   "cell_type": "markdown",
   "metadata": {},
   "source": [
    "#### What proportion of games resulted in a winner that had a lower initial total than their opponent? "
   ]
  },
  {
   "cell_type": "markdown",
   "metadata": {},
   "source": [
    "I tried many times for this question and found that the rate is basically between 0.15 to 0.2. Also, I ran 'play_1(n = 1000)', and the result (approximately 0.19) by doing so was consistent with my previous guess. So I would like to say that a player with a lower initial has quite small possibility (around 20%) to win the game."
   ]
  },
  {
   "cell_type": "code",
   "execution_count": 9,
   "metadata": {},
   "outputs": [
    {
     "name": "stdout",
     "output_type": "stream",
     "text": [
      "Proportion of games a winner that had a lower initial total than their opponent:  0.2\n"
     ]
    }
   ],
   "source": [
    "# extraxt the games player 1 win\n",
    "player1_win = game_results[game_results[:,-2]==1, :]\n",
    "# extraxt the games player 2 win\n",
    "player2_win = game_results[game_results[:,-1]==1, :]\n",
    "# from the games player 1 win, extract games win with lower initial than player 2\n",
    "player1_win_low_ini = player1_win[player1_win[:,0]<player1_win[:,1],:]\n",
    "# from the games player 2 win, extract games win with lower initial than player 1\n",
    "player2_win_low_ini = player2_win[player2_win[:,0]>player2_win[:,1],:]\n",
    "# sum up the number of game that player wins the game but with lower initial score and calculate the proportion\n",
    "game_low_ini = len(player1_win_low_ini) + len(player2_win_low_ini)\n",
    "print('Proportion of games a winner that had a lower initial total than their opponent: ', game_low_ini/20)"
   ]
  },
  {
   "cell_type": "markdown",
   "metadata": {},
   "source": [
    "#### What was the lowest initial total to win a game (or conversely, the highest initial total to lose a game)?"
   ]
  },
  {
   "cell_type": "markdown",
   "metadata": {},
   "source": [
    "Also, I tried n=1000 and n=10000 to find a more precise answer for this question, the result is, based on the data I got, the initial to win a game should not be lower than 40% of the totoal point (364), which is around 150 and the highest initial should be around 60% of 364, which is around 215."
   ]
  },
  {
   "cell_type": "code",
   "execution_count": 10,
   "metadata": {},
   "outputs": [
    {
     "name": "stdout",
     "output_type": "stream",
     "text": [
      "Lowest initial total to win a game:  173.0\n",
      "Highest initial total to loss a game:  191.0\n"
     ]
    }
   ],
   "source": [
    "# extra the min initial score when win and loss\n",
    "print('Lowest initial total to win a game: ', min(min(game_results[game_results[:,-2]==1,0]),min(game_results[game_results[:,-1]==1,1])))\n",
    "print('Highest initial total to loss a game: ', max(max(game_results[game_results[:,-2]==1,1]),max(game_results[game_results[:,-1]==1,0])))"
   ]
  },
  {
   "cell_type": "markdown",
   "metadata": {},
   "source": [
    "#### Calculate the (linear) correlation between the initial and final totals for winners vs. losers? What do you observe about the respective correlations, and what do these correlations tell you about the relationship between the initial and final totals?"
   ]
  },
  {
   "cell_type": "markdown",
   "metadata": {},
   "source": [
    "I simulated the game 10000 times to find a steady answer for this question, and the final correlation rate should be around 60%. Another finding which is quite easy to notice is the correlation coefficients of initial and final scores are same for Losser and Winner. Therefore, initial and final scores are positively correlated and for both winner and losser in each game. In other word, the higher the initial score, the higher final score, and vice versa."
   ]
  },
  {
   "cell_type": "code",
   "execution_count": 12,
   "metadata": {},
   "outputs": [
    {
     "name": "stdout",
     "output_type": "stream",
     "text": [
      "Winner's initial score:  [179. 195. 180. 195. 195. 192. 182. 197. 199. 204. 182. 182. 194. 202.\n",
      " 206. 191. 173. 190. 191. 177.]\n",
      "Winner's final score:  [183. 225. 188. 231. 230. 285. 238. 214. 290. 260. 199. 225. 183. 188.\n",
      " 264. 220. 187. 259. 195. 203.]\n",
      "Losser's initial score:  [182. 170. 162. 158. 173. 191. 174. 173. 187. 185. 169. 184. 169. 169.\n",
      " 172. 182. 167. 165. 160. 182.]\n",
      "Losser's final score:  [139. 181. 176. 100. 144. 177. 105. 169. 161. 181. 139. 176. 133. 134.\n",
      "  79. 126. 150.  74. 104. 165.]\n",
      "Winner's Correlation Coefficient:  0.4983135998743003\n",
      "Losser's Correlation Coefficient:  0.4983135998743004\n"
     ]
    }
   ],
   "source": [
    "# extract winner's initial and final scores\n",
    "p1_win_init = game_results[game_results[:,-2]==1,0]\n",
    "p2_win_init = game_results[game_results[:,-1]==1,1]\n",
    "win_init = np.concatenate([p1_win_init,p2_win_init])\n",
    "print(\"Winner's initial score: \", win_init)\n",
    "# I have extracted win_final in previous question\n",
    "print(\"Winner's final score: \", win_final)\n",
    "\n",
    "# extract losser's initial and final scores\n",
    "p1_loss_init = game_results[game_results[:,-1]==1,0]\n",
    "p2_loss_init = game_results[game_results[:,-2]==1,1]\n",
    "loss_init = np.concatenate([p1_loss_init,p2_loss_init])\n",
    "print(\"Losser's initial score: \", loss_init)\n",
    "# I have extracted win_final in previous question\n",
    "print(\"Losser's final score: \", loss_final)\n",
    "\n",
    "# calculate the correlation coefficient\n",
    "print(\"Winner's Correlation Coefficient: \", np.corrcoef(win_init,win_final)[0][1])\n",
    "print(\"Losser's Correlation Coefficient: \", np.corrcoef(loss_init,loss_final)[0][1])"
   ]
  }
 ],
 "metadata": {
  "kernelspec": {
   "display_name": "Python 3",
   "language": "python",
   "name": "python3"
  },
  "language_info": {
   "codemirror_mode": {
    "name": "ipython",
    "version": 3
   },
   "file_extension": ".py",
   "mimetype": "text/x-python",
   "name": "python",
   "nbconvert_exporter": "python",
   "pygments_lexer": "ipython3",
   "version": "3.6.8"
  }
 },
 "nbformat": 4,
 "nbformat_minor": 2
}
