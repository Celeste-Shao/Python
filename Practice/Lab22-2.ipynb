{
 "cells": [
  {
   "cell_type": "markdown",
   "metadata": {},
   "source": [
    "# Lab 2"
   ]
  },
  {
   "cell_type": "markdown",
   "metadata": {},
   "source": [
    "Lab 22\n",
    "\n",
    "Dan Shao, Yingjie Gao"
   ]
  },
  {
   "cell_type": "markdown",
   "metadata": {},
   "source": [
    "## Exercise #1 (1 point)\n",
    "\n",
    "Load the amount pledged (in U.S. dollars) from the data file into an array of floating point values. Then, produce the following descriptive statistics:\n",
    "\n",
    "Total number of projects\n",
    "Minimum, mean, standard deviation, and maximum amount pledged\n",
    "Proportion (or percentage) of projects that earned total pledges of at least $1,000"
   ]
  },
  {
   "cell_type": "code",
   "execution_count": 5,
   "metadata": {},
   "outputs": [
    {
     "name": "stdout",
     "output_type": "stream",
     "text": [
      "Total number of projects:  4184\n",
      "Min:  0.0\n",
      "Max:  111111.77\n",
      "Mean:  1242.1242686279124\n",
      "Standard deviation:  5177.92798555567\n",
      "Percentage of projects earned total pleges over 1000: 19.622370936902485%\n"
     ]
    }
   ],
   "source": [
    "# import numpy\n",
    "import numpy as np\n",
    "from numpy import genfromtxt\n",
    "# load csv into floating and skip row 1\n",
    "data = np.genfromtxt('kickstarter.csv',delimiter=',',dtype=float, skip_header=True)\n",
    "# extract column: usd_pledged\n",
    "us_ple = np.array(data[:,-3])\n",
    "# calculate the following descriptive statistics\n",
    "print('Total number of projects: ', len(us_ple))\n",
    "print('Min: ', np.min(us_ple))\n",
    "print('Max: ', np.max(us_ple))\n",
    "print('Mean: ', np.mean(us_ple))\n",
    "print('Standard deviation: ', np.std(us_ple))\n",
    "us_ple_1000=[]\n",
    "for x in us_ple:\n",
    "    if x >= 1000:\n",
    "        us_ple_1000.append(x)\n",
    "print('Percentage of projects earned total pleges over 1000: '+ str((len(us_ple_1000)/len(us_ple))*100) + '%')"
   ]
  },
  {
   "cell_type": "markdown",
   "metadata": {},
   "source": [
    "## Exercise #2 (1 point)\n",
    "\n",
    "Load the project categories from the data file into an array of strings. Count the frequency of each genre, and then calculate the proportion of observations that fall into each genre. Return both results in the form of a dictionary. Which project category is the most popular (in terms of the number of projects)? Least popular?"
   ]
  },
  {
   "cell_type": "code",
   "execution_count": 2,
   "metadata": {},
   "outputs": [
    {
     "name": "stdout",
     "output_type": "stream",
     "text": [
      "{'Ceramics': (204, 0.04875717017208413), 'Conceptual Art': (879, 0.21008604206500955), 'Digital Art': (1054, 0.2519120458891013), 'Illustration': (461, 0.11018164435946463), 'Painting': (1586, 0.37906309751434036)}\n"
     ]
    }
   ],
   "source": [
    "# load csv into floating and skip row 1\n",
    "data_str = np.genfromtxt('kickstarter.csv',delimiter=',',dtype=str, skip_header=True)\n",
    "# show upnique category and count how many categories \n",
    "category = np.unique(data_str[:,-2], return_counts=True)\n",
    "# create a dictionary for columns in category\n",
    "category_dict = dict(zip(category[0],category[1]))\n",
    "# loop inside the dictionary and calculate the percentage\n",
    "proportion = []\n",
    "for key, value in category_dict.items():\n",
    "      proportion.append(category_dict[key]/sum(category[1]))\n",
    "category_dictionary = dict(zip(category[0], zip(category[1],proportion)))\n",
    "print(category_dictionary)"
   ]
  },
  {
   "cell_type": "markdown",
   "metadata": {},
   "source": [
    "## Exercise #3 (1 point)\n",
    "\n",
    "Import the project states from the data file into an array of strings. For each project category, calculate the proportion (or percentage) of projects that were successful.  Which project category is the most successful (on average)? Least successful (on average)?"
   ]
  },
  {
   "cell_type": "code",
   "execution_count": 3,
   "metadata": {},
   "outputs": [
    {
     "name": "stdout",
     "output_type": "stream",
     "text": [
      "Success rate of Conceptual Art:  0.366325369738339\n",
      "Success rate of Ceramics:  0.4117647058823529\n",
      "Success rate of Digital Art:  0.2713472485768501\n",
      "Success rate of Illustration:  0.0\n",
      "Success rate of Painting:  0.0\n",
      "Project Ceramics is most successful, Project Illustration and Painting are least sucessful\n"
     ]
    }
   ],
   "source": [
    "CA_count = 0\n",
    "for i in range (0, len(data_str)):\n",
    "    if data_str[i][-2]=='Conceptual Art':\n",
    "        if data_str[i][4] == 'successful':\n",
    "            CA_count += 1\n",
    "print('Success rate of Conceptual Art: ', CA_count/category_dictionary['Conceptual Art'][0])\n",
    "\n",
    "C_count = 0\n",
    "for i in range (0, len(data_str)):\n",
    "    if data_str[i][-2]=='Ceramics':\n",
    "        if data_str[i][4] == 'successful':\n",
    "            C_count += 1\n",
    "print('Success rate of Ceramics: ', C_count/category_dictionary['Ceramics'][0])\n",
    "\n",
    "DA_count = 0\n",
    "for i in range (0, len(data_str)):\n",
    "    if data_str[i][-2]=='Digital Art':\n",
    "        if data_str[i][4] == 'successful':\n",
    "            DA_count += 1\n",
    "print('Success rate of Digital Art: ', DA_count/category_dictionary['Digital Art'][0])\n",
    "\n",
    "I_count = 0\n",
    "for i in range (0, len(data_str)):\n",
    "    if data_str[i][-2]=='Illustration':\n",
    "        if data_str[i][4] == 'successful':\n",
    "            I_count += 1\n",
    "print('Success rate of Illustration: ', I_count/category_dictionary['Illustration'][0])\n",
    "\n",
    "P_count = 0\n",
    "for i in range (0, len(data_str)):\n",
    "    if data_str[i][-2]=='Painting':\n",
    "        if data_str[i][4] == 'successful':\n",
    "            P_count += 1\n",
    "print('Success rate of Painting: ', P_count/category_dictionary['Painting'][0])\n",
    "print('Project Ceramics is most successful, Project Illustration and Painting are least sucessful')"
   ]
  },
  {
   "cell_type": "markdown",
   "metadata": {},
   "source": [
    "There is another solution that does not use for loop:"
   ]
  },
  {
   "cell_type": "code",
   "execution_count": 4,
   "metadata": {},
   "outputs": [
    {
     "name": "stdout",
     "output_type": "stream",
     "text": [
      "Success rate of Conceptual Art:  0.366325369738339\n"
     ]
    }
   ],
   "source": [
    "# 'Conceptual Art' as an example\n",
    "conceptual = data_str[data_str[:,-2] == 'Conceptual Art',]\n",
    "con_suc = conceptual[conceptual[:,4] == 'successful',]\n",
    "print('Success rate of Conceptual Art: ', len(con_suc)/len(conceptual))"
   ]
  },
  {
   "cell_type": "markdown",
   "metadata": {},
   "source": [
    "## Exercise #4 (1 point)\n",
    "\n",
    "Load the staff pick and spotlight columns from the data file into (separate) arrays of strings. Calculate the total number of projects in each featured category, and then calculate the associated success rates in each category (proportion of successful projects). Which feature (staff pick or spotlight) is associated with a higher proportion of successful projects?"
   ]
  },
  {
   "cell_type": "code",
   "execution_count": 5,
   "metadata": {},
   "outputs": [
    {
     "name": "stdout",
     "output_type": "stream",
     "text": [
      "Sucess rate when staff pick is TRUE: 72.76785714285714%\n",
      "Sucess rate when spotlight is TRUE:  100.0%\n"
     ]
    }
   ],
   "source": [
    "staff_pick = data_str[:,-6]\n",
    "spotlight = data_str[:, -1]\n",
    "\n",
    "sp_count = 0\n",
    "sp_su_count = 0\n",
    "for i in range (0, len(data_str)):\n",
    "    if staff_pick[i] =='TRUE':\n",
    "        sp_count += 1\n",
    "        if data_str[i][4] == 'successful':\n",
    "            sp_su_count += 1\n",
    "print('Sucess rate when staff pick is TRUE: '+ str((sp_su_count/sp_count)*100)+'%')\n",
    "\n",
    "s_count = 0\n",
    "s_su_count = 0\n",
    "for i in range (0, len(data_str)):\n",
    "    if spotlight[i] =='TRUE':\n",
    "        s_count += 1\n",
    "        if data_str[i][4] == 'successful':\n",
    "            s_su_count += 1\n",
    "print('Sucess rate when spotlight is TRUE: ', str((s_su_count/s_count)*100) +'%')"
   ]
  }
 ],
 "metadata": {
  "kernelspec": {
   "display_name": "Python 3",
   "language": "python",
   "name": "python3"
  },
  "language_info": {
   "codemirror_mode": {
    "name": "ipython",
    "version": 3
   },
   "file_extension": ".py",
   "mimetype": "text/x-python",
   "name": "python",
   "nbconvert_exporter": "python",
   "pygments_lexer": "ipython3",
   "version": "3.7.4"
  }
 },
 "nbformat": 4,
 "nbformat_minor": 2
}
