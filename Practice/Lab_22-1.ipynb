{
 "cells": [
  {
   "cell_type": "code",
   "execution_count": 124,
   "metadata": {},
   "outputs": [
    {
     "data": {
      "text/plain": [
       "2.093024054408263"
      ]
     },
     "execution_count": 124,
     "metadata": {},
     "output_type": "execute_result"
    }
   ],
   "source": [
    "# Exercise 1\n",
    "## for two-tail test, the right boundary should be \n",
    "## 0.95-0.05/2 = 0.975\n",
    "## a\n",
    "import scipy.stats\n",
    "scipy.stats.t.ppf(0.975, 19)"
   ]
  },
  {
   "cell_type": "code",
   "execution_count": 66,
   "metadata": {},
   "outputs": [
    {
     "data": {
      "text/plain": [
       "2.093024054408263"
      ]
     },
     "execution_count": 66,
     "metadata": {},
     "output_type": "execute_result"
    }
   ],
   "source": [
    "## b\n",
    "import scipy\n",
    "from scipy import stats \n",
    "stats.t.ppf(0.975, 19 )"
   ]
  },
  {
   "cell_type": "code",
   "execution_count": 125,
   "metadata": {},
   "outputs": [
    {
     "data": {
      "text/plain": [
       "2.093024054408263"
      ]
     },
     "execution_count": 125,
     "metadata": {},
     "output_type": "execute_result"
    }
   ],
   "source": [
    "## c\n",
    "import scipy.stats\n",
    "from scipy.stats import t \n",
    "t.ppf(0.975, 19)"
   ]
  },
  {
   "cell_type": "code",
   "execution_count": 67,
   "metadata": {},
   "outputs": [
    {
     "data": {
      "text/plain": [
       "2.093024054408263"
      ]
     },
     "execution_count": 67,
     "metadata": {},
     "output_type": "execute_result"
    }
   ],
   "source": [
    "## d\n",
    "import scipy.stats as ss\n",
    "ss.t.ppf(0.975, 19)"
   ]
  },
  {
   "cell_type": "code",
   "execution_count": 142,
   "metadata": {},
   "outputs": [
    {
     "name": "stdout",
     "output_type": "stream",
     "text": [
      "confidence interval is from 40.680294726993424 to 63.98370527300659\n"
     ]
    }
   ],
   "source": [
    "## Excercise 2\n",
    "sample = (81.62, 57.13, 56.65, 14.46, 73.09, 12.11, 92.51, 23.67, 14.39, 50.36, 88.62, 27.62, 27.74, 62.28, 73.00 , 84.46, 49.30, 54.99, 54.90 , 47.74)\n",
    "n = len(sample)           ## assign the number of value in sample as n\n",
    "mean = sum(sample) / n    ## assign the average of sample as mean\n",
    "## create a empty tuple sum_a\n",
    "sum_a = 0\n",
    "## for loop to get variance\n",
    "for i in sample:\n",
    "    a = (i - mean)**2\n",
    "    sum_a += a\n",
    "## calculate standard deviation\n",
    "s = (sum_a/n)**0.5\n",
    "t = ss.t.ppf(0.975, 19)\n",
    "## lower bound of confidence interval\n",
    "l = mean - t*s/n**0.5\n",
    "## higher bound of confidence interval\n",
    "h = mean + t*s/n**0.5\n",
    "print('confidence interval is from '+ str(l) +' to '+ str(h))"
   ]
  },
  {
   "cell_type": "code",
   "execution_count": 117,
   "metadata": {},
   "outputs": [
    {
     "data": {
      "text/plain": [
       "'The game yesterday was awesome!'"
      ]
     },
     "execution_count": 117,
     "metadata": {},
     "output_type": "execute_result"
    }
   ],
   "source": [
    "# Exercise 3\n",
    "## a\n",
    "A = 'the game yesterday was awesome!'\n",
    "A.capitalize()"
   ]
  },
  {
   "cell_type": "code",
   "execution_count": 145,
   "metadata": {},
   "outputs": [
    {
     "name": "stdout",
     "output_type": "stream",
     "text": [
      "<class 'str'>\n",
      "Why did someone type a dash after every word?\n"
     ]
    }
   ],
   "source": [
    "## b\n",
    "B = 'Why- did- someone- type- a- dash- after- every- word-?'\n",
    "## split by '_' and create a list B_spl\n",
    "B_spl = B.split('-')\n",
    "## join elements in the list and become a new string b\n",
    "b = ''.join(B_spl)\n",
    "print(b)"
   ]
  },
  {
   "cell_type": "code",
   "execution_count": 146,
   "metadata": {},
   "outputs": [
    {
     "name": "stdout",
     "output_type": "stream",
     "text": [
      "<class 'str'>\n",
      "I found the quality of this deliverable to be unacceptable.\n"
     ]
    }
   ],
   "source": [
    "## c\n",
    "C ='I found the quality of this deliverable to be unacceptible.'\n",
    "## change C into list type and assigned as C_list\n",
    "C_list = list(C)\n",
    "## replace the last 5th letter \"i\" into \"a\" since list is mutable\n",
    "C_list[-5] = 'a'\n",
    "## join all elements together and assigned as a new string 'c'\n",
    "c = \"\".join(C_list)\n",
    "print(c)"
   ]
  },
  {
   "cell_type": "code",
   "execution_count": 123,
   "metadata": {},
   "outputs": [
    {
     "data": {
      "text/plain": [
       "'Here are the words in this sentence.'"
      ]
     },
     "execution_count": 123,
     "metadata": {},
     "output_type": "execute_result"
    }
   ],
   "source": [
    "## d\n",
    "D = 'Here,are,the,words,in,this,sentence.'\n",
    "## use function replace, replacing every ',' by space\n",
    "D.replace(',',' ')"
   ]
  },
  {
   "cell_type": "code",
   "execution_count": null,
   "metadata": {},
   "outputs": [],
   "source": []
  }
 ],
 "metadata": {
  "kernelspec": {
   "display_name": "Python 3",
   "language": "python",
   "name": "python3"
  },
  "language_info": {
   "codemirror_mode": {
    "name": "ipython",
    "version": 3
   },
   "file_extension": ".py",
   "mimetype": "text/x-python",
   "name": "python",
   "nbconvert_exporter": "python",
   "pygments_lexer": "ipython3",
   "version": "3.6.8"
  }
 },
 "nbformat": 4,
 "nbformat_minor": 2
}
